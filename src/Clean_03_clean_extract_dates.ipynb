{
 "cells": [
  {
   "cell_type": "code",
   "execution_count": 22,
   "metadata": {},
   "outputs": [],
   "source": [
    "import pandas as pd\n",
    "import numpy as np\n",
    "from tqdm import tqdm\n",
    "pd.set_option('display.max_rows', 500)\n",
    "pd.set_option('display.max_columns', 500)\n",
    "pd.set_option('display.width', 1000)\n",
    "import sweetviz as sv\n",
    "\n",
    "def out(ver,data,sw=False):\n",
    "    data.to_csv('renders/awards_v'+ver+'.csv')\n",
    "    data.to_pickle('renders/awards_v'+ver+'.pickle')\n",
    "    data.to_excel('renders/awards_v'+ver+'.xlsx')\n",
    "    if sw:\n",
    "        sv.analyze(data).show_html('renders/report_for_v'+ver+'.html')\n",
    "awards = pd.read_pickle('renders/renders_awards_v1_03_05_persons_translated_Kaggle_out.pickle')\n",
    "c = []\n",
    "for i in awards.columns:\n",
    "    if len(i) > 100:\n",
    "        c.append(i)\n",
    "\n",
    "awards.drop(columns=c,inplace=True)"
   ]
  },
  {
   "cell_type": "code",
   "execution_count": 27,
   "metadata": {},
   "outputs": [
    {
     "name": "stdout",
     "output_type": "stream",
     "text": [
      "185\n"
     ]
    }
   ],
   "source": [
    "print(len(awards.columns))\n",
    "for i in awards.columns:print(i) "
   ]
  },
  {
   "cell_type": "code",
   "execution_count": 24,
   "metadata": {},
   "outputs": [],
   "source": [
    "rem_l = []\n",
    "for i in awards.columns:\n",
    "    if \"'''\" in i:\n",
    "        rem_l.append(i)\n",
    "awards.drop(columns=rem_l,inplace=True)"
   ]
  },
  {
   "cell_type": "code",
   "execution_count": 25,
   "metadata": {},
   "outputs": [],
   "source": [
    "rem_lis = []\n",
    "for i in awards.columns:\n",
    "    # if sum(~pd.isna(awards[i])) > 1*awards.shape[0]//100:\n",
    "    if sum(~pd.isna(awards[i])) > 3 :\n",
    "        # print(i,sum(pd.isna(awards[i])))\n",
    "        pass\n",
    "    else:\n",
    "        rem_lis.append(i)\n",
    "awards.drop(columns=rem_lis,inplace=True)"
   ]
  },
  {
   "cell_type": "code",
   "execution_count": 33,
   "metadata": {},
   "outputs": [
    {
     "name": "stderr",
     "output_type": "stream",
     "text": [
      "Outer:   0%|          | 0/185 [00:00<?, ?it/s]C:\\Users\\LEGION\\AppData\\Local\\Temp\\ipykernel_29504\\2699120383.py:19: SettingWithCopyWarning: \n",
      "A value is trying to be set on a copy of a slice from a DataFrame\n",
      "\n",
      "See the caveats in the documentation: https://pandas.pydata.org/pandas-docs/stable/user_guide/indexing.html#returning-a-view-versus-a-copy\n",
      "  awards[i][j] = cut_down(awards[i][j])\n",
      "Inner: 100%|██████████| 4449/4449 [01:11<00:00, 62.62it/s]\n",
      "Inner: 100%|██████████| 4449/4449 [01:04<00:00, 69.10it/s]\n",
      "Inner: 100%|██████████| 4449/4449 [00:59<00:00, 74.70it/s]\n",
      "Inner:  65%|██████▌   | 2905/4449 [00:43<00:22, 67.18it/s]\n",
      "Outer:   2%|▏         | 3/185 [03:58<4:00:54, 79.42s/it]\n"
     ]
    },
    {
     "ename": "KeyboardInterrupt",
     "evalue": "",
     "output_type": "error",
     "traceback": [
      "\u001b[1;31m---------------------------------------------------------------------------\u001b[0m",
      "\u001b[1;31mKeyboardInterrupt\u001b[0m                         Traceback (most recent call last)",
      "\u001b[1;32mc:\\Users\\LEGION\\Documents\\padmaAwards\\src\\Clean_03_clean_extract_dates.ipynb Cell 5'\u001b[0m in \u001b[0;36m<cell line: 17>\u001b[1;34m()\u001b[0m\n\u001b[0;32m     <a href='vscode-notebook-cell:/c%3A/Users/LEGION/Documents/padmaAwards/src/Clean_03_clean_extract_dates.ipynb#ch0000004?line=16'>17</a>\u001b[0m \u001b[39mfor\u001b[39;00m i \u001b[39min\u001b[39;00m tqdm(awards\u001b[39m.\u001b[39mcolumns,\u001b[39m\"\u001b[39m\u001b[39mOuter\u001b[39m\u001b[39m\"\u001b[39m):\n\u001b[0;32m     <a href='vscode-notebook-cell:/c%3A/Users/LEGION/Documents/padmaAwards/src/Clean_03_clean_extract_dates.ipynb#ch0000004?line=17'>18</a>\u001b[0m     \u001b[39mfor\u001b[39;00m j \u001b[39min\u001b[39;00m tqdm(\u001b[39mrange\u001b[39m(awards\u001b[39m.\u001b[39mshape[\u001b[39m0\u001b[39m]),\u001b[39m\"\u001b[39m\u001b[39mInner\u001b[39m\u001b[39m\"\u001b[39m):\n\u001b[1;32m---> <a href='vscode-notebook-cell:/c%3A/Users/LEGION/Documents/padmaAwards/src/Clean_03_clean_extract_dates.ipynb#ch0000004?line=18'>19</a>\u001b[0m         awards[i][j] \u001b[39m=\u001b[39m cut_down(awards[i][j])\n",
      "File \u001b[1;32m~\\anaconda3\\envs\\indicwiki\\lib\\site-packages\\pandas\\core\\series.py:1075\u001b[0m, in \u001b[0;36mSeries.__setitem__\u001b[1;34m(self, key, value)\u001b[0m\n\u001b[0;32m   <a href='file:///c%3A/Users/LEGION/anaconda3/envs/indicwiki/lib/site-packages/pandas/core/series.py?line=1072'>1073</a>\u001b[0m check_deprecated_indexers(key)\n\u001b[0;32m   <a href='file:///c%3A/Users/LEGION/anaconda3/envs/indicwiki/lib/site-packages/pandas/core/series.py?line=1073'>1074</a>\u001b[0m key \u001b[39m=\u001b[39m com\u001b[39m.\u001b[39mapply_if_callable(key, \u001b[39mself\u001b[39m)\n\u001b[1;32m-> <a href='file:///c%3A/Users/LEGION/anaconda3/envs/indicwiki/lib/site-packages/pandas/core/series.py?line=1074'>1075</a>\u001b[0m cacher_needs_updating \u001b[39m=\u001b[39m \u001b[39mself\u001b[39;49m\u001b[39m.\u001b[39;49m_check_is_chained_assignment_possible()\n\u001b[0;32m   <a href='file:///c%3A/Users/LEGION/anaconda3/envs/indicwiki/lib/site-packages/pandas/core/series.py?line=1076'>1077</a>\u001b[0m \u001b[39mif\u001b[39;00m key \u001b[39mis\u001b[39;00m \u001b[39mEllipsis\u001b[39m:\n\u001b[0;32m   <a href='file:///c%3A/Users/LEGION/anaconda3/envs/indicwiki/lib/site-packages/pandas/core/series.py?line=1077'>1078</a>\u001b[0m     key \u001b[39m=\u001b[39m \u001b[39mslice\u001b[39m(\u001b[39mNone\u001b[39;00m)\n",
      "File \u001b[1;32m~\\anaconda3\\envs\\indicwiki\\lib\\site-packages\\pandas\\core\\series.py:1256\u001b[0m, in \u001b[0;36mSeries._check_is_chained_assignment_possible\u001b[1;34m(self)\u001b[0m\n\u001b[0;32m   <a href='file:///c%3A/Users/LEGION/anaconda3/envs/indicwiki/lib/site-packages/pandas/core/series.py?line=1253'>1254</a>\u001b[0m     ref \u001b[39m=\u001b[39m \u001b[39mself\u001b[39m\u001b[39m.\u001b[39m_get_cacher()\n\u001b[0;32m   <a href='file:///c%3A/Users/LEGION/anaconda3/envs/indicwiki/lib/site-packages/pandas/core/series.py?line=1254'>1255</a>\u001b[0m     \u001b[39mif\u001b[39;00m ref \u001b[39mis\u001b[39;00m \u001b[39mnot\u001b[39;00m \u001b[39mNone\u001b[39;00m \u001b[39mand\u001b[39;00m ref\u001b[39m.\u001b[39m_is_mixed_type:\n\u001b[1;32m-> <a href='file:///c%3A/Users/LEGION/anaconda3/envs/indicwiki/lib/site-packages/pandas/core/series.py?line=1255'>1256</a>\u001b[0m         \u001b[39mself\u001b[39;49m\u001b[39m.\u001b[39;49m_check_setitem_copy(t\u001b[39m=\u001b[39;49m\u001b[39m\"\u001b[39;49m\u001b[39mreferent\u001b[39;49m\u001b[39m\"\u001b[39;49m, force\u001b[39m=\u001b[39;49m\u001b[39mTrue\u001b[39;49;00m)\n\u001b[0;32m   <a href='file:///c%3A/Users/LEGION/anaconda3/envs/indicwiki/lib/site-packages/pandas/core/series.py?line=1256'>1257</a>\u001b[0m     \u001b[39mreturn\u001b[39;00m \u001b[39mTrue\u001b[39;00m\n\u001b[0;32m   <a href='file:///c%3A/Users/LEGION/anaconda3/envs/indicwiki/lib/site-packages/pandas/core/series.py?line=1257'>1258</a>\u001b[0m \u001b[39mreturn\u001b[39;00m \u001b[39msuper\u001b[39m()\u001b[39m.\u001b[39m_check_is_chained_assignment_possible()\n",
      "File \u001b[1;32m~\\anaconda3\\envs\\indicwiki\\lib\\site-packages\\pandas\\core\\generic.py:4018\u001b[0m, in \u001b[0;36mNDFrame._check_setitem_copy\u001b[1;34m(self, t, force)\u001b[0m\n\u001b[0;32m   <a href='file:///c%3A/Users/LEGION/anaconda3/envs/indicwiki/lib/site-packages/pandas/core/generic.py?line=4015'>4016</a>\u001b[0m     \u001b[39mraise\u001b[39;00m com\u001b[39m.\u001b[39mSettingWithCopyError(t)\n\u001b[0;32m   <a href='file:///c%3A/Users/LEGION/anaconda3/envs/indicwiki/lib/site-packages/pandas/core/generic.py?line=4016'>4017</a>\u001b[0m \u001b[39melif\u001b[39;00m value \u001b[39m==\u001b[39m \u001b[39m\"\u001b[39m\u001b[39mwarn\u001b[39m\u001b[39m\"\u001b[39m:\n\u001b[1;32m-> <a href='file:///c%3A/Users/LEGION/anaconda3/envs/indicwiki/lib/site-packages/pandas/core/generic.py?line=4017'>4018</a>\u001b[0m     warnings\u001b[39m.\u001b[39mwarn(t, com\u001b[39m.\u001b[39mSettingWithCopyWarning, stacklevel\u001b[39m=\u001b[39mfind_stack_level())\n",
      "File \u001b[1;32m~\\anaconda3\\envs\\indicwiki\\lib\\site-packages\\pandas\\util\\_exceptions.py:32\u001b[0m, in \u001b[0;36mfind_stack_level\u001b[1;34m()\u001b[0m\n\u001b[0;32m     <a href='file:///c%3A/Users/LEGION/anaconda3/envs/indicwiki/lib/site-packages/pandas/util/_exceptions.py?line=26'>27</a>\u001b[0m \u001b[39mdef\u001b[39;00m \u001b[39mfind_stack_level\u001b[39m() \u001b[39m-\u001b[39m\u001b[39m>\u001b[39m \u001b[39mint\u001b[39m:\n\u001b[0;32m     <a href='file:///c%3A/Users/LEGION/anaconda3/envs/indicwiki/lib/site-packages/pandas/util/_exceptions.py?line=27'>28</a>\u001b[0m     \u001b[39m\"\"\"\u001b[39;00m\n\u001b[0;32m     <a href='file:///c%3A/Users/LEGION/anaconda3/envs/indicwiki/lib/site-packages/pandas/util/_exceptions.py?line=28'>29</a>\u001b[0m \u001b[39m    Find the first place in the stack that is not inside pandas\u001b[39;00m\n\u001b[0;32m     <a href='file:///c%3A/Users/LEGION/anaconda3/envs/indicwiki/lib/site-packages/pandas/util/_exceptions.py?line=29'>30</a>\u001b[0m \u001b[39m    (tests notwithstanding).\u001b[39;00m\n\u001b[0;32m     <a href='file:///c%3A/Users/LEGION/anaconda3/envs/indicwiki/lib/site-packages/pandas/util/_exceptions.py?line=30'>31</a>\u001b[0m \u001b[39m    \"\"\"\u001b[39;00m\n\u001b[1;32m---> <a href='file:///c%3A/Users/LEGION/anaconda3/envs/indicwiki/lib/site-packages/pandas/util/_exceptions.py?line=31'>32</a>\u001b[0m     stack \u001b[39m=\u001b[39m inspect\u001b[39m.\u001b[39;49mstack()\n\u001b[0;32m     <a href='file:///c%3A/Users/LEGION/anaconda3/envs/indicwiki/lib/site-packages/pandas/util/_exceptions.py?line=33'>34</a>\u001b[0m     \u001b[39mimport\u001b[39;00m \u001b[39mpandas\u001b[39;00m \u001b[39mas\u001b[39;00m \u001b[39mpd\u001b[39;00m\n\u001b[0;32m     <a href='file:///c%3A/Users/LEGION/anaconda3/envs/indicwiki/lib/site-packages/pandas/util/_exceptions.py?line=35'>36</a>\u001b[0m     pkg_dir \u001b[39m=\u001b[39m os\u001b[39m.\u001b[39mpath\u001b[39m.\u001b[39mdirname(pd\u001b[39m.\u001b[39m\u001b[39m__file__\u001b[39m)\n",
      "File \u001b[1;32m~\\anaconda3\\envs\\indicwiki\\lib\\inspect.py:1554\u001b[0m, in \u001b[0;36mstack\u001b[1;34m(context)\u001b[0m\n\u001b[0;32m   <a href='file:///c%3A/Users/LEGION/anaconda3/envs/indicwiki/lib/inspect.py?line=1551'>1552</a>\u001b[0m \u001b[39mdef\u001b[39;00m \u001b[39mstack\u001b[39m(context\u001b[39m=\u001b[39m\u001b[39m1\u001b[39m):\n\u001b[0;32m   <a href='file:///c%3A/Users/LEGION/anaconda3/envs/indicwiki/lib/inspect.py?line=1552'>1553</a>\u001b[0m     \u001b[39m\"\"\"Return a list of records for the stack above the caller's frame.\"\"\"\u001b[39;00m\n\u001b[1;32m-> <a href='file:///c%3A/Users/LEGION/anaconda3/envs/indicwiki/lib/inspect.py?line=1553'>1554</a>\u001b[0m     \u001b[39mreturn\u001b[39;00m getouterframes(sys\u001b[39m.\u001b[39;49m_getframe(\u001b[39m1\u001b[39;49m), context)\n",
      "File \u001b[1;32m~\\anaconda3\\envs\\indicwiki\\lib\\inspect.py:1531\u001b[0m, in \u001b[0;36mgetouterframes\u001b[1;34m(frame, context)\u001b[0m\n\u001b[0;32m   <a href='file:///c%3A/Users/LEGION/anaconda3/envs/indicwiki/lib/inspect.py?line=1528'>1529</a>\u001b[0m framelist \u001b[39m=\u001b[39m []\n\u001b[0;32m   <a href='file:///c%3A/Users/LEGION/anaconda3/envs/indicwiki/lib/inspect.py?line=1529'>1530</a>\u001b[0m \u001b[39mwhile\u001b[39;00m frame:\n\u001b[1;32m-> <a href='file:///c%3A/Users/LEGION/anaconda3/envs/indicwiki/lib/inspect.py?line=1530'>1531</a>\u001b[0m     frameinfo \u001b[39m=\u001b[39m (frame,) \u001b[39m+\u001b[39m getframeinfo(frame, context)\n\u001b[0;32m   <a href='file:///c%3A/Users/LEGION/anaconda3/envs/indicwiki/lib/inspect.py?line=1531'>1532</a>\u001b[0m     framelist\u001b[39m.\u001b[39mappend(FrameInfo(\u001b[39m*\u001b[39mframeinfo))\n\u001b[0;32m   <a href='file:///c%3A/Users/LEGION/anaconda3/envs/indicwiki/lib/inspect.py?line=1532'>1533</a>\u001b[0m     frame \u001b[39m=\u001b[39m frame\u001b[39m.\u001b[39mf_back\n",
      "File \u001b[1;32m~\\anaconda3\\envs\\indicwiki\\lib\\inspect.py:1501\u001b[0m, in \u001b[0;36mgetframeinfo\u001b[1;34m(frame, context)\u001b[0m\n\u001b[0;32m   <a href='file:///c%3A/Users/LEGION/anaconda3/envs/indicwiki/lib/inspect.py?line=1497'>1498</a>\u001b[0m \u001b[39mif\u001b[39;00m \u001b[39mnot\u001b[39;00m isframe(frame):\n\u001b[0;32m   <a href='file:///c%3A/Users/LEGION/anaconda3/envs/indicwiki/lib/inspect.py?line=1498'>1499</a>\u001b[0m     \u001b[39mraise\u001b[39;00m \u001b[39mTypeError\u001b[39;00m(\u001b[39m'\u001b[39m\u001b[39m{!r}\u001b[39;00m\u001b[39m is not a frame or traceback object\u001b[39m\u001b[39m'\u001b[39m\u001b[39m.\u001b[39mformat(frame))\n\u001b[1;32m-> <a href='file:///c%3A/Users/LEGION/anaconda3/envs/indicwiki/lib/inspect.py?line=1500'>1501</a>\u001b[0m filename \u001b[39m=\u001b[39m getsourcefile(frame) \u001b[39mor\u001b[39;00m getfile(frame)\n\u001b[0;32m   <a href='file:///c%3A/Users/LEGION/anaconda3/envs/indicwiki/lib/inspect.py?line=1501'>1502</a>\u001b[0m \u001b[39mif\u001b[39;00m context \u001b[39m>\u001b[39m \u001b[39m0\u001b[39m:\n\u001b[0;32m   <a href='file:///c%3A/Users/LEGION/anaconda3/envs/indicwiki/lib/inspect.py?line=1502'>1503</a>\u001b[0m     start \u001b[39m=\u001b[39m lineno \u001b[39m-\u001b[39m \u001b[39m1\u001b[39m \u001b[39m-\u001b[39m context\u001b[39m/\u001b[39m\u001b[39m/\u001b[39m\u001b[39m2\u001b[39m\n",
      "File \u001b[1;32m~\\anaconda3\\envs\\indicwiki\\lib\\inspect.py:706\u001b[0m, in \u001b[0;36mgetsourcefile\u001b[1;34m(object)\u001b[0m\n\u001b[0;32m    <a href='file:///c%3A/Users/LEGION/anaconda3/envs/indicwiki/lib/inspect.py?line=702'>703</a>\u001b[0m \u001b[39melif\u001b[39;00m \u001b[39many\u001b[39m(filename\u001b[39m.\u001b[39mendswith(s) \u001b[39mfor\u001b[39;00m s \u001b[39min\u001b[39;00m\n\u001b[0;32m    <a href='file:///c%3A/Users/LEGION/anaconda3/envs/indicwiki/lib/inspect.py?line=703'>704</a>\u001b[0m              importlib\u001b[39m.\u001b[39mmachinery\u001b[39m.\u001b[39mEXTENSION_SUFFIXES):\n\u001b[0;32m    <a href='file:///c%3A/Users/LEGION/anaconda3/envs/indicwiki/lib/inspect.py?line=704'>705</a>\u001b[0m     \u001b[39mreturn\u001b[39;00m \u001b[39mNone\u001b[39;00m\n\u001b[1;32m--> <a href='file:///c%3A/Users/LEGION/anaconda3/envs/indicwiki/lib/inspect.py?line=705'>706</a>\u001b[0m \u001b[39mif\u001b[39;00m os\u001b[39m.\u001b[39;49mpath\u001b[39m.\u001b[39;49mexists(filename):\n\u001b[0;32m    <a href='file:///c%3A/Users/LEGION/anaconda3/envs/indicwiki/lib/inspect.py?line=706'>707</a>\u001b[0m     \u001b[39mreturn\u001b[39;00m filename\n\u001b[0;32m    <a href='file:///c%3A/Users/LEGION/anaconda3/envs/indicwiki/lib/inspect.py?line=707'>708</a>\u001b[0m \u001b[39m# only return a non-existent filename if the module has a PEP 302 loader\u001b[39;00m\n",
      "File \u001b[1;32m~\\anaconda3\\envs\\indicwiki\\lib\\genericpath.py:19\u001b[0m, in \u001b[0;36mexists\u001b[1;34m(path)\u001b[0m\n\u001b[0;32m     <a href='file:///c%3A/Users/LEGION/anaconda3/envs/indicwiki/lib/genericpath.py?line=16'>17</a>\u001b[0m \u001b[39m\"\"\"Test whether a path exists.  Returns False for broken symbolic links\"\"\"\u001b[39;00m\n\u001b[0;32m     <a href='file:///c%3A/Users/LEGION/anaconda3/envs/indicwiki/lib/genericpath.py?line=17'>18</a>\u001b[0m \u001b[39mtry\u001b[39;00m:\n\u001b[1;32m---> <a href='file:///c%3A/Users/LEGION/anaconda3/envs/indicwiki/lib/genericpath.py?line=18'>19</a>\u001b[0m     os\u001b[39m.\u001b[39;49mstat(path)\n\u001b[0;32m     <a href='file:///c%3A/Users/LEGION/anaconda3/envs/indicwiki/lib/genericpath.py?line=19'>20</a>\u001b[0m \u001b[39mexcept\u001b[39;00m (\u001b[39mOSError\u001b[39;00m, \u001b[39mValueError\u001b[39;00m):\n\u001b[0;32m     <a href='file:///c%3A/Users/LEGION/anaconda3/envs/indicwiki/lib/genericpath.py?line=20'>21</a>\u001b[0m     \u001b[39mreturn\u001b[39;00m \u001b[39mFalse\u001b[39;00m\n",
      "\u001b[1;31mKeyboardInterrupt\u001b[0m: "
     ]
    }
   ],
   "source": [
    "def cut_down(text):\n",
    "    if pd.isna(text):\n",
    "        return np.nan\n",
    "    elif type(text) == np.int64:\n",
    "        return text\n",
    "    text = text.strip()\n",
    "    text.replace('\\n','')\n",
    "    text.replace('\\t','')\n",
    "    text.replace('\\v','')\n",
    "    \n",
    "    if '.' in text:\n",
    "        text_lis =  text.split('.')\n",
    "        if len(text_lis) > 10:\n",
    "            text = '.'.join(text_lis[:10])\n",
    "    return text.strip()\n",
    "\n",
    "for i in tqdm(awards.columns,\"Outer\"):\n",
    "    for j in tqdm(range(awards.shape[0]),\"Inner\"):\n",
    "        awards[i][j] = cut_down(awards[i][j])\n",
    "\n"
   ]
  },
  {
   "cell_type": "code",
   "execution_count": null,
   "metadata": {},
   "outputs": [],
   "source": []
  }
 ],
 "metadata": {
  "kernelspec": {
   "display_name": "AkWiki",
   "language": "python",
   "name": "indicwiki"
  },
  "language_info": {
   "codemirror_mode": {
    "name": "ipython",
    "version": 3
   },
   "file_extension": ".py",
   "mimetype": "text/x-python",
   "name": "python",
   "nbconvert_exporter": "python",
   "pygments_lexer": "ipython3",
   "version": "3.9.12"
  },
  "orig_nbformat": 4
 },
 "nbformat": 4,
 "nbformat_minor": 2
}
