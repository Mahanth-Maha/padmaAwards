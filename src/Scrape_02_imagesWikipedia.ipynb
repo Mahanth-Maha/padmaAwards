{
 "cells": [
  {
   "cell_type": "code",
   "execution_count": 3,
   "metadata": {},
   "outputs": [],
   "source": [
    "import pandas as pd\n",
    "import numpy as np\n",
    "from tqdm import tqdm \n",
    "from urllib.request import urlopen\n",
    "from bs4 import BeautifulSoup\n",
    "import re\n",
    "\n",
    "# html = urlopen('https://en.wikipedia.org/wiki/Jnanendra_Nath_Mukherjee')\n",
    "# bs = BeautifulSoup(html, 'html.parser')\n",
    "# images = bs.find_all('img', {'src':re.compile('.jpg')})\n",
    "# for image in images: \n",
    "#     print(image['src'])"
   ]
  },
  {
   "cell_type": "code",
   "execution_count": 11,
   "metadata": {},
   "outputs": [],
   "source": [
    "def get_img(URL):\n",
    "    if URL != None:\n",
    "        if not pd.isna(URL):\n",
    "            html = urlopen(URL)\n",
    "            bs = BeautifulSoup(html, 'html.parser')\n",
    "            images = bs.find_all('img', {'src':re.compile('.jpg')})\n",
    "            if len(images) != 0:\n",
    "                for image in images: \n",
    "                    # print(str(image['src']).split('/')[-1])\n",
    "                    return str(image['src']).split('/')[-1].split('-')[-1]\n",
    "            else:\n",
    "                images = bs.find_all('img', {'src':re.compile('.jpeg')})\n",
    "                if len(images) != 0:\n",
    "                    for image in images: \n",
    "                        # print(str(image['src']).split('/')[-1])\n",
    "                        return str(image['src']).split('/')[-1].split('-')[-1]\n",
    "                return np.nan\n",
    "        return np.nan\n",
    "    return np.nan"
   ]
  },
  {
   "cell_type": "code",
   "execution_count": 12,
   "metadata": {},
   "outputs": [
    {
     "name": "stderr",
     "output_type": "stream",
     "text": [
      "  0%|          | 0/4449 [00:00<?, ?it/s]C:\\Users\\LEGION\\AppData\\Local\\Temp\\ipykernel_15928\\2523376365.py:10: SettingWithCopyWarning: \n",
      "A value is trying to be set on a copy of a slice from a DataFrame\n",
      "\n",
      "See the caveats in the documentation: https://pandas.pydata.org/pandas-docs/stable/user_guide/indexing.html#returning-a-view-versus-a-copy\n",
      "  awards['image'][i] = get_img(k)\n",
      "  1%|          | 33/4449 [00:28<1:03:09,  1.17it/s]\n"
     ]
    },
    {
     "ename": "HTTPError",
     "evalue": "HTTP Error 404: Not Found",
     "output_type": "error",
     "traceback": [
      "\u001b[1;31m---------------------------------------------------------------------------\u001b[0m",
      "\u001b[1;31mHTTPError\u001b[0m                                 Traceback (most recent call last)",
      "\u001b[1;32mc:\\Users\\LEGION\\Documents\\padmaAwards\\src\\Scrape_02_imagesWikipedia.ipynb Cell 3'\u001b[0m in \u001b[0;36m<cell line: 4>\u001b[1;34m()\u001b[0m\n\u001b[0;32m      <a href='vscode-notebook-cell:/c%3A/Users/LEGION/Documents/padmaAwards/src/Scrape_02_imagesWikipedia.ipynb#ch0000002?line=7'>8</a>\u001b[0m     awards[\u001b[39m'\u001b[39m\u001b[39mimage\u001b[39m\u001b[39m'\u001b[39m][i] \u001b[39m=\u001b[39m np\u001b[39m.\u001b[39mnan\n\u001b[0;32m      <a href='vscode-notebook-cell:/c%3A/Users/LEGION/Documents/padmaAwards/src/Scrape_02_imagesWikipedia.ipynb#ch0000002?line=8'>9</a>\u001b[0m \u001b[39melse\u001b[39;00m:\n\u001b[1;32m---> <a href='vscode-notebook-cell:/c%3A/Users/LEGION/Documents/padmaAwards/src/Scrape_02_imagesWikipedia.ipynb#ch0000002?line=9'>10</a>\u001b[0m     awards[\u001b[39m'\u001b[39m\u001b[39mimage\u001b[39m\u001b[39m'\u001b[39m][i] \u001b[39m=\u001b[39m get_img(k)\n",
      "\u001b[1;32mc:\\Users\\LEGION\\Documents\\padmaAwards\\src\\Scrape_02_imagesWikipedia.ipynb Cell 2'\u001b[0m in \u001b[0;36mget_img\u001b[1;34m(URL)\u001b[0m\n\u001b[0;32m      <a href='vscode-notebook-cell:/c%3A/Users/LEGION/Documents/padmaAwards/src/Scrape_02_imagesWikipedia.ipynb#ch0000001?line=1'>2</a>\u001b[0m \u001b[39mif\u001b[39;00m URL \u001b[39m!=\u001b[39m \u001b[39mNone\u001b[39;00m:\n\u001b[0;32m      <a href='vscode-notebook-cell:/c%3A/Users/LEGION/Documents/padmaAwards/src/Scrape_02_imagesWikipedia.ipynb#ch0000001?line=2'>3</a>\u001b[0m     \u001b[39mif\u001b[39;00m \u001b[39mnot\u001b[39;00m pd\u001b[39m.\u001b[39misna(URL):\n\u001b[1;32m----> <a href='vscode-notebook-cell:/c%3A/Users/LEGION/Documents/padmaAwards/src/Scrape_02_imagesWikipedia.ipynb#ch0000001?line=3'>4</a>\u001b[0m         html \u001b[39m=\u001b[39m urlopen(URL)\n\u001b[0;32m      <a href='vscode-notebook-cell:/c%3A/Users/LEGION/Documents/padmaAwards/src/Scrape_02_imagesWikipedia.ipynb#ch0000001?line=4'>5</a>\u001b[0m         bs \u001b[39m=\u001b[39m BeautifulSoup(html, \u001b[39m'\u001b[39m\u001b[39mhtml.parser\u001b[39m\u001b[39m'\u001b[39m)\n\u001b[0;32m      <a href='vscode-notebook-cell:/c%3A/Users/LEGION/Documents/padmaAwards/src/Scrape_02_imagesWikipedia.ipynb#ch0000001?line=5'>6</a>\u001b[0m         images \u001b[39m=\u001b[39m bs\u001b[39m.\u001b[39mfind_all(\u001b[39m'\u001b[39m\u001b[39mimg\u001b[39m\u001b[39m'\u001b[39m, {\u001b[39m'\u001b[39m\u001b[39msrc\u001b[39m\u001b[39m'\u001b[39m:re\u001b[39m.\u001b[39mcompile(\u001b[39m'\u001b[39m\u001b[39m.jpg\u001b[39m\u001b[39m'\u001b[39m)})\n",
      "File \u001b[1;32m~\\anaconda3\\envs\\indicwiki\\lib\\urllib\\request.py:214\u001b[0m, in \u001b[0;36murlopen\u001b[1;34m(url, data, timeout, cafile, capath, cadefault, context)\u001b[0m\n\u001b[0;32m    <a href='file:///c%3A/Users/LEGION/anaconda3/envs/indicwiki/lib/urllib/request.py?line=211'>212</a>\u001b[0m \u001b[39melse\u001b[39;00m:\n\u001b[0;32m    <a href='file:///c%3A/Users/LEGION/anaconda3/envs/indicwiki/lib/urllib/request.py?line=212'>213</a>\u001b[0m     opener \u001b[39m=\u001b[39m _opener\n\u001b[1;32m--> <a href='file:///c%3A/Users/LEGION/anaconda3/envs/indicwiki/lib/urllib/request.py?line=213'>214</a>\u001b[0m \u001b[39mreturn\u001b[39;00m opener\u001b[39m.\u001b[39;49mopen(url, data, timeout)\n",
      "File \u001b[1;32m~\\anaconda3\\envs\\indicwiki\\lib\\urllib\\request.py:523\u001b[0m, in \u001b[0;36mOpenerDirector.open\u001b[1;34m(self, fullurl, data, timeout)\u001b[0m\n\u001b[0;32m    <a href='file:///c%3A/Users/LEGION/anaconda3/envs/indicwiki/lib/urllib/request.py?line=520'>521</a>\u001b[0m \u001b[39mfor\u001b[39;00m processor \u001b[39min\u001b[39;00m \u001b[39mself\u001b[39m\u001b[39m.\u001b[39mprocess_response\u001b[39m.\u001b[39mget(protocol, []):\n\u001b[0;32m    <a href='file:///c%3A/Users/LEGION/anaconda3/envs/indicwiki/lib/urllib/request.py?line=521'>522</a>\u001b[0m     meth \u001b[39m=\u001b[39m \u001b[39mgetattr\u001b[39m(processor, meth_name)\n\u001b[1;32m--> <a href='file:///c%3A/Users/LEGION/anaconda3/envs/indicwiki/lib/urllib/request.py?line=522'>523</a>\u001b[0m     response \u001b[39m=\u001b[39m meth(req, response)\n\u001b[0;32m    <a href='file:///c%3A/Users/LEGION/anaconda3/envs/indicwiki/lib/urllib/request.py?line=524'>525</a>\u001b[0m \u001b[39mreturn\u001b[39;00m response\n",
      "File \u001b[1;32m~\\anaconda3\\envs\\indicwiki\\lib\\urllib\\request.py:632\u001b[0m, in \u001b[0;36mHTTPErrorProcessor.http_response\u001b[1;34m(self, request, response)\u001b[0m\n\u001b[0;32m    <a href='file:///c%3A/Users/LEGION/anaconda3/envs/indicwiki/lib/urllib/request.py?line=628'>629</a>\u001b[0m \u001b[39m# According to RFC 2616, \"2xx\" code indicates that the client's\u001b[39;00m\n\u001b[0;32m    <a href='file:///c%3A/Users/LEGION/anaconda3/envs/indicwiki/lib/urllib/request.py?line=629'>630</a>\u001b[0m \u001b[39m# request was successfully received, understood, and accepted.\u001b[39;00m\n\u001b[0;32m    <a href='file:///c%3A/Users/LEGION/anaconda3/envs/indicwiki/lib/urllib/request.py?line=630'>631</a>\u001b[0m \u001b[39mif\u001b[39;00m \u001b[39mnot\u001b[39;00m (\u001b[39m200\u001b[39m \u001b[39m<\u001b[39m\u001b[39m=\u001b[39m code \u001b[39m<\u001b[39m \u001b[39m300\u001b[39m):\n\u001b[1;32m--> <a href='file:///c%3A/Users/LEGION/anaconda3/envs/indicwiki/lib/urllib/request.py?line=631'>632</a>\u001b[0m     response \u001b[39m=\u001b[39m \u001b[39mself\u001b[39;49m\u001b[39m.\u001b[39;49mparent\u001b[39m.\u001b[39;49merror(\n\u001b[0;32m    <a href='file:///c%3A/Users/LEGION/anaconda3/envs/indicwiki/lib/urllib/request.py?line=632'>633</a>\u001b[0m         \u001b[39m'\u001b[39;49m\u001b[39mhttp\u001b[39;49m\u001b[39m'\u001b[39;49m, request, response, code, msg, hdrs)\n\u001b[0;32m    <a href='file:///c%3A/Users/LEGION/anaconda3/envs/indicwiki/lib/urllib/request.py?line=634'>635</a>\u001b[0m \u001b[39mreturn\u001b[39;00m response\n",
      "File \u001b[1;32m~\\anaconda3\\envs\\indicwiki\\lib\\urllib\\request.py:555\u001b[0m, in \u001b[0;36mOpenerDirector.error\u001b[1;34m(self, proto, *args)\u001b[0m\n\u001b[0;32m    <a href='file:///c%3A/Users/LEGION/anaconda3/envs/indicwiki/lib/urllib/request.py?line=552'>553</a>\u001b[0m     http_err \u001b[39m=\u001b[39m \u001b[39m0\u001b[39m\n\u001b[0;32m    <a href='file:///c%3A/Users/LEGION/anaconda3/envs/indicwiki/lib/urllib/request.py?line=553'>554</a>\u001b[0m args \u001b[39m=\u001b[39m (\u001b[39mdict\u001b[39m, proto, meth_name) \u001b[39m+\u001b[39m args\n\u001b[1;32m--> <a href='file:///c%3A/Users/LEGION/anaconda3/envs/indicwiki/lib/urllib/request.py?line=554'>555</a>\u001b[0m result \u001b[39m=\u001b[39m \u001b[39mself\u001b[39;49m\u001b[39m.\u001b[39;49m_call_chain(\u001b[39m*\u001b[39;49margs)\n\u001b[0;32m    <a href='file:///c%3A/Users/LEGION/anaconda3/envs/indicwiki/lib/urllib/request.py?line=555'>556</a>\u001b[0m \u001b[39mif\u001b[39;00m result:\n\u001b[0;32m    <a href='file:///c%3A/Users/LEGION/anaconda3/envs/indicwiki/lib/urllib/request.py?line=556'>557</a>\u001b[0m     \u001b[39mreturn\u001b[39;00m result\n",
      "File \u001b[1;32m~\\anaconda3\\envs\\indicwiki\\lib\\urllib\\request.py:494\u001b[0m, in \u001b[0;36mOpenerDirector._call_chain\u001b[1;34m(self, chain, kind, meth_name, *args)\u001b[0m\n\u001b[0;32m    <a href='file:///c%3A/Users/LEGION/anaconda3/envs/indicwiki/lib/urllib/request.py?line=491'>492</a>\u001b[0m \u001b[39mfor\u001b[39;00m handler \u001b[39min\u001b[39;00m handlers:\n\u001b[0;32m    <a href='file:///c%3A/Users/LEGION/anaconda3/envs/indicwiki/lib/urllib/request.py?line=492'>493</a>\u001b[0m     func \u001b[39m=\u001b[39m \u001b[39mgetattr\u001b[39m(handler, meth_name)\n\u001b[1;32m--> <a href='file:///c%3A/Users/LEGION/anaconda3/envs/indicwiki/lib/urllib/request.py?line=493'>494</a>\u001b[0m     result \u001b[39m=\u001b[39m func(\u001b[39m*\u001b[39;49margs)\n\u001b[0;32m    <a href='file:///c%3A/Users/LEGION/anaconda3/envs/indicwiki/lib/urllib/request.py?line=494'>495</a>\u001b[0m     \u001b[39mif\u001b[39;00m result \u001b[39mis\u001b[39;00m \u001b[39mnot\u001b[39;00m \u001b[39mNone\u001b[39;00m:\n\u001b[0;32m    <a href='file:///c%3A/Users/LEGION/anaconda3/envs/indicwiki/lib/urllib/request.py?line=495'>496</a>\u001b[0m         \u001b[39mreturn\u001b[39;00m result\n",
      "File \u001b[1;32m~\\anaconda3\\envs\\indicwiki\\lib\\urllib\\request.py:747\u001b[0m, in \u001b[0;36mHTTPRedirectHandler.http_error_302\u001b[1;34m(self, req, fp, code, msg, headers)\u001b[0m\n\u001b[0;32m    <a href='file:///c%3A/Users/LEGION/anaconda3/envs/indicwiki/lib/urllib/request.py?line=743'>744</a>\u001b[0m fp\u001b[39m.\u001b[39mread()\n\u001b[0;32m    <a href='file:///c%3A/Users/LEGION/anaconda3/envs/indicwiki/lib/urllib/request.py?line=744'>745</a>\u001b[0m fp\u001b[39m.\u001b[39mclose()\n\u001b[1;32m--> <a href='file:///c%3A/Users/LEGION/anaconda3/envs/indicwiki/lib/urllib/request.py?line=746'>747</a>\u001b[0m \u001b[39mreturn\u001b[39;00m \u001b[39mself\u001b[39;49m\u001b[39m.\u001b[39;49mparent\u001b[39m.\u001b[39;49mopen(new, timeout\u001b[39m=\u001b[39;49mreq\u001b[39m.\u001b[39;49mtimeout)\n",
      "File \u001b[1;32m~\\anaconda3\\envs\\indicwiki\\lib\\urllib\\request.py:523\u001b[0m, in \u001b[0;36mOpenerDirector.open\u001b[1;34m(self, fullurl, data, timeout)\u001b[0m\n\u001b[0;32m    <a href='file:///c%3A/Users/LEGION/anaconda3/envs/indicwiki/lib/urllib/request.py?line=520'>521</a>\u001b[0m \u001b[39mfor\u001b[39;00m processor \u001b[39min\u001b[39;00m \u001b[39mself\u001b[39m\u001b[39m.\u001b[39mprocess_response\u001b[39m.\u001b[39mget(protocol, []):\n\u001b[0;32m    <a href='file:///c%3A/Users/LEGION/anaconda3/envs/indicwiki/lib/urllib/request.py?line=521'>522</a>\u001b[0m     meth \u001b[39m=\u001b[39m \u001b[39mgetattr\u001b[39m(processor, meth_name)\n\u001b[1;32m--> <a href='file:///c%3A/Users/LEGION/anaconda3/envs/indicwiki/lib/urllib/request.py?line=522'>523</a>\u001b[0m     response \u001b[39m=\u001b[39m meth(req, response)\n\u001b[0;32m    <a href='file:///c%3A/Users/LEGION/anaconda3/envs/indicwiki/lib/urllib/request.py?line=524'>525</a>\u001b[0m \u001b[39mreturn\u001b[39;00m response\n",
      "File \u001b[1;32m~\\anaconda3\\envs\\indicwiki\\lib\\urllib\\request.py:632\u001b[0m, in \u001b[0;36mHTTPErrorProcessor.http_response\u001b[1;34m(self, request, response)\u001b[0m\n\u001b[0;32m    <a href='file:///c%3A/Users/LEGION/anaconda3/envs/indicwiki/lib/urllib/request.py?line=628'>629</a>\u001b[0m \u001b[39m# According to RFC 2616, \"2xx\" code indicates that the client's\u001b[39;00m\n\u001b[0;32m    <a href='file:///c%3A/Users/LEGION/anaconda3/envs/indicwiki/lib/urllib/request.py?line=629'>630</a>\u001b[0m \u001b[39m# request was successfully received, understood, and accepted.\u001b[39;00m\n\u001b[0;32m    <a href='file:///c%3A/Users/LEGION/anaconda3/envs/indicwiki/lib/urllib/request.py?line=630'>631</a>\u001b[0m \u001b[39mif\u001b[39;00m \u001b[39mnot\u001b[39;00m (\u001b[39m200\u001b[39m \u001b[39m<\u001b[39m\u001b[39m=\u001b[39m code \u001b[39m<\u001b[39m \u001b[39m300\u001b[39m):\n\u001b[1;32m--> <a href='file:///c%3A/Users/LEGION/anaconda3/envs/indicwiki/lib/urllib/request.py?line=631'>632</a>\u001b[0m     response \u001b[39m=\u001b[39m \u001b[39mself\u001b[39;49m\u001b[39m.\u001b[39;49mparent\u001b[39m.\u001b[39;49merror(\n\u001b[0;32m    <a href='file:///c%3A/Users/LEGION/anaconda3/envs/indicwiki/lib/urllib/request.py?line=632'>633</a>\u001b[0m         \u001b[39m'\u001b[39;49m\u001b[39mhttp\u001b[39;49m\u001b[39m'\u001b[39;49m, request, response, code, msg, hdrs)\n\u001b[0;32m    <a href='file:///c%3A/Users/LEGION/anaconda3/envs/indicwiki/lib/urllib/request.py?line=634'>635</a>\u001b[0m \u001b[39mreturn\u001b[39;00m response\n",
      "File \u001b[1;32m~\\anaconda3\\envs\\indicwiki\\lib\\urllib\\request.py:561\u001b[0m, in \u001b[0;36mOpenerDirector.error\u001b[1;34m(self, proto, *args)\u001b[0m\n\u001b[0;32m    <a href='file:///c%3A/Users/LEGION/anaconda3/envs/indicwiki/lib/urllib/request.py?line=558'>559</a>\u001b[0m \u001b[39mif\u001b[39;00m http_err:\n\u001b[0;32m    <a href='file:///c%3A/Users/LEGION/anaconda3/envs/indicwiki/lib/urllib/request.py?line=559'>560</a>\u001b[0m     args \u001b[39m=\u001b[39m (\u001b[39mdict\u001b[39m, \u001b[39m'\u001b[39m\u001b[39mdefault\u001b[39m\u001b[39m'\u001b[39m, \u001b[39m'\u001b[39m\u001b[39mhttp_error_default\u001b[39m\u001b[39m'\u001b[39m) \u001b[39m+\u001b[39m orig_args\n\u001b[1;32m--> <a href='file:///c%3A/Users/LEGION/anaconda3/envs/indicwiki/lib/urllib/request.py?line=560'>561</a>\u001b[0m     \u001b[39mreturn\u001b[39;00m \u001b[39mself\u001b[39;49m\u001b[39m.\u001b[39;49m_call_chain(\u001b[39m*\u001b[39;49margs)\n",
      "File \u001b[1;32m~\\anaconda3\\envs\\indicwiki\\lib\\urllib\\request.py:494\u001b[0m, in \u001b[0;36mOpenerDirector._call_chain\u001b[1;34m(self, chain, kind, meth_name, *args)\u001b[0m\n\u001b[0;32m    <a href='file:///c%3A/Users/LEGION/anaconda3/envs/indicwiki/lib/urllib/request.py?line=491'>492</a>\u001b[0m \u001b[39mfor\u001b[39;00m handler \u001b[39min\u001b[39;00m handlers:\n\u001b[0;32m    <a href='file:///c%3A/Users/LEGION/anaconda3/envs/indicwiki/lib/urllib/request.py?line=492'>493</a>\u001b[0m     func \u001b[39m=\u001b[39m \u001b[39mgetattr\u001b[39m(handler, meth_name)\n\u001b[1;32m--> <a href='file:///c%3A/Users/LEGION/anaconda3/envs/indicwiki/lib/urllib/request.py?line=493'>494</a>\u001b[0m     result \u001b[39m=\u001b[39m func(\u001b[39m*\u001b[39;49margs)\n\u001b[0;32m    <a href='file:///c%3A/Users/LEGION/anaconda3/envs/indicwiki/lib/urllib/request.py?line=494'>495</a>\u001b[0m     \u001b[39mif\u001b[39;00m result \u001b[39mis\u001b[39;00m \u001b[39mnot\u001b[39;00m \u001b[39mNone\u001b[39;00m:\n\u001b[0;32m    <a href='file:///c%3A/Users/LEGION/anaconda3/envs/indicwiki/lib/urllib/request.py?line=495'>496</a>\u001b[0m         \u001b[39mreturn\u001b[39;00m result\n",
      "File \u001b[1;32m~\\anaconda3\\envs\\indicwiki\\lib\\urllib\\request.py:641\u001b[0m, in \u001b[0;36mHTTPDefaultErrorHandler.http_error_default\u001b[1;34m(self, req, fp, code, msg, hdrs)\u001b[0m\n\u001b[0;32m    <a href='file:///c%3A/Users/LEGION/anaconda3/envs/indicwiki/lib/urllib/request.py?line=639'>640</a>\u001b[0m \u001b[39mdef\u001b[39;00m \u001b[39mhttp_error_default\u001b[39m(\u001b[39mself\u001b[39m, req, fp, code, msg, hdrs):\n\u001b[1;32m--> <a href='file:///c%3A/Users/LEGION/anaconda3/envs/indicwiki/lib/urllib/request.py?line=640'>641</a>\u001b[0m     \u001b[39mraise\u001b[39;00m HTTPError(req\u001b[39m.\u001b[39mfull_url, code, msg, hdrs, fp)\n",
      "\u001b[1;31mHTTPError\u001b[0m: HTTP Error 404: Not Found"
     ]
    }
   ],
   "source": [
    "awards = pd.read_csv('renders/renders_awards_v1_03_01_awards_Kaggle_out.csv')\n",
    "awards['image'] = np.nan\n",
    "awards.reset_index(inplace=True)\n",
    "for i in tqdm(range(awards.shape[0])):\n",
    "    k = awards['WikiLink'][i]\n",
    "    # print(k)\n",
    "    if pd.isna(k):\n",
    "        awards['image'][i] = np.nan\n",
    "    else:\n",
    "        awards['image'][i] = get_img(k)\n"
   ]
  },
  {
   "cell_type": "code",
   "execution_count": null,
   "metadata": {},
   "outputs": [],
   "source": [
    "def out(ver,data):\n",
    "    data.to_csv('renders/awards_v4_'+ver+'.csv')\n",
    "    data.to_pickle('renders/awards_v4_'+ver+'.pickle')\n",
    "    data.to_excel('renders/awards_v4_'+ver+'.xlsx')\n",
    "out('01_images',awards)"
   ]
  },
  {
   "cell_type": "code",
   "execution_count": null,
   "metadata": {},
   "outputs": [],
   "source": []
  }
 ],
 "metadata": {
  "kernelspec": {
   "display_name": "AkWiki",
   "language": "python",
   "name": "indicwiki"
  },
  "language_info": {
   "codemirror_mode": {
    "name": "ipython",
    "version": 3
   },
   "file_extension": ".py",
   "mimetype": "text/x-python",
   "name": "python",
   "nbconvert_exporter": "python",
   "pygments_lexer": "ipython3",
   "version": "3.9.12"
  },
  "orig_nbformat": 4
 },
 "nbformat": 4,
 "nbformat_minor": 2
}
