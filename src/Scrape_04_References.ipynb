{
 "cells": [
  {
   "cell_type": "code",
   "execution_count": 21,
   "metadata": {},
   "outputs": [
    {
     "data": {
      "text/html": [
       "<div>\n",
       "<style scoped>\n",
       "    .dataframe tbody tr th:only-of-type {\n",
       "        vertical-align: middle;\n",
       "    }\n",
       "\n",
       "    .dataframe tbody tr th {\n",
       "        vertical-align: top;\n",
       "    }\n",
       "\n",
       "    .dataframe thead th {\n",
       "        text-align: right;\n",
       "    }\n",
       "</style>\n",
       "<table border=\"1\" class=\"dataframe\">\n",
       "  <thead>\n",
       "    <tr style=\"text-align: right;\">\n",
       "      <th></th>\n",
       "      <th>index</th>\n",
       "      <th>Unnamed: 0</th>\n",
       "      <th>Unnamed: 0.1</th>\n",
       "      <th>Recipients</th>\n",
       "      <th>WikiLink</th>\n",
       "      <th>Padma Shri Year</th>\n",
       "      <th>Padma Shri State</th>\n",
       "      <th>Padma Shri Field</th>\n",
       "      <th>Padma Shri Awarded By</th>\n",
       "      <th>Padma Bhushan Year</th>\n",
       "      <th>Padma Bhushan State</th>\n",
       "      <th>Padma Bhushan Field</th>\n",
       "      <th>Padma Bhushan Awarded By</th>\n",
       "      <th>Padma Vibhushan Year</th>\n",
       "      <th>Padma Vibhushan State</th>\n",
       "      <th>Padma Vibhushan Field</th>\n",
       "      <th>Padma Vibhushan Awarded By</th>\n",
       "      <th>Born</th>\n",
       "      <th>Birth Date</th>\n",
       "      <th>Place of Birth</th>\n",
       "      <th>Died</th>\n",
       "      <th>Death Date</th>\n",
       "      <th>Place of Death</th>\n",
       "      <th>Nationality</th>\n",
       "      <th>Spouse</th>\n",
       "      <th>Alma mater</th>\n",
       "      <th>Institutions</th>\n",
       "      <th>Other Awards including Padma</th>\n",
       "      <th>Occupation</th>\n",
       "      <th>Election Year</th>\n",
       "      <th>Posthumus</th>\n",
       "      <th>Page Id</th>\n",
       "      <th>image</th>\n",
       "    </tr>\n",
       "  </thead>\n",
       "  <tbody>\n",
       "    <tr>\n",
       "      <th>0</th>\n",
       "      <td>0</td>\n",
       "      <td>0</td>\n",
       "      <td>0</td>\n",
       "      <td>A Zakia</td>\n",
       "      <td>https://en.wikipedia.org/wiki/A_Zakia</td>\n",
       "      <td>2018.0</td>\n",
       "      <td>Mizoram, India</td>\n",
       "      <td>Literature and Education</td>\n",
       "      <td>Ram Nath Kovind</td>\n",
       "      <td>NaN</td>\n",
       "      <td>NaN</td>\n",
       "      <td>NaN</td>\n",
       "      <td>NaN</td>\n",
       "      <td>NaN</td>\n",
       "      <td>NaN</td>\n",
       "      <td>NaN</td>\n",
       "      <td>NaN</td>\n",
       "      <td>NaN</td>\n",
       "      <td>NaN</td>\n",
       "      <td>NaN</td>\n",
       "      <td>NaN</td>\n",
       "      <td>NaN</td>\n",
       "      <td>NaN</td>\n",
       "      <td>NaN</td>\n",
       "      <td>NaN</td>\n",
       "      <td>NaN</td>\n",
       "      <td>NaN</td>\n",
       "      <td>NaN</td>\n",
       "      <td>NaN</td>\n",
       "      <td>No</td>\n",
       "      <td>No</td>\n",
       "      <td>59084706.0</td>\n",
       "      <td>NaN</td>\n",
       "    </tr>\n",
       "    <tr>\n",
       "      <th>1</th>\n",
       "      <td>1</td>\n",
       "      <td>1</td>\n",
       "      <td>1</td>\n",
       "      <td>A. G. K. Gokhale</td>\n",
       "      <td>https://en.wikipedia.org/wiki/A._G._K._Gokhale</td>\n",
       "      <td>2016.0</td>\n",
       "      <td>Andhra Pradesh, India</td>\n",
       "      <td>Medicine</td>\n",
       "      <td>Pranab Mukherjee</td>\n",
       "      <td>NaN</td>\n",
       "      <td>NaN</td>\n",
       "      <td>NaN</td>\n",
       "      <td>NaN</td>\n",
       "      <td>NaN</td>\n",
       "      <td>NaN</td>\n",
       "      <td>NaN</td>\n",
       "      <td>NaN</td>\n",
       "      <td>Vijayawada,Andhra Pradesh,India</td>\n",
       "      <td>NaN</td>\n",
       "      <td>NaN</td>\n",
       "      <td>NaN</td>\n",
       "      <td>NaN</td>\n",
       "      <td>NaN</td>\n",
       "      <td>NaN</td>\n",
       "      <td>NaN</td>\n",
       "      <td>NaN</td>\n",
       "      <td>NaN</td>\n",
       "      <td>NaN</td>\n",
       "      <td>Physician,Surgeon</td>\n",
       "      <td>No</td>\n",
       "      <td>No</td>\n",
       "      <td>32009044.0</td>\n",
       "      <td>Dr_agk_gokhale.jpg</td>\n",
       "    </tr>\n",
       "    <tr>\n",
       "      <th>2</th>\n",
       "      <td>2</td>\n",
       "      <td>2</td>\n",
       "      <td>2</td>\n",
       "      <td>A. Jayanta Kumar Singh</td>\n",
       "      <td>NaN</td>\n",
       "      <td>2008.0</td>\n",
       "      <td>Manipur, India</td>\n",
       "      <td>Medicine</td>\n",
       "      <td>Pratibha Patil</td>\n",
       "      <td>NaN</td>\n",
       "      <td>NaN</td>\n",
       "      <td>NaN</td>\n",
       "      <td>NaN</td>\n",
       "      <td>NaN</td>\n",
       "      <td>NaN</td>\n",
       "      <td>NaN</td>\n",
       "      <td>NaN</td>\n",
       "      <td>NaN</td>\n",
       "      <td>NaN</td>\n",
       "      <td>NaN</td>\n",
       "      <td>NaN</td>\n",
       "      <td>NaN</td>\n",
       "      <td>NaN</td>\n",
       "      <td>NaN</td>\n",
       "      <td>NaN</td>\n",
       "      <td>NaN</td>\n",
       "      <td>NaN</td>\n",
       "      <td>NaN</td>\n",
       "      <td>NaN</td>\n",
       "      <td>No</td>\n",
       "      <td>No</td>\n",
       "      <td>NaN</td>\n",
       "      <td>NaN</td>\n",
       "    </tr>\n",
       "    <tr>\n",
       "      <th>3</th>\n",
       "      <td>3</td>\n",
       "      <td>3</td>\n",
       "      <td>3</td>\n",
       "      <td>A. K. Gupta</td>\n",
       "      <td>NaN</td>\n",
       "      <td>2009.0</td>\n",
       "      <td>Maharashtra, India</td>\n",
       "      <td>Medicine</td>\n",
       "      <td>Pratibha Patil</td>\n",
       "      <td>NaN</td>\n",
       "      <td>NaN</td>\n",
       "      <td>NaN</td>\n",
       "      <td>NaN</td>\n",
       "      <td>NaN</td>\n",
       "      <td>NaN</td>\n",
       "      <td>NaN</td>\n",
       "      <td>NaN</td>\n",
       "      <td>NaN</td>\n",
       "      <td>NaN</td>\n",
       "      <td>NaN</td>\n",
       "      <td>NaN</td>\n",
       "      <td>NaN</td>\n",
       "      <td>NaN</td>\n",
       "      <td>NaN</td>\n",
       "      <td>NaN</td>\n",
       "      <td>NaN</td>\n",
       "      <td>NaN</td>\n",
       "      <td>NaN</td>\n",
       "      <td>NaN</td>\n",
       "      <td>Yes</td>\n",
       "      <td>No</td>\n",
       "      <td>NaN</td>\n",
       "      <td>NaN</td>\n",
       "    </tr>\n",
       "  </tbody>\n",
       "</table>\n",
       "</div>"
      ],
      "text/plain": [
       "   index  Unnamed: 0  Unnamed: 0.1              Recipients                                        WikiLink  Padma Shri Year       Padma Shri State          Padma Shri Field Padma Shri Awarded By  Padma Bhushan Year Padma Bhushan State Padma Bhushan Field Padma Bhushan Awarded By  Padma Vibhushan Year Padma Vibhushan State Padma Vibhushan Field Padma Vibhushan Awarded By                             Born Birth Date Place of Birth Died Death Date Place of Death Nationality Spouse Alma mater Institutions Other Awards including Padma         Occupation Election Year Posthumus     Page Id               image\n",
       "0      0           0             0                 A Zakia           https://en.wikipedia.org/wiki/A_Zakia           2018.0         Mizoram, India  Literature and Education       Ram Nath Kovind                 NaN                 NaN                 NaN                      NaN                   NaN                   NaN                   NaN                        NaN                              NaN        NaN            NaN  NaN        NaN            NaN         NaN    NaN        NaN          NaN                          NaN                NaN            No        No  59084706.0                 NaN\n",
       "1      1           1             1        A. G. K. Gokhale  https://en.wikipedia.org/wiki/A._G._K._Gokhale           2016.0  Andhra Pradesh, India                  Medicine      Pranab Mukherjee                 NaN                 NaN                 NaN                      NaN                   NaN                   NaN                   NaN                        NaN  Vijayawada,Andhra Pradesh,India        NaN            NaN  NaN        NaN            NaN         NaN    NaN        NaN          NaN                          NaN  Physician,Surgeon            No        No  32009044.0  Dr_agk_gokhale.jpg\n",
       "2      2           2             2  A. Jayanta Kumar Singh                                             NaN           2008.0         Manipur, India                  Medicine        Pratibha Patil                 NaN                 NaN                 NaN                      NaN                   NaN                   NaN                   NaN                        NaN                              NaN        NaN            NaN  NaN        NaN            NaN         NaN    NaN        NaN          NaN                          NaN                NaN            No        No         NaN                 NaN\n",
       "3      3           3             3             A. K. Gupta                                             NaN           2009.0     Maharashtra, India                  Medicine        Pratibha Patil                 NaN                 NaN                 NaN                      NaN                   NaN                   NaN                   NaN                        NaN                              NaN        NaN            NaN  NaN        NaN            NaN         NaN    NaN        NaN          NaN                          NaN                NaN           Yes        No         NaN                 NaN"
      ]
     },
     "execution_count": 21,
     "metadata": {},
     "output_type": "execute_result"
    }
   ],
   "source": [
    "import pandas as pd\n",
    "import numpy as np\n",
    "from tqdm import tqdm\n",
    "import wikipedia\n",
    "pd.set_option('display.max_rows', 500)\n",
    "pd.set_option('display.max_columns', 500)\n",
    "pd.set_option('display.width', 1000)\n",
    "import sweetviz as sv\n",
    "def out(ver,data,sw=False):\n",
    "    data.to_csv('renders/awards_v'+ver+'.csv')\n",
    "    data.to_pickle('renders/awards_v'+ver+'.pickle')\n",
    "    data.to_excel('renders/awards_v'+ver+'.xlsx')\n",
    "    if sw:\n",
    "        sv.analyze(data).show_html('renders/report_for_v'+ver+'.html')\n",
    "\n",
    "\n",
    "awards = pd.read_pickle('renders/renders_awards_v5_Kaggle_out.pickle')\n",
    "awards.head(4)"
   ]
  },
  {
   "cell_type": "code",
   "execution_count": 26,
   "metadata": {},
   "outputs": [
    {
     "data": {
      "text/html": [
       "<div>\n",
       "<style scoped>\n",
       "    .dataframe tbody tr th:only-of-type {\n",
       "        vertical-align: middle;\n",
       "    }\n",
       "\n",
       "    .dataframe tbody tr th {\n",
       "        vertical-align: top;\n",
       "    }\n",
       "\n",
       "    .dataframe thead th {\n",
       "        text-align: right;\n",
       "    }\n",
       "</style>\n",
       "<table border=\"1\" class=\"dataframe\">\n",
       "  <thead>\n",
       "    <tr style=\"text-align: right;\">\n",
       "      <th></th>\n",
       "      <th>level_0</th>\n",
       "      <th>index</th>\n",
       "      <th>Unnamed: 0</th>\n",
       "      <th>Unnamed: 0.1</th>\n",
       "      <th>Recipients</th>\n",
       "      <th>WikiLink</th>\n",
       "      <th>Padma Shri Year</th>\n",
       "      <th>Padma Shri State</th>\n",
       "      <th>Padma Shri Field</th>\n",
       "      <th>Padma Shri Awarded By</th>\n",
       "      <th>Padma Bhushan Year</th>\n",
       "      <th>Padma Bhushan State</th>\n",
       "      <th>Padma Bhushan Field</th>\n",
       "      <th>Padma Bhushan Awarded By</th>\n",
       "      <th>Padma Vibhushan Year</th>\n",
       "      <th>Padma Vibhushan State</th>\n",
       "      <th>Padma Vibhushan Field</th>\n",
       "      <th>Padma Vibhushan Awarded By</th>\n",
       "      <th>Born</th>\n",
       "      <th>Birth Date</th>\n",
       "      <th>Place of Birth</th>\n",
       "      <th>Died</th>\n",
       "      <th>Death Date</th>\n",
       "      <th>Place of Death</th>\n",
       "      <th>Nationality</th>\n",
       "      <th>Spouse</th>\n",
       "      <th>Alma mater</th>\n",
       "      <th>Institutions</th>\n",
       "      <th>Other Awards including Padma</th>\n",
       "      <th>Occupation</th>\n",
       "      <th>Election Year</th>\n",
       "      <th>Posthumus</th>\n",
       "      <th>Page Id</th>\n",
       "      <th>image</th>\n",
       "      <th>Ref</th>\n",
       "    </tr>\n",
       "  </thead>\n",
       "  <tbody>\n",
       "    <tr>\n",
       "      <th>0</th>\n",
       "      <td>0</td>\n",
       "      <td>0</td>\n",
       "      <td>0</td>\n",
       "      <td>0</td>\n",
       "      <td>A Zakia</td>\n",
       "      <td>https://en.wikipedia.org/wiki/A_Zakia</td>\n",
       "      <td>2018.0</td>\n",
       "      <td>Mizoram, India</td>\n",
       "      <td>Literature and Education</td>\n",
       "      <td>Ram Nath Kovind</td>\n",
       "      <td>NaN</td>\n",
       "      <td>NaN</td>\n",
       "      <td>NaN</td>\n",
       "      <td>NaN</td>\n",
       "      <td>NaN</td>\n",
       "      <td>NaN</td>\n",
       "      <td>NaN</td>\n",
       "      <td>NaN</td>\n",
       "      <td>NaN</td>\n",
       "      <td>NaN</td>\n",
       "      <td>NaN</td>\n",
       "      <td>NaN</td>\n",
       "      <td>NaN</td>\n",
       "      <td>NaN</td>\n",
       "      <td>NaN</td>\n",
       "      <td>NaN</td>\n",
       "      <td>NaN</td>\n",
       "      <td>NaN</td>\n",
       "      <td>NaN</td>\n",
       "      <td>NaN</td>\n",
       "      <td>No</td>\n",
       "      <td>No</td>\n",
       "      <td>59084706.0</td>\n",
       "      <td>NaN</td>\n",
       "      <td>http://www.rediff.com/news/2003/mar/06arvind.h...</td>\n",
       "    </tr>\n",
       "    <tr>\n",
       "      <th>1</th>\n",
       "      <td>1</td>\n",
       "      <td>1</td>\n",
       "      <td>1</td>\n",
       "      <td>1</td>\n",
       "      <td>A. G. K. Gokhale</td>\n",
       "      <td>https://en.wikipedia.org/wiki/A._G._K._Gokhale</td>\n",
       "      <td>2016.0</td>\n",
       "      <td>Andhra Pradesh, India</td>\n",
       "      <td>Medicine</td>\n",
       "      <td>Pranab Mukherjee</td>\n",
       "      <td>NaN</td>\n",
       "      <td>NaN</td>\n",
       "      <td>NaN</td>\n",
       "      <td>NaN</td>\n",
       "      <td>NaN</td>\n",
       "      <td>NaN</td>\n",
       "      <td>NaN</td>\n",
       "      <td>NaN</td>\n",
       "      <td>Vijayawada,Andhra Pradesh,India</td>\n",
       "      <td>NaN</td>\n",
       "      <td>NaN</td>\n",
       "      <td>NaN</td>\n",
       "      <td>NaN</td>\n",
       "      <td>NaN</td>\n",
       "      <td>NaN</td>\n",
       "      <td>NaN</td>\n",
       "      <td>NaN</td>\n",
       "      <td>NaN</td>\n",
       "      <td>NaN</td>\n",
       "      <td>Physician,Surgeon</td>\n",
       "      <td>No</td>\n",
       "      <td>No</td>\n",
       "      <td>32009044.0</td>\n",
       "      <td>Dr_agk_gokhale.jpg</td>\n",
       "      <td>http://www.rediff.com/news/2003/mar/06arvind.h...</td>\n",
       "    </tr>\n",
       "    <tr>\n",
       "      <th>2</th>\n",
       "      <td>2</td>\n",
       "      <td>2</td>\n",
       "      <td>2</td>\n",
       "      <td>2</td>\n",
       "      <td>A. Jayanta Kumar Singh</td>\n",
       "      <td>NaN</td>\n",
       "      <td>2008.0</td>\n",
       "      <td>Manipur, India</td>\n",
       "      <td>Medicine</td>\n",
       "      <td>Pratibha Patil</td>\n",
       "      <td>NaN</td>\n",
       "      <td>NaN</td>\n",
       "      <td>NaN</td>\n",
       "      <td>NaN</td>\n",
       "      <td>NaN</td>\n",
       "      <td>NaN</td>\n",
       "      <td>NaN</td>\n",
       "      <td>NaN</td>\n",
       "      <td>NaN</td>\n",
       "      <td>NaN</td>\n",
       "      <td>NaN</td>\n",
       "      <td>NaN</td>\n",
       "      <td>NaN</td>\n",
       "      <td>NaN</td>\n",
       "      <td>NaN</td>\n",
       "      <td>NaN</td>\n",
       "      <td>NaN</td>\n",
       "      <td>NaN</td>\n",
       "      <td>NaN</td>\n",
       "      <td>NaN</td>\n",
       "      <td>No</td>\n",
       "      <td>No</td>\n",
       "      <td>NaN</td>\n",
       "      <td>NaN</td>\n",
       "      <td>http://www.rediff.com/news/2003/mar/06arvind.h...</td>\n",
       "    </tr>\n",
       "    <tr>\n",
       "      <th>3</th>\n",
       "      <td>3</td>\n",
       "      <td>3</td>\n",
       "      <td>3</td>\n",
       "      <td>3</td>\n",
       "      <td>A. K. Gupta</td>\n",
       "      <td>NaN</td>\n",
       "      <td>2009.0</td>\n",
       "      <td>Maharashtra, India</td>\n",
       "      <td>Medicine</td>\n",
       "      <td>Pratibha Patil</td>\n",
       "      <td>NaN</td>\n",
       "      <td>NaN</td>\n",
       "      <td>NaN</td>\n",
       "      <td>NaN</td>\n",
       "      <td>NaN</td>\n",
       "      <td>NaN</td>\n",
       "      <td>NaN</td>\n",
       "      <td>NaN</td>\n",
       "      <td>NaN</td>\n",
       "      <td>NaN</td>\n",
       "      <td>NaN</td>\n",
       "      <td>NaN</td>\n",
       "      <td>NaN</td>\n",
       "      <td>NaN</td>\n",
       "      <td>NaN</td>\n",
       "      <td>NaN</td>\n",
       "      <td>NaN</td>\n",
       "      <td>NaN</td>\n",
       "      <td>NaN</td>\n",
       "      <td>NaN</td>\n",
       "      <td>Yes</td>\n",
       "      <td>No</td>\n",
       "      <td>NaN</td>\n",
       "      <td>NaN</td>\n",
       "      <td>http://www.rediff.com/news/2003/mar/06arvind.h...</td>\n",
       "    </tr>\n",
       "    <tr>\n",
       "      <th>4</th>\n",
       "      <td>4</td>\n",
       "      <td>4</td>\n",
       "      <td>4</td>\n",
       "      <td>4</td>\n",
       "      <td>A. K. Hangal</td>\n",
       "      <td>https://en.wikipedia.org/wiki/A._K._Hangal</td>\n",
       "      <td>NaN</td>\n",
       "      <td>NaN</td>\n",
       "      <td>NaN</td>\n",
       "      <td>NaN</td>\n",
       "      <td>2006.0</td>\n",
       "      <td>Maharashtra, India</td>\n",
       "      <td>Arts</td>\n",
       "      <td>A. P. J. Abdul Kalam</td>\n",
       "      <td>NaN</td>\n",
       "      <td>NaN</td>\n",
       "      <td>NaN</td>\n",
       "      <td>NaN</td>\n",
       "      <td>Avtar Kishan Hangal\\n(1914-02-01)1 February 19...</td>\n",
       "      <td>(1914-02-01)1 February 1914[1]</td>\n",
       "      <td>NaN</td>\n",
       "      <td>26 August 2012(2012-08-26)(aged 98)\\nMumbai,Ma...</td>\n",
       "      <td>26 August 2012(2012-08-26)(aged 98)</td>\n",
       "      <td>Mumbai,Maharashtra,India</td>\n",
       "      <td>NaN</td>\n",
       "      <td>NaN</td>\n",
       "      <td>NaN</td>\n",
       "      <td>NaN</td>\n",
       "      <td>NaN</td>\n",
       "      <td>Actor</td>\n",
       "      <td>No</td>\n",
       "      <td>No</td>\n",
       "      <td>4662097.0</td>\n",
       "      <td>A_K_Hangal_at_14th_Hira_Manik_Awards.jpg</td>\n",
       "      <td>http://www.rediff.com/news/2003/mar/06arvind.h...</td>\n",
       "    </tr>\n",
       "    <tr>\n",
       "      <th>5</th>\n",
       "      <td>5</td>\n",
       "      <td>5</td>\n",
       "      <td>5</td>\n",
       "      <td>5</td>\n",
       "      <td>A. K. Ramanujan</td>\n",
       "      <td>https://en.wikipedia.org/wiki/A._K._Ramanujan</td>\n",
       "      <td>1976.0</td>\n",
       "      <td>Germany</td>\n",
       "      <td>Literature and Education</td>\n",
       "      <td>Fakhruddin Ali Ahmed</td>\n",
       "      <td>NaN</td>\n",
       "      <td>NaN</td>\n",
       "      <td>NaN</td>\n",
       "      <td>NaN</td>\n",
       "      <td>NaN</td>\n",
       "      <td>NaN</td>\n",
       "      <td>NaN</td>\n",
       "      <td>NaN</td>\n",
       "      <td>(1929-03-16)16 March 1929\\nMysore,Princely Sta...</td>\n",
       "      <td>(1929-03-16)16 March 1929</td>\n",
       "      <td>Mysore,Princely State of Mysore,British India</td>\n",
       "      <td>13 July 1993(1993-07-13)(aged 64)\\nChicago,Ill...</td>\n",
       "      <td>13 July 1993(1993-07-13)(aged 64)</td>\n",
       "      <td>Chicago,Illinois, United States</td>\n",
       "      <td>Indian</td>\n",
       "      <td>NaN</td>\n",
       "      <td>NaN</td>\n",
       "      <td>NaN</td>\n",
       "      <td>MacArthur Fellowship,Sahitya Akademi AwardandP...</td>\n",
       "      <td>NaN</td>\n",
       "      <td>No</td>\n",
       "      <td>No</td>\n",
       "      <td>3806249.0</td>\n",
       "      <td>A.K.RamanujanPic.jpg</td>\n",
       "      <td>http://www.rediff.com/news/2003/mar/06arvind.h...</td>\n",
       "    </tr>\n",
       "    <tr>\n",
       "      <th>6</th>\n",
       "      <td>6</td>\n",
       "      <td>6</td>\n",
       "      <td>6</td>\n",
       "      <td>6</td>\n",
       "      <td>A. Kanyakumari</td>\n",
       "      <td>https://en.wikipedia.org/wiki/A._Kanyakumari</td>\n",
       "      <td>2015.0</td>\n",
       "      <td>Tamil Nadu, India</td>\n",
       "      <td>Arts</td>\n",
       "      <td>Pranab Mukherjee</td>\n",
       "      <td>NaN</td>\n",
       "      <td>NaN</td>\n",
       "      <td>NaN</td>\n",
       "      <td>NaN</td>\n",
       "      <td>NaN</td>\n",
       "      <td>NaN</td>\n",
       "      <td>NaN</td>\n",
       "      <td>NaN</td>\n",
       "      <td>NaN</td>\n",
       "      <td>NaN</td>\n",
       "      <td>NaN</td>\n",
       "      <td>NaN</td>\n",
       "      <td>NaN</td>\n",
       "      <td>NaN</td>\n",
       "      <td>NaN</td>\n",
       "      <td>NaN</td>\n",
       "      <td>NaN</td>\n",
       "      <td>NaN</td>\n",
       "      <td>NaN</td>\n",
       "      <td>NaN</td>\n",
       "      <td>No</td>\n",
       "      <td>No</td>\n",
       "      <td>5334050.0</td>\n",
       "      <td>A.Kanyakumari.jpg</td>\n",
       "      <td>http://www.rediff.com/news/2003/mar/06arvind.h...</td>\n",
       "    </tr>\n",
       "    <tr>\n",
       "      <th>7</th>\n",
       "      <td>7</td>\n",
       "      <td>7</td>\n",
       "      <td>7</td>\n",
       "      <td>7</td>\n",
       "      <td>A. Lakshmanaswami Mudaliar</td>\n",
       "      <td>https://en.wikipedia.org/wiki/A._Lakshmanaswam...</td>\n",
       "      <td>NaN</td>\n",
       "      <td>NaN</td>\n",
       "      <td>NaN</td>\n",
       "      <td>NaN</td>\n",
       "      <td>1954.0</td>\n",
       "      <td>Tamil Nadu</td>\n",
       "      <td>Literature and Education</td>\n",
       "      <td>Rajendra Prasad</td>\n",
       "      <td>1963.0</td>\n",
       "      <td>Tamil Nadu</td>\n",
       "      <td>Medicine</td>\n",
       "      <td>Sarvepalli Radhakrishnan</td>\n",
       "      <td>14 October 1887</td>\n",
       "      <td>14 October 1887</td>\n",
       "      <td>NaN</td>\n",
       "      <td>15 April 1974 (aged 86)[1]\\nMadras, India</td>\n",
       "      <td>15 April 1974 (aged 86)[1]</td>\n",
       "      <td>Madras, India</td>\n",
       "      <td>Indian</td>\n",
       "      <td>NaN</td>\n",
       "      <td>NaN</td>\n",
       "      <td>NaN</td>\n",
       "      <td>Padma Bhushan,Padma Vibhushan</td>\n",
       "      <td>NaN</td>\n",
       "      <td>No</td>\n",
       "      <td>No</td>\n",
       "      <td>6182214.0</td>\n",
       "      <td>A._L._Mudaliar.jpg</td>\n",
       "      <td>http://www.rediff.com/news/2003/mar/06arvind.h...</td>\n",
       "    </tr>\n",
       "    <tr>\n",
       "      <th>8</th>\n",
       "      <td>8</td>\n",
       "      <td>8</td>\n",
       "      <td>8</td>\n",
       "      <td>8</td>\n",
       "      <td>A. M. Naik</td>\n",
       "      <td>https://en.wikipedia.org/wiki/A._M._Naik</td>\n",
       "      <td>NaN</td>\n",
       "      <td>NaN</td>\n",
       "      <td>NaN</td>\n",
       "      <td>NaN</td>\n",
       "      <td>2009.0</td>\n",
       "      <td>Maharashtra, India</td>\n",
       "      <td>Trade and Industry</td>\n",
       "      <td>Pratibha Patil</td>\n",
       "      <td>NaN</td>\n",
       "      <td>NaN</td>\n",
       "      <td>NaN</td>\n",
       "      <td>NaN</td>\n",
       "      <td>(1942-06-09)9 June 1942(age 79)\\nGujarat,India</td>\n",
       "      <td>(1942-06-09)9 June 1942(age 79)</td>\n",
       "      <td>Gujarat,India</td>\n",
       "      <td>NaN</td>\n",
       "      <td>NaN</td>\n",
       "      <td>NaN</td>\n",
       "      <td>NaN</td>\n",
       "      <td>Geeta Naik</td>\n",
       "      <td>NaN</td>\n",
       "      <td>NaN</td>\n",
       "      <td>Padma Vibhushan(2019)\\nPadma Bhushan(2009)</td>\n",
       "      <td>Group Chairman ofLarsen &amp; Toubro</td>\n",
       "      <td>Yes</td>\n",
       "      <td>No</td>\n",
       "      <td>2582061.0</td>\n",
       "      <td>Mr._A.M._Naik.jpg</td>\n",
       "      <td>http://www.rediff.com/news/2003/mar/06arvind.h...</td>\n",
       "    </tr>\n",
       "    <tr>\n",
       "      <th>9</th>\n",
       "      <td>9</td>\n",
       "      <td>9</td>\n",
       "      <td>9</td>\n",
       "      <td>9</td>\n",
       "      <td>A. Marthanda Pillai</td>\n",
       "      <td>https://en.wikipedia.org/wiki/A._Marthanda_Pillai</td>\n",
       "      <td>2011.0</td>\n",
       "      <td>Kerala, India</td>\n",
       "      <td>Medicine</td>\n",
       "      <td>Pratibha Patil</td>\n",
       "      <td>NaN</td>\n",
       "      <td>NaN</td>\n",
       "      <td>NaN</td>\n",
       "      <td>NaN</td>\n",
       "      <td>NaN</td>\n",
       "      <td>NaN</td>\n",
       "      <td>NaN</td>\n",
       "      <td>NaN</td>\n",
       "      <td>NaN</td>\n",
       "      <td>NaN</td>\n",
       "      <td>NaN</td>\n",
       "      <td>NaN</td>\n",
       "      <td>NaN</td>\n",
       "      <td>NaN</td>\n",
       "      <td>NaN</td>\n",
       "      <td>NaN</td>\n",
       "      <td>NaN</td>\n",
       "      <td>NaN</td>\n",
       "      <td>2010-2011Padma ShriAward</td>\n",
       "      <td>NaN</td>\n",
       "      <td>No</td>\n",
       "      <td>No</td>\n",
       "      <td>30667822.0</td>\n",
       "      <td>NaN</td>\n",
       "      <td>http://www.rediff.com/news/2003/mar/06arvind.h...</td>\n",
       "    </tr>\n",
       "    <tr>\n",
       "      <th>10</th>\n",
       "      <td>10</td>\n",
       "      <td>10</td>\n",
       "      <td>10</td>\n",
       "      <td>10</td>\n",
       "      <td>A. Nagappa Chettiar</td>\n",
       "      <td>https://en.wikipedia.org/wiki/A._Nagappa_Chettiar</td>\n",
       "      <td>1967.0</td>\n",
       "      <td>Tamil Nadu, India</td>\n",
       "      <td>Trade and Industry</td>\n",
       "      <td>Sarvepalli Radhakrishnan</td>\n",
       "      <td>NaN</td>\n",
       "      <td>NaN</td>\n",
       "      <td>NaN</td>\n",
       "      <td>NaN</td>\n",
       "      <td>NaN</td>\n",
       "      <td>NaN</td>\n",
       "      <td>NaN</td>\n",
       "      <td>NaN</td>\n",
       "      <td>6 August 1915\\nMelasivapuri, Pudukottai, Tamil...</td>\n",
       "      <td>2015-08-06 00:00:00</td>\n",
       "      <td>Melasivapuri, Pudukottai, Tamil Nadu, India</td>\n",
       "      <td>March 13, 1982(1982-03-13)(aged 66)</td>\n",
       "      <td>March 13, 1982(1982-03-13)(aged 66)</td>\n",
       "      <td>NaN</td>\n",
       "      <td>NaN</td>\n",
       "      <td>NaN</td>\n",
       "      <td>NaN</td>\n",
       "      <td>NaN</td>\n",
       "      <td>Padma Shri</td>\n",
       "      <td>Industrialist</td>\n",
       "      <td>Yes</td>\n",
       "      <td>No</td>\n",
       "      <td>46657297.0</td>\n",
       "      <td>NaN</td>\n",
       "      <td>http://www.rediff.com/news/2003/mar/06arvind.h...</td>\n",
       "    </tr>\n",
       "    <tr>\n",
       "      <th>11</th>\n",
       "      <td>11</td>\n",
       "      <td>11</td>\n",
       "      <td>11</td>\n",
       "      <td>11</td>\n",
       "      <td>A. P. J. Abdul Kalam</td>\n",
       "      <td>https://en.wikipedia.org/wiki/A._P._J._Abdul_K...</td>\n",
       "      <td>NaN</td>\n",
       "      <td>NaN</td>\n",
       "      <td>NaN</td>\n",
       "      <td>NaN</td>\n",
       "      <td>1981.0</td>\n",
       "      <td>Delhi</td>\n",
       "      <td>Civil Service</td>\n",
       "      <td>Neelam Sanjiva Reddy</td>\n",
       "      <td>1990.0</td>\n",
       "      <td>Tamil Nadu</td>\n",
       "      <td>Science and Engineering</td>\n",
       "      <td>R. Venkataraman</td>\n",
       "      <td>Avul Pakir Jainulabdeen Abdul Kalam\\n(1931-10-...</td>\n",
       "      <td>(1931-10-15)15 October 1931</td>\n",
       "      <td>NaN</td>\n",
       "      <td>27 July 2015(2015-07-27)(aged 83)\\nShillong,Me...</td>\n",
       "      <td>27 July 2015(2015-07-27)(aged 83)</td>\n",
       "      <td>Shillong,Meghalaya, India</td>\n",
       "      <td>Indian</td>\n",
       "      <td>NaN</td>\n",
       "      <td>St. Joseph's College, Tiruchirappalli(BEng)Mad...</td>\n",
       "      <td>Defence Research and Development Organisation\\...</td>\n",
       "      <td>Full list</td>\n",
       "      <td>NaN</td>\n",
       "      <td>No</td>\n",
       "      <td>No</td>\n",
       "      <td>62682.0</td>\n",
       "      <td>A._P._J._Abdul_Kalam.jpg</td>\n",
       "      <td>http://www.rediff.com/news/2003/mar/06arvind.h...</td>\n",
       "    </tr>\n",
       "    <tr>\n",
       "      <th>12</th>\n",
       "      <td>12</td>\n",
       "      <td>12</td>\n",
       "      <td>12</td>\n",
       "      <td>12</td>\n",
       "      <td>A. R. Rahman</td>\n",
       "      <td>https://en.wikipedia.org/wiki/A._R._Rahman</td>\n",
       "      <td>2000.0</td>\n",
       "      <td>Tamil Nadu</td>\n",
       "      <td>Arts</td>\n",
       "      <td>K. R. Narayanan</td>\n",
       "      <td>2010.0</td>\n",
       "      <td>Tamil Nadu</td>\n",
       "      <td>Arts</td>\n",
       "      <td>Pratibha Patil</td>\n",
       "      <td>NaN</td>\n",
       "      <td>NaN</td>\n",
       "      <td>NaN</td>\n",
       "      <td>NaN</td>\n",
       "      <td>(1967-01-06)6 January 1967(age 54)\\nMadras,Mad...</td>\n",
       "      <td>(1967-01-06)6 January 1967(age 54)</td>\n",
       "      <td>Madras,Madras State, India</td>\n",
       "      <td>NaN</td>\n",
       "      <td>NaN</td>\n",
       "      <td>NaN</td>\n",
       "      <td>NaN</td>\n",
       "      <td>Saira Banu​(m.1995)​</td>\n",
       "      <td>NaN</td>\n",
       "      <td>NaN</td>\n",
       "      <td>NaN</td>\n",
       "      <td>NaN</td>\n",
       "      <td>No</td>\n",
       "      <td>No</td>\n",
       "      <td>222417.0</td>\n",
       "      <td>AR_Rahman_At_The_%E2%80%98Marvel_Anthem%E2%80%...</td>\n",
       "      <td>http://www.rediff.com/news/2003/mar/06arvind.h...</td>\n",
       "    </tr>\n",
       "    <tr>\n",
       "      <th>13</th>\n",
       "      <td>13</td>\n",
       "      <td>13</td>\n",
       "      <td>13</td>\n",
       "      <td>13</td>\n",
       "      <td>A. Ramachandran</td>\n",
       "      <td>https://en.wikipedia.org/wiki/A._Ramachandran</td>\n",
       "      <td>NaN</td>\n",
       "      <td>NaN</td>\n",
       "      <td>NaN</td>\n",
       "      <td>NaN</td>\n",
       "      <td>2005.0</td>\n",
       "      <td>Delhi/India</td>\n",
       "      <td>Arts</td>\n",
       "      <td>A. P. J. Abdul Kalam</td>\n",
       "      <td>NaN</td>\n",
       "      <td>NaN</td>\n",
       "      <td>NaN</td>\n",
       "      <td>NaN</td>\n",
       "      <td>NaN</td>\n",
       "      <td>NaN</td>\n",
       "      <td>NaN</td>\n",
       "      <td>NaN</td>\n",
       "      <td>NaN</td>\n",
       "      <td>NaN</td>\n",
       "      <td>NaN</td>\n",
       "      <td>NaN</td>\n",
       "      <td>NaN</td>\n",
       "      <td>NaN</td>\n",
       "      <td>NaN</td>\n",
       "      <td>NaN</td>\n",
       "      <td>No</td>\n",
       "      <td>No</td>\n",
       "      <td>6887148.0</td>\n",
       "      <td>Padma_Bhushan_India_IIe_Klasse.jpg</td>\n",
       "      <td>http://www.rediff.com/news/2003/mar/06arvind.h...</td>\n",
       "    </tr>\n",
       "    <tr>\n",
       "      <th>14</th>\n",
       "      <td>14</td>\n",
       "      <td>14</td>\n",
       "      <td>14</td>\n",
       "      <td>14</td>\n",
       "      <td>A. Ramasamy Mudaliar</td>\n",
       "      <td>https://en.wikipedia.org/wiki/Arcot_Ramasamy_M...</td>\n",
       "      <td>NaN</td>\n",
       "      <td>NaN</td>\n",
       "      <td>NaN</td>\n",
       "      <td>NaN</td>\n",
       "      <td>NaN</td>\n",
       "      <td>NaN</td>\n",
       "      <td>NaN</td>\n",
       "      <td>NaN</td>\n",
       "      <td>1970.0</td>\n",
       "      <td>Andhra Pradesh, India</td>\n",
       "      <td>Civil Service</td>\n",
       "      <td>V. V. Giri</td>\n",
       "      <td>(1887-10-14)14 October 1887\\nKurnool,Madras Pr...</td>\n",
       "      <td>(1887-10-14)14 October 1887</td>\n",
       "      <td>Kurnool,Madras Presidency,British India</td>\n",
       "      <td>17 July 1976(1976-07-17)(aged 88)\\nMadras, India</td>\n",
       "      <td>17 July 1976(1976-07-17)(aged 88)</td>\n",
       "      <td>Madras, India</td>\n",
       "      <td>Indian</td>\n",
       "      <td>NaN</td>\n",
       "      <td>Madras Christian College</td>\n",
       "      <td>NaN</td>\n",
       "      <td>NaN</td>\n",
       "      <td>Diplomat</td>\n",
       "      <td>No</td>\n",
       "      <td>No</td>\n",
       "      <td>18498367.0</td>\n",
       "      <td>Ramaswamy_Mudaliar.jpg</td>\n",
       "      <td>http://www.rediff.com/news/2003/mar/06arvind.h...</td>\n",
       "    </tr>\n",
       "    <tr>\n",
       "      <th>15</th>\n",
       "      <td>15</td>\n",
       "      <td>15</td>\n",
       "      <td>15</td>\n",
       "      <td>15</td>\n",
       "      <td>A. S. Arya</td>\n",
       "      <td>https://en.wikipedia.org/wiki/A._S._Arya</td>\n",
       "      <td>2002.0</td>\n",
       "      <td>Uttarakhand, India</td>\n",
       "      <td>Science and Engineering</td>\n",
       "      <td>K. R. Narayanan</td>\n",
       "      <td>NaN</td>\n",
       "      <td>NaN</td>\n",
       "      <td>NaN</td>\n",
       "      <td>NaN</td>\n",
       "      <td>NaN</td>\n",
       "      <td>NaN</td>\n",
       "      <td>NaN</td>\n",
       "      <td>NaN</td>\n",
       "      <td>13 June 1931\\nAmbehta,Saharanpur District,Utta...</td>\n",
       "      <td>1931-06-13 00:00:00</td>\n",
       "      <td>Ambehta,Saharanpur District,Uttar Pradesh, India</td>\n",
       "      <td>1 Sept 2019\\nNew Delhi</td>\n",
       "      <td>2019-09-01 00:00:00</td>\n",
       "      <td>New Delhi</td>\n",
       "      <td>NaN</td>\n",
       "      <td>NaN</td>\n",
       "      <td>NaN</td>\n",
       "      <td>NaN</td>\n",
       "      <td>Padma Shri\\nKhosla National Award\\nISET Jai Kr...</td>\n",
       "      <td>Structural Engineer</td>\n",
       "      <td>No</td>\n",
       "      <td>No</td>\n",
       "      <td>48524857.0</td>\n",
       "      <td>NaN</td>\n",
       "      <td>http://www.rediff.com/news/2003/mar/06arvind.h...</td>\n",
       "    </tr>\n",
       "    <tr>\n",
       "      <th>16</th>\n",
       "      <td>16</td>\n",
       "      <td>16</td>\n",
       "      <td>16</td>\n",
       "      <td>16</td>\n",
       "      <td>A. S. Kiran Kumar</td>\n",
       "      <td>https://en.wikipedia.org/wiki/A._S._Kiran_Kumar</td>\n",
       "      <td>2014.0</td>\n",
       "      <td>Gujarat, India</td>\n",
       "      <td>Science and Engineering</td>\n",
       "      <td>Pranab Mukherjee</td>\n",
       "      <td>NaN</td>\n",
       "      <td>NaN</td>\n",
       "      <td>NaN</td>\n",
       "      <td>NaN</td>\n",
       "      <td>NaN</td>\n",
       "      <td>NaN</td>\n",
       "      <td>NaN</td>\n",
       "      <td>NaN</td>\n",
       "      <td>(1952-10-22)22 October 1952(age 69)\\nAlur,Hass...</td>\n",
       "      <td>(1952-10-22)22 October 1952(age 69)</td>\n",
       "      <td>Alur,Hassan district,Mysore State(nowKarnataka...</td>\n",
       "      <td>NaN</td>\n",
       "      <td>NaN</td>\n",
       "      <td>NaN</td>\n",
       "      <td>Indian</td>\n",
       "      <td>NaN</td>\n",
       "      <td>NaN</td>\n",
       "      <td>Space Applications Centre</td>\n",
       "      <td>Padma Shri</td>\n",
       "      <td>NaN</td>\n",
       "      <td>Yes</td>\n",
       "      <td>No</td>\n",
       "      <td>44262078.0</td>\n",
       "      <td>Askiran.jpg</td>\n",
       "      <td>http://www.rediff.com/news/2003/mar/06arvind.h...</td>\n",
       "    </tr>\n",
       "    <tr>\n",
       "      <th>17</th>\n",
       "      <td>17</td>\n",
       "      <td>17</td>\n",
       "      <td>17</td>\n",
       "      <td>17</td>\n",
       "      <td>A. Sankara Reddy</td>\n",
       "      <td>https://en.wikipedia.org/wiki/A._Sankara_Reddy</td>\n",
       "      <td>2009.0</td>\n",
       "      <td>Delhi/India</td>\n",
       "      <td>Literature and Education</td>\n",
       "      <td>Pratibha Patil</td>\n",
       "      <td>NaN</td>\n",
       "      <td>NaN</td>\n",
       "      <td>NaN</td>\n",
       "      <td>NaN</td>\n",
       "      <td>NaN</td>\n",
       "      <td>NaN</td>\n",
       "      <td>NaN</td>\n",
       "      <td>NaN</td>\n",
       "      <td>NaN</td>\n",
       "      <td>NaN</td>\n",
       "      <td>NaN</td>\n",
       "      <td>NaN</td>\n",
       "      <td>NaN</td>\n",
       "      <td>NaN</td>\n",
       "      <td>NaN</td>\n",
       "      <td>NaN</td>\n",
       "      <td>NaN</td>\n",
       "      <td>NaN</td>\n",
       "      <td>NaN</td>\n",
       "      <td>NaN</td>\n",
       "      <td>Yes</td>\n",
       "      <td>No</td>\n",
       "      <td>32678437.0</td>\n",
       "      <td>NaN</td>\n",
       "      <td>http://www.rediff.com/news/2003/mar/06arvind.h...</td>\n",
       "    </tr>\n",
       "    <tr>\n",
       "      <th>18</th>\n",
       "      <td>18</td>\n",
       "      <td>18</td>\n",
       "      <td>18</td>\n",
       "      <td>18</td>\n",
       "      <td>A. Sivasailam</td>\n",
       "      <td>https://en.wikipedia.org/wiki/A._Sivasailam</td>\n",
       "      <td>2007.0</td>\n",
       "      <td>Tamil Nadu, India</td>\n",
       "      <td>Trade and Industry</td>\n",
       "      <td>A. P. J. Abdul Kalam</td>\n",
       "      <td>NaN</td>\n",
       "      <td>NaN</td>\n",
       "      <td>NaN</td>\n",
       "      <td>NaN</td>\n",
       "      <td>NaN</td>\n",
       "      <td>NaN</td>\n",
       "      <td>NaN</td>\n",
       "      <td>NaN</td>\n",
       "      <td>(1934-08-24)24 August 1934\\nAlwarkurichi,Tirun...</td>\n",
       "      <td>(1934-08-24)24 August 1934</td>\n",
       "      <td>Alwarkurichi,Tirunelveli district,Madras Presi...</td>\n",
       "      <td>11 January 2011(2011-01-11)(aged 76)\\nKasturba...</td>\n",
       "      <td>11 January 2011(2011-01-11)(aged 76)</td>\n",
       "      <td>Kasturba Hospital,Manipal,Karnataka, India</td>\n",
       "      <td>NaN</td>\n",
       "      <td>Indira Sivasailam</td>\n",
       "      <td>NaN</td>\n",
       "      <td>NaN</td>\n",
       "      <td>Padma Shri\\nNIQA Outstanding Industrialist Awa...</td>\n",
       "      <td>Industrialist\\nEducationist\\nPhilanthropist</td>\n",
       "      <td>No</td>\n",
       "      <td>No</td>\n",
       "      <td>49098746.0</td>\n",
       "      <td>NaN</td>\n",
       "      <td>http://www.rediff.com/news/2003/mar/06arvind.h...</td>\n",
       "    </tr>\n",
       "    <tr>\n",
       "      <th>19</th>\n",
       "      <td>19</td>\n",
       "      <td>19</td>\n",
       "      <td>19</td>\n",
       "      <td>19</td>\n",
       "      <td>A. Sivathanu Pillai</td>\n",
       "      <td>https://en.wikipedia.org/wiki/A._Sivathanu_Pillai</td>\n",
       "      <td>2002.0</td>\n",
       "      <td>Delhi</td>\n",
       "      <td>Science and Engineering</td>\n",
       "      <td>K. R. Narayanan</td>\n",
       "      <td>2013.0</td>\n",
       "      <td>Delhi</td>\n",
       "      <td>Science and Engineering</td>\n",
       "      <td>Pranab Mukherjee</td>\n",
       "      <td>NaN</td>\n",
       "      <td>NaN</td>\n",
       "      <td>NaN</td>\n",
       "      <td>NaN</td>\n",
       "      <td>(1947-07-15)15 July 1947(age 74)\\nNagercoil,\\n...</td>\n",
       "      <td>(1947-07-15)15 July 1947(age 74)</td>\n",
       "      <td>Nagercoil,\\nKanyakumari District,Tamil Nadu</td>\n",
       "      <td>NaN</td>\n",
       "      <td>NaN</td>\n",
       "      <td>NaN</td>\n",
       "      <td>Indian</td>\n",
       "      <td>Seetha Sivathanu Pillai</td>\n",
       "      <td>NaN</td>\n",
       "      <td>NaN</td>\n",
       "      <td>Padma Shri\\n2002\\nPadma Bhushan\\n2013\\nOrder o...</td>\n",
       "      <td>NaN</td>\n",
       "      <td>No</td>\n",
       "      <td>No</td>\n",
       "      <td>26258696.0</td>\n",
       "      <td>The_CEO_%26_MD%2C_Dr._A._Sivathanu_Pillai_intr...</td>\n",
       "      <td>http://www.rediff.com/news/2003/mar/06arvind.h...</td>\n",
       "    </tr>\n",
       "    <tr>\n",
       "      <th>20</th>\n",
       "      <td>20</td>\n",
       "      <td>20</td>\n",
       "      <td>20</td>\n",
       "      <td>20</td>\n",
       "      <td>A. Sreedhara Menon</td>\n",
       "      <td>https://en.wikipedia.org/wiki/A._Sreedhara_Menon</td>\n",
       "      <td>NaN</td>\n",
       "      <td>NaN</td>\n",
       "      <td>NaN</td>\n",
       "      <td>NaN</td>\n",
       "      <td>2009.0</td>\n",
       "      <td>Kerala, India</td>\n",
       "      <td>Literature and Education</td>\n",
       "      <td>Pratibha Patil</td>\n",
       "      <td>NaN</td>\n",
       "      <td>NaN</td>\n",
       "      <td>NaN</td>\n",
       "      <td>NaN</td>\n",
       "      <td>(1925-12-18)18 December 1925\\nKingdom of Cochi...</td>\n",
       "      <td>(1925-12-18)18 December 1925</td>\n",
       "      <td>Kingdom of Cochin,British India</td>\n",
       "      <td>23 July 2010(2010-07-23)(aged 84)\\nThiruvanant...</td>\n",
       "      <td>23 July 2010(2010-07-23)(aged 84)</td>\n",
       "      <td>Thiruvananthapuram,Kerala,India</td>\n",
       "      <td>NaN</td>\n",
       "      <td>NaN</td>\n",
       "      <td>NaN</td>\n",
       "      <td>NaN</td>\n",
       "      <td>Padma Bhushan</td>\n",
       "      <td>HistorianAcademicUniversity Registrar</td>\n",
       "      <td>Yes</td>\n",
       "      <td>No</td>\n",
       "      <td>24539955.0</td>\n",
       "      <td>A._Sreedhara_Menon.jpg</td>\n",
       "      <td>http://www.rediff.com/news/2003/mar/06arvind.h...</td>\n",
       "    </tr>\n",
       "    <tr>\n",
       "      <th>21</th>\n",
       "      <td>21</td>\n",
       "      <td>21</td>\n",
       "      <td>21</td>\n",
       "      <td>21</td>\n",
       "      <td>A. V. Rama Rao</td>\n",
       "      <td>https://en.wikipedia.org/wiki/A._V._Rama_Rao</td>\n",
       "      <td>1991.0</td>\n",
       "      <td>Andhra Pradesh</td>\n",
       "      <td>Science and Engineering</td>\n",
       "      <td>R. Venkataraman</td>\n",
       "      <td>2016.0</td>\n",
       "      <td>Andhra Pradesh</td>\n",
       "      <td>Science and Engineering</td>\n",
       "      <td>Pranab Mukherjee</td>\n",
       "      <td>NaN</td>\n",
       "      <td>NaN</td>\n",
       "      <td>NaN</td>\n",
       "      <td>NaN</td>\n",
       "      <td>2 April 1935\\nGuntur,Madras Presidency,British...</td>\n",
       "      <td>1935-04-02 00:00:00</td>\n",
       "      <td>Guntur,Madras Presidency,British India\\n(prese...</td>\n",
       "      <td>NaN</td>\n",
       "      <td>NaN</td>\n",
       "      <td>NaN</td>\n",
       "      <td>NaN</td>\n",
       "      <td>Hymavathy</td>\n",
       "      <td>NaN</td>\n",
       "      <td>NaN</td>\n",
       "      <td>Padma Bhushan(2016)\\nPadma Shri(1991)\\nK.G. Na...</td>\n",
       "      <td>Chemist</td>\n",
       "      <td>Yes</td>\n",
       "      <td>No</td>\n",
       "      <td>47993806.0</td>\n",
       "      <td>NaN</td>\n",
       "      <td>http://www.rediff.com/news/2003/mar/06arvind.h...</td>\n",
       "    </tr>\n",
       "    <tr>\n",
       "      <th>22</th>\n",
       "      <td>22</td>\n",
       "      <td>22</td>\n",
       "      <td>22</td>\n",
       "      <td>22</td>\n",
       "      <td>A. Vithal alias Dhananjay Keer</td>\n",
       "      <td>https://en.wikipedia.org/wiki/Dhananjay_Keer</td>\n",
       "      <td>NaN</td>\n",
       "      <td>NaN</td>\n",
       "      <td>NaN</td>\n",
       "      <td>NaN</td>\n",
       "      <td>1971.0</td>\n",
       "      <td>Maharashtra, India</td>\n",
       "      <td>Literature and Education</td>\n",
       "      <td>V. V. Giri</td>\n",
       "      <td>NaN</td>\n",
       "      <td>NaN</td>\n",
       "      <td>NaN</td>\n",
       "      <td>NaN</td>\n",
       "      <td>(1913-04-23)April 23, 1913\\nRatnagiri, Maharas...</td>\n",
       "      <td>(1913-04-23)April 23, 1913</td>\n",
       "      <td>Ratnagiri, Maharashtra</td>\n",
       "      <td>12 May 1984(1984-05-13)(aged 71)</td>\n",
       "      <td>12 May 1984(1984-05-13)(aged 71)</td>\n",
       "      <td>NaN</td>\n",
       "      <td>Indian</td>\n",
       "      <td>NaN</td>\n",
       "      <td>NaN</td>\n",
       "      <td>NaN</td>\n",
       "      <td>Padma Bhushan</td>\n",
       "      <td>Biographer</td>\n",
       "      <td>Yes</td>\n",
       "      <td>No</td>\n",
       "      <td>35229296.0</td>\n",
       "      <td>NaN</td>\n",
       "      <td>http://www.rediff.com/news/2003/mar/06arvind.h...</td>\n",
       "    </tr>\n",
       "    <tr>\n",
       "      <th>23</th>\n",
       "      <td>23</td>\n",
       "      <td>23</td>\n",
       "      <td>23</td>\n",
       "      <td>23</td>\n",
       "      <td>Aamir Khan</td>\n",
       "      <td>https://en.wikipedia.org/wiki/Aamir_Khan</td>\n",
       "      <td>2003.0</td>\n",
       "      <td>Maharashtra</td>\n",
       "      <td>Arts</td>\n",
       "      <td>A. P. J. Abdul Kalam</td>\n",
       "      <td>2010.0</td>\n",
       "      <td>Maharashtra</td>\n",
       "      <td>Arts</td>\n",
       "      <td>Pratibha Patil</td>\n",
       "      <td>NaN</td>\n",
       "      <td>NaN</td>\n",
       "      <td>NaN</td>\n",
       "      <td>NaN</td>\n",
       "      <td>Mohammed Aamir Hussain Khan\\n(1965-03-14)14 Ma...</td>\n",
       "      <td>(1965-03-14)14 March 1965(age 56)</td>\n",
       "      <td>NaN</td>\n",
       "      <td>NaN</td>\n",
       "      <td>NaN</td>\n",
       "      <td>NaN</td>\n",
       "      <td>NaN</td>\n",
       "      <td>Reena Dutta​​(m.1986;div.2002)​Kiran Rao​​(m.2...</td>\n",
       "      <td>NaN</td>\n",
       "      <td>NaN</td>\n",
       "      <td>Full list</td>\n",
       "      <td>Actordirectorproducerwritersingertalk-show host</td>\n",
       "      <td>No</td>\n",
       "      <td>No</td>\n",
       "      <td>163038.0</td>\n",
       "      <td>Aamir_Khan_after_a_spa_session_in_Bandra.jpg</td>\n",
       "      <td>http://www.rediff.com/news/2003/mar/06arvind.h...</td>\n",
       "    </tr>\n",
       "    <tr>\n",
       "      <th>24</th>\n",
       "      <td>24</td>\n",
       "      <td>24</td>\n",
       "      <td>24</td>\n",
       "      <td>24</td>\n",
       "      <td>Aamir Raza Husain</td>\n",
       "      <td>https://en.wikipedia.org/wiki/Aamir_Raza_Husain</td>\n",
       "      <td>2001.0</td>\n",
       "      <td>Delhi/India</td>\n",
       "      <td>Arts</td>\n",
       "      <td>K. R. Narayanan</td>\n",
       "      <td>NaN</td>\n",
       "      <td>NaN</td>\n",
       "      <td>NaN</td>\n",
       "      <td>NaN</td>\n",
       "      <td>NaN</td>\n",
       "      <td>NaN</td>\n",
       "      <td>NaN</td>\n",
       "      <td>NaN</td>\n",
       "      <td>(1957-01-06)6 January 1957(age 64)\\nLucknow,Ut...</td>\n",
       "      <td>(1957-01-06)6 January 1957(age 64)</td>\n",
       "      <td>Lucknow,Uttar Pradesh,India</td>\n",
       "      <td>NaN</td>\n",
       "      <td>NaN</td>\n",
       "      <td>NaN</td>\n",
       "      <td>NaN</td>\n",
       "      <td>NaN</td>\n",
       "      <td>NaN</td>\n",
       "      <td>NaN</td>\n",
       "      <td>NaN</td>\n",
       "      <td>Theatre director, Actor</td>\n",
       "      <td>No</td>\n",
       "      <td>No</td>\n",
       "      <td>30909778.0</td>\n",
       "      <td>NaN</td>\n",
       "      <td>http://www.rediff.com/news/2003/mar/06arvind.h...</td>\n",
       "    </tr>\n",
       "    <tr>\n",
       "      <th>25</th>\n",
       "      <td>25</td>\n",
       "      <td>25</td>\n",
       "      <td>25</td>\n",
       "      <td>25</td>\n",
       "      <td>Abdul Gafur Khatri</td>\n",
       "      <td>https://en.wikipedia.org/wiki/Abdul_Gafur_Khatri</td>\n",
       "      <td>2019.0</td>\n",
       "      <td>Gujarat, India</td>\n",
       "      <td>Arts</td>\n",
       "      <td>Ram Nath Kovind</td>\n",
       "      <td>NaN</td>\n",
       "      <td>NaN</td>\n",
       "      <td>NaN</td>\n",
       "      <td>NaN</td>\n",
       "      <td>NaN</td>\n",
       "      <td>NaN</td>\n",
       "      <td>NaN</td>\n",
       "      <td>NaN</td>\n",
       "      <td>NaN</td>\n",
       "      <td>NaN</td>\n",
       "      <td>NaN</td>\n",
       "      <td>NaN</td>\n",
       "      <td>NaN</td>\n",
       "      <td>NaN</td>\n",
       "      <td>NaN</td>\n",
       "      <td>NaN</td>\n",
       "      <td>NaN</td>\n",
       "      <td>NaN</td>\n",
       "      <td>NaN</td>\n",
       "      <td>NaN</td>\n",
       "      <td>Yes</td>\n",
       "      <td>No</td>\n",
       "      <td>60369602.0</td>\n",
       "      <td>2013.jpg</td>\n",
       "      <td>http://www.rediff.com/news/2003/mar/06arvind.h...</td>\n",
       "    </tr>\n",
       "    <tr>\n",
       "      <th>26</th>\n",
       "      <td>26</td>\n",
       "      <td>26</td>\n",
       "      <td>26</td>\n",
       "      <td>26</td>\n",
       "      <td>Abdul Halim Jaffer Khan</td>\n",
       "      <td>https://en.wikipedia.org/wiki/Abdul_Halim_Jaff...</td>\n",
       "      <td>1970.0</td>\n",
       "      <td>Maharashtra</td>\n",
       "      <td>Arts</td>\n",
       "      <td>V. V. Giri</td>\n",
       "      <td>2006.0</td>\n",
       "      <td>Maharashtra</td>\n",
       "      <td>Arts</td>\n",
       "      <td>A. P. J. Abdul Kalam</td>\n",
       "      <td>NaN</td>\n",
       "      <td>NaN</td>\n",
       "      <td>NaN</td>\n",
       "      <td>NaN</td>\n",
       "      <td>(1927-02-18)18 February 1927\\nJaora,Madhya Pra...</td>\n",
       "      <td>(1927-02-18)18 February 1927</td>\n",
       "      <td>Jaora,Madhya Pradesh,India</td>\n",
       "      <td>4 January 2017(aged 89)\\nMumbai, India</td>\n",
       "      <td>4 January 2017(aged 89)</td>\n",
       "      <td>Mumbai, India</td>\n",
       "      <td>NaN</td>\n",
       "      <td>NaN</td>\n",
       "      <td>NaN</td>\n",
       "      <td>NaN</td>\n",
       "      <td>NaN</td>\n",
       "      <td>NaN</td>\n",
       "      <td>No</td>\n",
       "      <td>No</td>\n",
       "      <td>28841514.0</td>\n",
       "      <td>Ustad_Abdul_Halim_Jaffer_Khan_01.jpg</td>\n",
       "      <td>http://www.rediff.com/news/2003/mar/06arvind.h...</td>\n",
       "    </tr>\n",
       "    <tr>\n",
       "      <th>27</th>\n",
       "      <td>27</td>\n",
       "      <td>27</td>\n",
       "      <td>27</td>\n",
       "      <td>27</td>\n",
       "      <td>Abdul Jabbar Khan</td>\n",
       "      <td>https://en.wikipedia.org/wiki/Abdul_Jabbar_Kha...</td>\n",
       "      <td>2020.0</td>\n",
       "      <td>Madhya Pradesh, India</td>\n",
       "      <td>Social Work</td>\n",
       "      <td>Ram Nath Kovind</td>\n",
       "      <td>NaN</td>\n",
       "      <td>NaN</td>\n",
       "      <td>NaN</td>\n",
       "      <td>NaN</td>\n",
       "      <td>NaN</td>\n",
       "      <td>NaN</td>\n",
       "      <td>NaN</td>\n",
       "      <td>NaN</td>\n",
       "      <td>(1957-06-01)1 June 1957</td>\n",
       "      <td>(1957-06-01)1 June 1957</td>\n",
       "      <td>NaN</td>\n",
       "      <td>14 November 2019(2019-11-14)(aged 62)\\nBhopal,...</td>\n",
       "      <td>14 November 2019(2019-11-14)(aged 62)</td>\n",
       "      <td>Bhopal, Madhya Pradesh</td>\n",
       "      <td>NaN</td>\n",
       "      <td>NaN</td>\n",
       "      <td>NaN</td>\n",
       "      <td>NaN</td>\n",
       "      <td>Padma Shri</td>\n",
       "      <td>NaN</td>\n",
       "      <td>No</td>\n",
       "      <td>Yes</td>\n",
       "      <td>67969254.0</td>\n",
       "      <td>NaN</td>\n",
       "      <td>http://www.rediff.com/news/2003/mar/06arvind.h...</td>\n",
       "    </tr>\n",
       "    <tr>\n",
       "      <th>28</th>\n",
       "      <td>28</td>\n",
       "      <td>28</td>\n",
       "      <td>28</td>\n",
       "      <td>28</td>\n",
       "      <td>Abdul Karim Parekh</td>\n",
       "      <td>https://en.wikipedia.org/wiki/Abdul_Karim_Parekh</td>\n",
       "      <td>NaN</td>\n",
       "      <td>NaN</td>\n",
       "      <td>NaN</td>\n",
       "      <td>NaN</td>\n",
       "      <td>2001.0</td>\n",
       "      <td>Maharashtra, India</td>\n",
       "      <td>Social Work</td>\n",
       "      <td>K. R. Narayanan</td>\n",
       "      <td>NaN</td>\n",
       "      <td>NaN</td>\n",
       "      <td>NaN</td>\n",
       "      <td>NaN</td>\n",
       "      <td>(1928-04-15)15 April 1928\\nKanseoni,Maharashtr...</td>\n",
       "      <td>(1928-04-15)15 April 1928</td>\n",
       "      <td>Kanseoni,Maharashtra, India</td>\n",
       "      <td>11 September 2007(2007-09-11)(aged 79)\\nNagpur...</td>\n",
       "      <td>11 September 2007(2007-09-11)(aged 79)</td>\n",
       "      <td>Nagpur,Maharashtra, India</td>\n",
       "      <td>NaN</td>\n",
       "      <td>Zubeda\\nAmina</td>\n",
       "      <td>NaN</td>\n",
       "      <td>NaN</td>\n",
       "      <td>Padma Bhushan</td>\n",
       "      <td>Scholar\\nTranslator\\nSocial worker</td>\n",
       "      <td>No</td>\n",
       "      <td>No</td>\n",
       "      <td>50664966.0</td>\n",
       "      <td>NaN</td>\n",
       "      <td>http://www.rediff.com/news/2003/mar/06arvind.h...</td>\n",
       "    </tr>\n",
       "    <tr>\n",
       "      <th>29</th>\n",
       "      <td>29</td>\n",
       "      <td>29</td>\n",
       "      <td>29</td>\n",
       "      <td>29</td>\n",
       "      <td>Abdul Latif Khan</td>\n",
       "      <td>https://en.wikipedia.org/wiki/Abdul_Latif_Khan</td>\n",
       "      <td>2002.0</td>\n",
       "      <td>Madhya Pradesh, India</td>\n",
       "      <td>Arts</td>\n",
       "      <td>K. R. Narayanan</td>\n",
       "      <td>NaN</td>\n",
       "      <td>NaN</td>\n",
       "      <td>NaN</td>\n",
       "      <td>NaN</td>\n",
       "      <td>NaN</td>\n",
       "      <td>NaN</td>\n",
       "      <td>NaN</td>\n",
       "      <td>NaN</td>\n",
       "      <td>1934\\nGwalior,Madhya Pradesh, India</td>\n",
       "      <td>1934.0</td>\n",
       "      <td>Gwalior,Madhya Pradesh, India</td>\n",
       "      <td>2003 (aged 68)\\nbhopal,Madhya Pradesh, India</td>\n",
       "      <td>2003 (aged 68)</td>\n",
       "      <td>bhopal,Madhya Pradesh, India</td>\n",
       "      <td>NaN</td>\n",
       "      <td>NaN</td>\n",
       "      <td>NaN</td>\n",
       "      <td>NaN</td>\n",
       "      <td>Padma Shri\\nSangeet Natak Akademi Award</td>\n",
       "      <td>Classical musician, instrumentalist</td>\n",
       "      <td>No</td>\n",
       "      <td>No</td>\n",
       "      <td>45281009.0</td>\n",
       "      <td>NaN</td>\n",
       "      <td>http://www.rediff.com/news/2003/mar/06arvind.h...</td>\n",
       "    </tr>\n",
       "  </tbody>\n",
       "</table>\n",
       "</div>"
      ],
      "text/plain": [
       "    level_0  index  Unnamed: 0  Unnamed: 0.1                      Recipients                                           WikiLink  Padma Shri Year       Padma Shri State          Padma Shri Field     Padma Shri Awarded By  Padma Bhushan Year Padma Bhushan State       Padma Bhushan Field Padma Bhushan Awarded By  Padma Vibhushan Year  Padma Vibhushan State    Padma Vibhushan Field Padma Vibhushan Awarded By                                               Born                           Birth Date                                     Place of Birth                                               Died                              Death Date                              Place of Death Nationality                                             Spouse                                         Alma mater                                       Institutions                       Other Awards including Padma                                       Occupation Election Year Posthumus     Page Id  \\\n",
       "0         0      0           0             0                         A Zakia              https://en.wikipedia.org/wiki/A_Zakia           2018.0         Mizoram, India  Literature and Education           Ram Nath Kovind                 NaN                 NaN                       NaN                      NaN                   NaN                    NaN                      NaN                        NaN                                                NaN                                  NaN                                                NaN                                                NaN                                     NaN                                         NaN         NaN                                                NaN                                                NaN                                                NaN                                                NaN                                              NaN            No        No  59084706.0   \n",
       "1         1      1           1             1                A. G. K. Gokhale     https://en.wikipedia.org/wiki/A._G._K._Gokhale           2016.0  Andhra Pradesh, India                  Medicine          Pranab Mukherjee                 NaN                 NaN                       NaN                      NaN                   NaN                    NaN                      NaN                        NaN                    Vijayawada,Andhra Pradesh,India                                  NaN                                                NaN                                                NaN                                     NaN                                         NaN         NaN                                                NaN                                                NaN                                                NaN                                                NaN                                Physician,Surgeon            No        No  32009044.0   \n",
       "2         2      2           2             2          A. Jayanta Kumar Singh                                                NaN           2008.0         Manipur, India                  Medicine            Pratibha Patil                 NaN                 NaN                       NaN                      NaN                   NaN                    NaN                      NaN                        NaN                                                NaN                                  NaN                                                NaN                                                NaN                                     NaN                                         NaN         NaN                                                NaN                                                NaN                                                NaN                                                NaN                                              NaN            No        No         NaN   \n",
       "3         3      3           3             3                     A. K. Gupta                                                NaN           2009.0     Maharashtra, India                  Medicine            Pratibha Patil                 NaN                 NaN                       NaN                      NaN                   NaN                    NaN                      NaN                        NaN                                                NaN                                  NaN                                                NaN                                                NaN                                     NaN                                         NaN         NaN                                                NaN                                                NaN                                                NaN                                                NaN                                              NaN           Yes        No         NaN   \n",
       "4         4      4           4             4                    A. K. Hangal         https://en.wikipedia.org/wiki/A._K._Hangal              NaN                    NaN                       NaN                       NaN              2006.0  Maharashtra, India                      Arts     A. P. J. Abdul Kalam                   NaN                    NaN                      NaN                        NaN  Avtar Kishan Hangal\\n(1914-02-01)1 February 19...       (1914-02-01)1 February 1914[1]                                                NaN  26 August 2012(2012-08-26)(aged 98)\\nMumbai,Ma...     26 August 2012(2012-08-26)(aged 98)                    Mumbai,Maharashtra,India         NaN                                                NaN                                                NaN                                                NaN                                                NaN                                            Actor            No        No   4662097.0   \n",
       "5         5      5           5             5                 A. K. Ramanujan      https://en.wikipedia.org/wiki/A._K._Ramanujan           1976.0                Germany  Literature and Education      Fakhruddin Ali Ahmed                 NaN                 NaN                       NaN                      NaN                   NaN                    NaN                      NaN                        NaN  (1929-03-16)16 March 1929\\nMysore,Princely Sta...            (1929-03-16)16 March 1929      Mysore,Princely State of Mysore,British India  13 July 1993(1993-07-13)(aged 64)\\nChicago,Ill...       13 July 1993(1993-07-13)(aged 64)             Chicago,Illinois, United States      Indian                                                NaN                                                NaN                                                NaN  MacArthur Fellowship,Sahitya Akademi AwardandP...                                              NaN            No        No   3806249.0   \n",
       "6         6      6           6             6                  A. Kanyakumari       https://en.wikipedia.org/wiki/A._Kanyakumari           2015.0      Tamil Nadu, India                      Arts          Pranab Mukherjee                 NaN                 NaN                       NaN                      NaN                   NaN                    NaN                      NaN                        NaN                                                NaN                                  NaN                                                NaN                                                NaN                                     NaN                                         NaN         NaN                                                NaN                                                NaN                                                NaN                                                NaN                                              NaN            No        No   5334050.0   \n",
       "7         7      7           7             7      A. Lakshmanaswami Mudaliar  https://en.wikipedia.org/wiki/A._Lakshmanaswam...              NaN                    NaN                       NaN                       NaN              1954.0          Tamil Nadu  Literature and Education          Rajendra Prasad                1963.0             Tamil Nadu                 Medicine   Sarvepalli Radhakrishnan                                    14 October 1887                      14 October 1887                                                NaN          15 April 1974 (aged 86)[1]\\nMadras, India              15 April 1974 (aged 86)[1]                               Madras, India      Indian                                                NaN                                                NaN                                                NaN                      Padma Bhushan,Padma Vibhushan                                              NaN            No        No   6182214.0   \n",
       "8         8      8           8             8                      A. M. Naik           https://en.wikipedia.org/wiki/A._M._Naik              NaN                    NaN                       NaN                       NaN              2009.0  Maharashtra, India        Trade and Industry           Pratibha Patil                   NaN                    NaN                      NaN                        NaN     (1942-06-09)9 June 1942(age 79)\\nGujarat,India      (1942-06-09)9 June 1942(age 79)                                      Gujarat,India                                                NaN                                     NaN                                         NaN         NaN                                         Geeta Naik                                                NaN                                                NaN         Padma Vibhushan(2019)\\nPadma Bhushan(2009)                 Group Chairman ofLarsen & Toubro           Yes        No   2582061.0   \n",
       "9         9      9           9             9             A. Marthanda Pillai  https://en.wikipedia.org/wiki/A._Marthanda_Pillai           2011.0          Kerala, India                  Medicine            Pratibha Patil                 NaN                 NaN                       NaN                      NaN                   NaN                    NaN                      NaN                        NaN                                                NaN                                  NaN                                                NaN                                                NaN                                     NaN                                         NaN         NaN                                                NaN                                                NaN                                                NaN                           2010-2011Padma ShriAward                                              NaN            No        No  30667822.0   \n",
       "10       10     10          10            10             A. Nagappa Chettiar  https://en.wikipedia.org/wiki/A._Nagappa_Chettiar           1967.0      Tamil Nadu, India        Trade and Industry  Sarvepalli Radhakrishnan                 NaN                 NaN                       NaN                      NaN                   NaN                    NaN                      NaN                        NaN  6 August 1915\\nMelasivapuri, Pudukottai, Tamil...                  2015-08-06 00:00:00        Melasivapuri, Pudukottai, Tamil Nadu, India                March 13, 1982(1982-03-13)(aged 66)     March 13, 1982(1982-03-13)(aged 66)                                         NaN         NaN                                                NaN                                                NaN                                                NaN                                         Padma Shri                                    Industrialist           Yes        No  46657297.0   \n",
       "11       11     11          11            11            A. P. J. Abdul Kalam  https://en.wikipedia.org/wiki/A._P._J._Abdul_K...              NaN                    NaN                       NaN                       NaN              1981.0               Delhi             Civil Service     Neelam Sanjiva Reddy                1990.0             Tamil Nadu  Science and Engineering            R. Venkataraman  Avul Pakir Jainulabdeen Abdul Kalam\\n(1931-10-...          (1931-10-15)15 October 1931                                                NaN  27 July 2015(2015-07-27)(aged 83)\\nShillong,Me...       27 July 2015(2015-07-27)(aged 83)                   Shillong,Meghalaya, India      Indian                                                NaN  St. Joseph's College, Tiruchirappalli(BEng)Mad...  Defence Research and Development Organisation\\...                                          Full list                                              NaN            No        No     62682.0   \n",
       "12       12     12          12            12                    A. R. Rahman         https://en.wikipedia.org/wiki/A._R._Rahman           2000.0             Tamil Nadu                      Arts           K. R. Narayanan              2010.0          Tamil Nadu                      Arts           Pratibha Patil                   NaN                    NaN                      NaN                        NaN  (1967-01-06)6 January 1967(age 54)\\nMadras,Mad...   (1967-01-06)6 January 1967(age 54)                         Madras,Madras State, India                                                NaN                                     NaN                                         NaN         NaN                               Saira Banu​(m.1995)​                                                NaN                                                NaN                                                NaN                                              NaN            No        No    222417.0   \n",
       "13       13     13          13            13                 A. Ramachandran      https://en.wikipedia.org/wiki/A._Ramachandran              NaN                    NaN                       NaN                       NaN              2005.0         Delhi/India                      Arts     A. P. J. Abdul Kalam                   NaN                    NaN                      NaN                        NaN                                                NaN                                  NaN                                                NaN                                                NaN                                     NaN                                         NaN         NaN                                                NaN                                                NaN                                                NaN                                                NaN                                              NaN            No        No   6887148.0   \n",
       "14       14     14          14            14            A. Ramasamy Mudaliar  https://en.wikipedia.org/wiki/Arcot_Ramasamy_M...              NaN                    NaN                       NaN                       NaN                 NaN                 NaN                       NaN                      NaN                1970.0  Andhra Pradesh, India            Civil Service                 V. V. Giri  (1887-10-14)14 October 1887\\nKurnool,Madras Pr...          (1887-10-14)14 October 1887            Kurnool,Madras Presidency,British India   17 July 1976(1976-07-17)(aged 88)\\nMadras, India       17 July 1976(1976-07-17)(aged 88)                               Madras, India      Indian                                                NaN                           Madras Christian College                                                NaN                                                NaN                                         Diplomat            No        No  18498367.0   \n",
       "15       15     15          15            15                      A. S. Arya           https://en.wikipedia.org/wiki/A._S._Arya           2002.0     Uttarakhand, India   Science and Engineering           K. R. Narayanan                 NaN                 NaN                       NaN                      NaN                   NaN                    NaN                      NaN                        NaN  13 June 1931\\nAmbehta,Saharanpur District,Utta...                  1931-06-13 00:00:00   Ambehta,Saharanpur District,Uttar Pradesh, India                             1 Sept 2019\\nNew Delhi                     2019-09-01 00:00:00                                   New Delhi         NaN                                                NaN                                                NaN                                                NaN  Padma Shri\\nKhosla National Award\\nISET Jai Kr...                              Structural Engineer            No        No  48524857.0   \n",
       "16       16     16          16            16               A. S. Kiran Kumar    https://en.wikipedia.org/wiki/A._S._Kiran_Kumar           2014.0         Gujarat, India   Science and Engineering          Pranab Mukherjee                 NaN                 NaN                       NaN                      NaN                   NaN                    NaN                      NaN                        NaN  (1952-10-22)22 October 1952(age 69)\\nAlur,Hass...  (1952-10-22)22 October 1952(age 69)  Alur,Hassan district,Mysore State(nowKarnataka...                                                NaN                                     NaN                                         NaN      Indian                                                NaN                                                NaN                          Space Applications Centre                                         Padma Shri                                              NaN           Yes        No  44262078.0   \n",
       "17       17     17          17            17                A. Sankara Reddy     https://en.wikipedia.org/wiki/A._Sankara_Reddy           2009.0            Delhi/India  Literature and Education            Pratibha Patil                 NaN                 NaN                       NaN                      NaN                   NaN                    NaN                      NaN                        NaN                                                NaN                                  NaN                                                NaN                                                NaN                                     NaN                                         NaN         NaN                                                NaN                                                NaN                                                NaN                                                NaN                                              NaN           Yes        No  32678437.0   \n",
       "18       18     18          18            18                   A. Sivasailam        https://en.wikipedia.org/wiki/A._Sivasailam           2007.0      Tamil Nadu, India        Trade and Industry      A. P. J. Abdul Kalam                 NaN                 NaN                       NaN                      NaN                   NaN                    NaN                      NaN                        NaN  (1934-08-24)24 August 1934\\nAlwarkurichi,Tirun...           (1934-08-24)24 August 1934  Alwarkurichi,Tirunelveli district,Madras Presi...  11 January 2011(2011-01-11)(aged 76)\\nKasturba...    11 January 2011(2011-01-11)(aged 76)  Kasturba Hospital,Manipal,Karnataka, India         NaN                                  Indira Sivasailam                                                NaN                                                NaN  Padma Shri\\nNIQA Outstanding Industrialist Awa...      Industrialist\\nEducationist\\nPhilanthropist            No        No  49098746.0   \n",
       "19       19     19          19            19             A. Sivathanu Pillai  https://en.wikipedia.org/wiki/A._Sivathanu_Pillai           2002.0                  Delhi   Science and Engineering           K. R. Narayanan              2013.0               Delhi   Science and Engineering         Pranab Mukherjee                   NaN                    NaN                      NaN                        NaN  (1947-07-15)15 July 1947(age 74)\\nNagercoil,\\n...     (1947-07-15)15 July 1947(age 74)        Nagercoil,\\nKanyakumari District,Tamil Nadu                                                NaN                                     NaN                                         NaN      Indian                            Seetha Sivathanu Pillai                                                NaN                                                NaN  Padma Shri\\n2002\\nPadma Bhushan\\n2013\\nOrder o...                                              NaN            No        No  26258696.0   \n",
       "20       20     20          20            20              A. Sreedhara Menon   https://en.wikipedia.org/wiki/A._Sreedhara_Menon              NaN                    NaN                       NaN                       NaN              2009.0       Kerala, India  Literature and Education           Pratibha Patil                   NaN                    NaN                      NaN                        NaN  (1925-12-18)18 December 1925\\nKingdom of Cochi...         (1925-12-18)18 December 1925                    Kingdom of Cochin,British India  23 July 2010(2010-07-23)(aged 84)\\nThiruvanant...       23 July 2010(2010-07-23)(aged 84)             Thiruvananthapuram,Kerala,India         NaN                                                NaN                                                NaN                                                NaN                                      Padma Bhushan            HistorianAcademicUniversity Registrar           Yes        No  24539955.0   \n",
       "21       21     21          21            21                  A. V. Rama Rao       https://en.wikipedia.org/wiki/A._V._Rama_Rao           1991.0         Andhra Pradesh   Science and Engineering           R. Venkataraman              2016.0      Andhra Pradesh   Science and Engineering         Pranab Mukherjee                   NaN                    NaN                      NaN                        NaN  2 April 1935\\nGuntur,Madras Presidency,British...                  1935-04-02 00:00:00  Guntur,Madras Presidency,British India\\n(prese...                                                NaN                                     NaN                                         NaN         NaN                                          Hymavathy                                                NaN                                                NaN  Padma Bhushan(2016)\\nPadma Shri(1991)\\nK.G. Na...                                          Chemist           Yes        No  47993806.0   \n",
       "22       22     22          22            22  A. Vithal alias Dhananjay Keer       https://en.wikipedia.org/wiki/Dhananjay_Keer              NaN                    NaN                       NaN                       NaN              1971.0  Maharashtra, India  Literature and Education               V. V. Giri                   NaN                    NaN                      NaN                        NaN  (1913-04-23)April 23, 1913\\nRatnagiri, Maharas...           (1913-04-23)April 23, 1913                             Ratnagiri, Maharashtra                   12 May 1984(1984-05-13)(aged 71)        12 May 1984(1984-05-13)(aged 71)                                         NaN      Indian                                                NaN                                                NaN                                                NaN                                      Padma Bhushan                                       Biographer           Yes        No  35229296.0   \n",
       "23       23     23          23            23                      Aamir Khan           https://en.wikipedia.org/wiki/Aamir_Khan           2003.0            Maharashtra                      Arts      A. P. J. Abdul Kalam              2010.0         Maharashtra                      Arts           Pratibha Patil                   NaN                    NaN                      NaN                        NaN  Mohammed Aamir Hussain Khan\\n(1965-03-14)14 Ma...    (1965-03-14)14 March 1965(age 56)                                                NaN                                                NaN                                     NaN                                         NaN         NaN  Reena Dutta​​(m.1986;div.2002)​Kiran Rao​​(m.2...                                                NaN                                                NaN                                          Full list  Actordirectorproducerwritersingertalk-show host            No        No    163038.0   \n",
       "24       24     24          24            24               Aamir Raza Husain    https://en.wikipedia.org/wiki/Aamir_Raza_Husain           2001.0            Delhi/India                      Arts           K. R. Narayanan                 NaN                 NaN                       NaN                      NaN                   NaN                    NaN                      NaN                        NaN  (1957-01-06)6 January 1957(age 64)\\nLucknow,Ut...   (1957-01-06)6 January 1957(age 64)                        Lucknow,Uttar Pradesh,India                                                NaN                                     NaN                                         NaN         NaN                                                NaN                                                NaN                                                NaN                                                NaN                          Theatre director, Actor            No        No  30909778.0   \n",
       "25       25     25          25            25              Abdul Gafur Khatri   https://en.wikipedia.org/wiki/Abdul_Gafur_Khatri           2019.0         Gujarat, India                      Arts           Ram Nath Kovind                 NaN                 NaN                       NaN                      NaN                   NaN                    NaN                      NaN                        NaN                                                NaN                                  NaN                                                NaN                                                NaN                                     NaN                                         NaN         NaN                                                NaN                                                NaN                                                NaN                                                NaN                                              NaN           Yes        No  60369602.0   \n",
       "26       26     26          26            26         Abdul Halim Jaffer Khan  https://en.wikipedia.org/wiki/Abdul_Halim_Jaff...           1970.0            Maharashtra                      Arts                V. V. Giri              2006.0         Maharashtra                      Arts     A. P. J. Abdul Kalam                   NaN                    NaN                      NaN                        NaN  (1927-02-18)18 February 1927\\nJaora,Madhya Pra...         (1927-02-18)18 February 1927                         Jaora,Madhya Pradesh,India             4 January 2017(aged 89)\\nMumbai, India                 4 January 2017(aged 89)                               Mumbai, India         NaN                                                NaN                                                NaN                                                NaN                                                NaN                                              NaN            No        No  28841514.0   \n",
       "27       27     27          27            27               Abdul Jabbar Khan  https://en.wikipedia.org/wiki/Abdul_Jabbar_Kha...           2020.0  Madhya Pradesh, India               Social Work           Ram Nath Kovind                 NaN                 NaN                       NaN                      NaN                   NaN                    NaN                      NaN                        NaN                            (1957-06-01)1 June 1957              (1957-06-01)1 June 1957                                                NaN  14 November 2019(2019-11-14)(aged 62)\\nBhopal,...   14 November 2019(2019-11-14)(aged 62)                      Bhopal, Madhya Pradesh         NaN                                                NaN                                                NaN                                                NaN                                         Padma Shri                                              NaN            No       Yes  67969254.0   \n",
       "28       28     28          28            28              Abdul Karim Parekh   https://en.wikipedia.org/wiki/Abdul_Karim_Parekh              NaN                    NaN                       NaN                       NaN              2001.0  Maharashtra, India               Social Work          K. R. Narayanan                   NaN                    NaN                      NaN                        NaN  (1928-04-15)15 April 1928\\nKanseoni,Maharashtr...            (1928-04-15)15 April 1928                        Kanseoni,Maharashtra, India  11 September 2007(2007-09-11)(aged 79)\\nNagpur...  11 September 2007(2007-09-11)(aged 79)                   Nagpur,Maharashtra, India         NaN                                      Zubeda\\nAmina                                                NaN                                                NaN                                      Padma Bhushan               Scholar\\nTranslator\\nSocial worker            No        No  50664966.0   \n",
       "29       29     29          29            29                Abdul Latif Khan     https://en.wikipedia.org/wiki/Abdul_Latif_Khan           2002.0  Madhya Pradesh, India                      Arts           K. R. Narayanan                 NaN                 NaN                       NaN                      NaN                   NaN                    NaN                      NaN                        NaN                1934\\nGwalior,Madhya Pradesh, India                               1934.0                      Gwalior,Madhya Pradesh, India       2003 (aged 68)\\nbhopal,Madhya Pradesh, India                          2003 (aged 68)                bhopal,Madhya Pradesh, India         NaN                                                NaN                                                NaN                                                NaN            Padma Shri\\nSangeet Natak Akademi Award              Classical musician, instrumentalist            No        No  45281009.0   \n",
       "\n",
       "                                                image                                                Ref  \n",
       "0                                                 NaN  http://www.rediff.com/news/2003/mar/06arvind.h...  \n",
       "1                                  Dr_agk_gokhale.jpg  http://www.rediff.com/news/2003/mar/06arvind.h...  \n",
       "2                                                 NaN  http://www.rediff.com/news/2003/mar/06arvind.h...  \n",
       "3                                                 NaN  http://www.rediff.com/news/2003/mar/06arvind.h...  \n",
       "4            A_K_Hangal_at_14th_Hira_Manik_Awards.jpg  http://www.rediff.com/news/2003/mar/06arvind.h...  \n",
       "5                                A.K.RamanujanPic.jpg  http://www.rediff.com/news/2003/mar/06arvind.h...  \n",
       "6                                   A.Kanyakumari.jpg  http://www.rediff.com/news/2003/mar/06arvind.h...  \n",
       "7                                  A._L._Mudaliar.jpg  http://www.rediff.com/news/2003/mar/06arvind.h...  \n",
       "8                                   Mr._A.M._Naik.jpg  http://www.rediff.com/news/2003/mar/06arvind.h...  \n",
       "9                                                 NaN  http://www.rediff.com/news/2003/mar/06arvind.h...  \n",
       "10                                                NaN  http://www.rediff.com/news/2003/mar/06arvind.h...  \n",
       "11                           A._P._J._Abdul_Kalam.jpg  http://www.rediff.com/news/2003/mar/06arvind.h...  \n",
       "12  AR_Rahman_At_The_%E2%80%98Marvel_Anthem%E2%80%...  http://www.rediff.com/news/2003/mar/06arvind.h...  \n",
       "13                 Padma_Bhushan_India_IIe_Klasse.jpg  http://www.rediff.com/news/2003/mar/06arvind.h...  \n",
       "14                             Ramaswamy_Mudaliar.jpg  http://www.rediff.com/news/2003/mar/06arvind.h...  \n",
       "15                                                NaN  http://www.rediff.com/news/2003/mar/06arvind.h...  \n",
       "16                                        Askiran.jpg  http://www.rediff.com/news/2003/mar/06arvind.h...  \n",
       "17                                                NaN  http://www.rediff.com/news/2003/mar/06arvind.h...  \n",
       "18                                                NaN  http://www.rediff.com/news/2003/mar/06arvind.h...  \n",
       "19  The_CEO_%26_MD%2C_Dr._A._Sivathanu_Pillai_intr...  http://www.rediff.com/news/2003/mar/06arvind.h...  \n",
       "20                             A._Sreedhara_Menon.jpg  http://www.rediff.com/news/2003/mar/06arvind.h...  \n",
       "21                                                NaN  http://www.rediff.com/news/2003/mar/06arvind.h...  \n",
       "22                                                NaN  http://www.rediff.com/news/2003/mar/06arvind.h...  \n",
       "23       Aamir_Khan_after_a_spa_session_in_Bandra.jpg  http://www.rediff.com/news/2003/mar/06arvind.h...  \n",
       "24                                                NaN  http://www.rediff.com/news/2003/mar/06arvind.h...  \n",
       "25                                           2013.jpg  http://www.rediff.com/news/2003/mar/06arvind.h...  \n",
       "26               Ustad_Abdul_Halim_Jaffer_Khan_01.jpg  http://www.rediff.com/news/2003/mar/06arvind.h...  \n",
       "27                                                NaN  http://www.rediff.com/news/2003/mar/06arvind.h...  \n",
       "28                                                NaN  http://www.rediff.com/news/2003/mar/06arvind.h...  \n",
       "29                                                NaN  http://www.rediff.com/news/2003/mar/06arvind.h...  "
      ]
     },
     "execution_count": 26,
     "metadata": {},
     "output_type": "execute_result"
    }
   ],
   "source": [
    "awards.head(30)"
   ]
  },
  {
   "cell_type": "code",
   "execution_count": 27,
   "metadata": {},
   "outputs": [
    {
     "data": {
      "text/plain": [
       "<WikipediaPage 'Aamir Khan'>"
      ]
     },
     "execution_count": 27,
     "metadata": {},
     "output_type": "execute_result"
    }
   ],
   "source": [
    "person = wikipedia.page(pageid='163038')\n",
    "person"
   ]
  },
  {
   "cell_type": "code",
   "execution_count": 23,
   "metadata": {},
   "outputs": [
    {
     "data": {
      "text/plain": [
       "'https://en.wikipedia.org/wiki/A_Zakia'"
      ]
     },
     "execution_count": 23,
     "metadata": {},
     "output_type": "execute_result"
    }
   ],
   "source": [
    "person.url"
   ]
  },
  {
   "cell_type": "code",
   "execution_count": 24,
   "metadata": {},
   "outputs": [
    {
     "data": {
      "text/plain": [
       "['http://morungexpress.com/zakia-mizoram-receive-padma-shri-award/',\n",
       " 'https://www.thebetterindia.com/136519/writer-zakia-mara-padma-shri-endangered-language/',\n",
       " 'https://m.dailyhunt.in/news/india/english/the+better+india-epaper-bettind/writer+wins+padma+shri+for+his+stupendous+efforts+to+save+endangered+language-newsid-84930957']"
      ]
     },
     "execution_count": 24,
     "metadata": {},
     "output_type": "execute_result"
    }
   ],
   "source": [
    "';'.join(person.references).split(';')"
   ]
  },
  {
   "cell_type": "code",
   "execution_count": 30,
   "metadata": {},
   "outputs": [
    {
     "name": "stderr",
     "output_type": "stream",
     "text": [
      "  0%|          | 0/4449 [00:00<?, ?it/s]C:\\Users\\LEGION\\AppData\\Local\\Temp\\ipykernel_19312\\2276373319.py:10: SettingWithCopyWarning: \n",
      "A value is trying to be set on a copy of a slice from a DataFrame\n",
      "\n",
      "See the caveats in the documentation: https://pandas.pydata.org/pandas-docs/stable/user_guide/indexing.html#returning-a-view-versus-a-copy\n",
      "  awards['Ref'][i] = ';'.join(person.references)\n",
      "  1%|          | 23/4449 [00:32<1:43:29,  1.40s/it]"
     ]
    },
    {
     "name": "stdout",
     "output_type": "stream",
     "text": [
      "Page id \"amir khan\" does not match any pages. Try another id!\n"
     ]
    },
    {
     "name": "stderr",
     "output_type": "stream",
     "text": [
      "  1%|          | 32/4449 [00:52<2:16:49,  1.86s/it]"
     ]
    },
    {
     "name": "stdout",
     "output_type": "stream",
     "text": [
      "'list' object has no attribute 'keys'\n"
     ]
    },
    {
     "name": "stderr",
     "output_type": "stream",
     "text": [
      "  1%|          | 34/4449 [00:56<2:12:06,  1.80s/it]"
     ]
    },
    {
     "name": "stdout",
     "output_type": "stream",
     "text": [
      "'list' object has no attribute 'keys'\n"
     ]
    },
    {
     "name": "stderr",
     "output_type": "stream",
     "text": [
      "  2%|▏         | 71/4449 [02:08<2:37:12,  2.15s/it]"
     ]
    },
    {
     "name": "stdout",
     "output_type": "stream",
     "text": [
      "Page id \"ajay chowdhry\" does not match any pages. Try another id!\n"
     ]
    },
    {
     "name": "stderr",
     "output_type": "stream",
     "text": [
      "  2%|▏         | 72/4449 [02:11<2:54:45,  2.40s/it]"
     ]
    },
    {
     "name": "stdout",
     "output_type": "stream",
     "text": [
      "Page id \"ajay devgn\" does not match any pages. Try another id!\n"
     ]
    },
    {
     "name": "stderr",
     "output_type": "stream",
     "text": [
      "  3%|▎         | 114/4449 [03:47<2:15:03,  1.87s/it]"
     ]
    },
    {
     "name": "stdout",
     "output_type": "stream",
     "text": [
      "Page id \"alice willa khan\" does not match any pages. Try another id!\n"
     ]
    },
    {
     "name": "stderr",
     "output_type": "stream",
     "text": [
      "  3%|▎         | 120/4449 [04:02<2:56:02,  2.44s/it]"
     ]
    },
    {
     "name": "stdout",
     "output_type": "stream",
     "text": [
      "Page id \"alluri venkata sathyanarayana raju\" does not match any pages. Try another id!\n"
     ]
    },
    {
     "name": "stderr",
     "output_type": "stream",
     "text": [
      "  3%|▎         | 130/4449 [04:18<1:29:34,  1.24s/it]"
     ]
    },
    {
     "name": "stdout",
     "output_type": "stream",
     "text": [
      "'list' object has no attribute 'keys'\n"
     ]
    },
    {
     "name": "stderr",
     "output_type": "stream",
     "text": [
      "  3%|▎         | 131/4449 [04:20<1:47:29,  1.49s/it]"
     ]
    },
    {
     "name": "stdout",
     "output_type": "stream",
     "text": [
      "'list' object has no attribute 'keys'\n"
     ]
    },
    {
     "name": "stderr",
     "output_type": "stream",
     "text": [
      "  3%|▎         | 137/4449 [04:35<2:49:48,  2.36s/it]"
     ]
    },
    {
     "name": "stdout",
     "output_type": "stream",
     "text": [
      "Page id \"ali khan\" does not match any pages. Try another id!\n"
     ]
    },
    {
     "name": "stderr",
     "output_type": "stream",
     "text": [
      "  3%|▎         | 138/4449 [04:39<3:30:03,  2.92s/it]"
     ]
    },
    {
     "name": "stdout",
     "output_type": "stream",
     "text": [
      "Page id \"amit mishra\" does not match any pages. Try another id!\n"
     ]
    },
    {
     "name": "stderr",
     "output_type": "stream",
     "text": [
      "  4%|▍         | 172/4449 [05:52<2:26:41,  2.06s/it]"
     ]
    },
    {
     "name": "stdout",
     "output_type": "stream",
     "text": [
      "Page id \"anand alias annasaheb sahasrabuddhe\" does not match any pages. Try another id!\n"
     ]
    },
    {
     "name": "stderr",
     "output_type": "stream",
     "text": [
      "  4%|▍         | 200/4449 [06:49<2:26:36,  2.07s/it]"
     ]
    },
    {
     "name": "stdout",
     "output_type": "stream",
     "text": [
      "Page id \"anu chopra\" does not match any pages. Try another id!\n"
     ]
    },
    {
     "name": "stderr",
     "output_type": "stream",
     "text": [
      "  5%|▌         | 234/4449 [07:54<1:44:29,  1.49s/it]"
     ]
    },
    {
     "name": "stdout",
     "output_type": "stream",
     "text": [
      "Page id \"arashi c narayanan nambiar\" does not match any pages. Try another id!\n"
     ]
    },
    {
     "name": "stderr",
     "output_type": "stream",
     "text": [
      "  6%|▌         | 258/4449 [08:43<2:50:56,  2.45s/it]C:\\Users\\LEGION\\anaconda3\\envs\\indicwiki\\lib\\site-packages\\wikipedia\\wikipedia.py:389: GuessedAtParserWarning: No parser was explicitly specified, so I'm using the best available HTML parser for this system (\"lxml\"). This usually isn't a problem, but if you run this code on another system, or in a different virtual environment, it may use a different parser and behave differently.\n",
      "\n",
      "The code that caused this warning is on line 389 of the file C:\\Users\\LEGION\\anaconda3\\envs\\indicwiki\\lib\\site-packages\\wikipedia\\wikipedia.py. To get rid of this warning, pass the additional argument 'features=\"lxml\"' to the BeautifulSoup constructor.\n",
      "\n",
      "  lis = BeautifulSoup(html).find_all('li')\n"
     ]
    },
    {
     "name": "stdout",
     "output_type": "stream",
     "text": [
      "\"Arun Sharma\" may refer to: \n",
      "Arun Sharma (Punjab cricketer)\n",
      "Arun Sharma (Services cricketer)\n",
      "Arun Kumar Sharma\n",
      "Arun Sarma\n",
      "Arun Sharma (Indian Australian computer scientist)\n"
     ]
    },
    {
     "name": "stderr",
     "output_type": "stream",
     "text": [
      "  6%|▌         | 269/4449 [09:05<2:33:11,  2.20s/it]"
     ]
    },
    {
     "name": "stdout",
     "output_type": "stream",
     "text": [
      "Page id \"aruna sinha\" does not match any pages. Try another id!\n"
     ]
    },
    {
     "name": "stderr",
     "output_type": "stream",
     "text": [
      "  7%|▋         | 313/4449 [10:37<2:42:25,  2.36s/it]"
     ]
    },
    {
     "name": "stdout",
     "output_type": "stream",
     "text": [
      "Page id \"ashok sen\" does not match any pages. Try another id!\n"
     ]
    },
    {
     "name": "stderr",
     "output_type": "stream",
     "text": [
      "  7%|▋         | 325/4449 [11:04<2:51:05,  2.49s/it]"
     ]
    },
    {
     "name": "stdout",
     "output_type": "stream",
     "text": [
      "Page id \"atma at\" does not match any pages. Try another id!\n"
     ]
    },
    {
     "name": "stderr",
     "output_type": "stream",
     "text": [
      "  7%|▋         | 329/4449 [11:13<2:23:48,  2.09s/it]"
     ]
    },
    {
     "name": "stdout",
     "output_type": "stream",
     "text": [
      "'extlinks'\n"
     ]
    },
    {
     "name": "stderr",
     "output_type": "stream",
     "text": [
      "  7%|▋         | 330/4449 [11:17<2:55:35,  2.56s/it]"
     ]
    },
    {
     "name": "stdout",
     "output_type": "stream",
     "text": [
      "'extlinks'\n"
     ]
    },
    {
     "name": "stderr",
     "output_type": "stream",
     "text": [
      "  7%|▋         | 332/4449 [11:19<2:17:43,  2.01s/it]"
     ]
    },
    {
     "name": "stdout",
     "output_type": "stream",
     "text": [
      "\"Atul Kumar\" may refer to: \n",
      "Atul Kumar (chemist)\n",
      "Atul Kumar (ophthalmologist)\n"
     ]
    },
    {
     "name": "stderr",
     "output_type": "stream",
     "text": [
      "  7%|▋         | 333/4449 [11:23<2:49:53,  2.48s/it]"
     ]
    },
    {
     "name": "stdout",
     "output_type": "stream",
     "text": [
      "Page id \"aulaki dastardly nilibayev\" does not match any pages. Try another id!\n"
     ]
    },
    {
     "name": "stderr",
     "output_type": "stream",
     "text": [
      "  8%|▊         | 349/4449 [12:02<2:36:05,  2.28s/it]"
     ]
    },
    {
     "name": "stdout",
     "output_type": "stream",
     "text": [
      "Page id \"ayaviri rao\" does not match any pages. Try another id!\n"
     ]
    },
    {
     "name": "stderr",
     "output_type": "stream",
     "text": [
      "  8%|▊         | 371/4449 [13:03<2:40:56,  2.37s/it]"
     ]
    },
    {
     "name": "stdout",
     "output_type": "stream",
     "text": [
      "Page id \"be chopra\" does not match any pages. Try another id!\n"
     ]
    },
    {
     "name": "stderr",
     "output_type": "stream",
     "text": [
      "  9%|▊         | 385/4449 [13:37<2:36:54,  2.32s/it]"
     ]
    },
    {
     "name": "stdout",
     "output_type": "stream",
     "text": [
      "Page id \"b s raju\" does not match any pages. Try another id!\n"
     ]
    },
    {
     "name": "stderr",
     "output_type": "stream",
     "text": [
      "  9%|▊         | 388/4449 [13:47<3:12:23,  2.84s/it]"
     ]
    },
    {
     "name": "stdout",
     "output_type": "stream",
     "text": [
      "Page id \"baba mate\" does not match any pages. Try another id!\n"
     ]
    },
    {
     "name": "stderr",
     "output_type": "stream",
     "text": [
      "  9%|▉         | 409/4449 [14:41<2:37:34,  2.34s/it]"
     ]
    },
    {
     "name": "stdout",
     "output_type": "stream",
     "text": [
      "Page id \"bhaichung bhutia\" does not match any pages. Try another id!\n"
     ]
    },
    {
     "name": "stderr",
     "output_type": "stream",
     "text": [
      "  9%|▉         | 421/4449 [15:12<3:41:08,  3.29s/it]"
     ]
    },
    {
     "name": "stdout",
     "output_type": "stream",
     "text": [
      "Page id \"balachandran menon\" does not match any pages. Try another id!\n"
     ]
    },
    {
     "name": "stderr",
     "output_type": "stream",
     "text": [
      " 10%|█         | 447/4449 [16:09<2:50:03,  2.55s/it]"
     ]
    },
    {
     "name": "stdout",
     "output_type": "stream",
     "text": [
      "Page id \"balaram bhargava\" does not match any pages. Try another id!\n"
     ]
    },
    {
     "name": "stderr",
     "output_type": "stream",
     "text": [
      " 11%|█         | 470/4449 [16:58<2:20:46,  2.12s/it]"
     ]
    },
    {
     "name": "stdout",
     "output_type": "stream",
     "text": [
      "Page id \"barry gardener\" does not match any pages. Try another id!\n"
     ]
    },
    {
     "name": "stderr",
     "output_type": "stream",
     "text": [
      " 11%|█         | 485/4449 [17:30<2:41:58,  2.45s/it]"
     ]
    },
    {
     "name": "stdout",
     "output_type": "stream",
     "text": [
      "('Connection aborted.', RemoteDisconnected('Remote end closed connection without response'))\n"
     ]
    },
    {
     "name": "stderr",
     "output_type": "stream",
     "text": [
      " 11%|█         | 491/4449 [17:48<2:37:57,  2.39s/it]"
     ]
    },
    {
     "name": "stdout",
     "output_type": "stream",
     "text": [
      "Page id \"bellaire shawanda kesavan\" does not match any pages. Try another id!\n"
     ]
    },
    {
     "name": "stderr",
     "output_type": "stream",
     "text": [
      " 12%|█▏        | 524/4449 [18:55<2:21:00,  2.16s/it]"
     ]
    },
    {
     "name": "stdout",
     "output_type": "stream",
     "text": [
      "Page id \"bhalchandra digamber garware\" does not match any pages. Try another id!\n"
     ]
    },
    {
     "name": "stderr",
     "output_type": "stream",
     "text": [
      " 13%|█▎        | 569/4449 [20:32<3:02:32,  2.82s/it]"
     ]
    },
    {
     "name": "stdout",
     "output_type": "stream",
     "text": [
      "Page id \"bill gets\" does not match any pages. Try another id!\n"
     ]
    },
    {
     "name": "stderr",
     "output_type": "stream",
     "text": [
      " 16%|█▌        | 701/4449 [24:34<2:04:59,  2.00s/it]"
     ]
    },
    {
     "name": "stdout",
     "output_type": "stream",
     "text": [
      "\"Charanjit Singh\" may refer to: \n",
      "Charanjit Singh (cricketer)\n",
      "Charanjit Singh (hockey player)\n",
      "Charanjit Singh (musician)\n",
      "Charanjit Singh (politician)\n",
      "Charanjit Singh Atwal\n",
      "Charanjit Singh Channi\n",
      "Charanjit Singh Walia\n"
     ]
    },
    {
     "name": "stderr",
     "output_type": "stream",
     "text": [
      " 16%|█▌        | 702/4449 [24:39<2:47:39,  2.68s/it]"
     ]
    },
    {
     "name": "stdout",
     "output_type": "stream",
     "text": [
      "\"Charanjit Singh\" may refer to: \n",
      "Charanjit Singh (cricketer)\n",
      "Charanjit Singh (hockey player)\n",
      "Charanjit Singh (musician)\n",
      "Charanjit Singh (politician)\n",
      "Charanjit Singh Atwal\n",
      "Charanjit Singh Channi\n",
      "Charanjit Singh Walia\n"
     ]
    },
    {
     "name": "stderr",
     "output_type": "stream",
     "text": [
      " 16%|█▌        | 705/4449 [24:46<2:28:51,  2.39s/it]"
     ]
    },
    {
     "name": "stdout",
     "output_type": "stream",
     "text": [
      "Page id \"chemancheri kunhiraman nair\" does not match any pages. Try another id!\n"
     ]
    },
    {
     "name": "stderr",
     "output_type": "stream",
     "text": [
      " 18%|█▊        | 787/4449 [27:23<2:17:19,  2.25s/it]"
     ]
    },
    {
     "name": "stdout",
     "output_type": "stream",
     "text": [
      "Page id \"damodar kesha dawar\" does not match any pages. Try another id!\n"
     ]
    },
    {
     "name": "stderr",
     "output_type": "stream",
     "text": [
      " 18%|█▊        | 820/4449 [28:34<1:58:35,  1.96s/it]"
     ]
    },
    {
     "name": "stdout",
     "output_type": "stream",
     "text": [
      "Page id \"deepak malik\" does not match any pages. Try another id!\n"
     ]
    },
    {
     "name": "stderr",
     "output_type": "stream",
     "text": [
      " 19%|█▉        | 864/4449 [29:43<1:03:24,  1.06s/it]"
     ]
    },
    {
     "name": "stdout",
     "output_type": "stream",
     "text": [
      "Page id \"dharma narayan barra\" does not match any pages. Try another id!\n"
     ]
    },
    {
     "name": "stderr",
     "output_type": "stream",
     "text": [
      " 19%|█▉        | 865/4449 [29:45<1:15:07,  1.26s/it]"
     ]
    },
    {
     "name": "stdout",
     "output_type": "stream",
     "text": [
      "'list' object has no attribute 'keys'\n"
     ]
    },
    {
     "name": "stderr",
     "output_type": "stream",
     "text": [
      " 20%|█▉        | 883/4449 [30:20<1:46:53,  1.80s/it]"
     ]
    },
    {
     "name": "stdout",
     "output_type": "stream",
     "text": [
      "Page id \"filip shanghai\" does not match any pages. Try another id!\n"
     ]
    },
    {
     "name": "stderr",
     "output_type": "stream",
     "text": [
      " 20%|█▉        | 886/4449 [30:28<2:15:51,  2.29s/it]"
     ]
    },
    {
     "name": "stdout",
     "output_type": "stream",
     "text": [
      "Page id \"dimitrie c velissaropoulos\" does not match any pages. Try another id!\n"
     ]
    },
    {
     "name": "stderr",
     "output_type": "stream",
     "text": [
      " 21%|██        | 941/4449 [32:02<1:55:16,  1.97s/it]"
     ]
    },
    {
     "name": "stdout",
     "output_type": "stream",
     "text": [
      "Page id \"edmund hilary\" does not match any pages. Try another id!\n"
     ]
    },
    {
     "name": "stderr",
     "output_type": "stream",
     "text": [
      " 21%|██        | 944/4449 [32:11<2:18:29,  2.37s/it]"
     ]
    },
    {
     "name": "stdout",
     "output_type": "stream",
     "text": [
      "Page id \"rita kapoor\" does not match any pages. Try another id!\n"
     ]
    },
    {
     "name": "stderr",
     "output_type": "stream",
     "text": [
      " 22%|██▏       | 962/4449 [32:45<1:22:06,  1.41s/it]"
     ]
    },
    {
     "name": "stdout",
     "output_type": "stream",
     "text": [
      "Page id \"ezra mi\" does not match any pages. Try another id!\n"
     ]
    },
    {
     "name": "stderr",
     "output_type": "stream",
     "text": [
      " 22%|██▏       | 967/4449 [32:55<1:50:05,  1.90s/it]"
     ]
    },
    {
     "name": "stdout",
     "output_type": "stream",
     "text": [
      "Page id \"farooq engineer\" does not match any pages. Try another id!\n"
     ]
    },
    {
     "name": "stderr",
     "output_type": "stream",
     "text": [
      " 22%|██▏       | 979/4449 [33:17<1:36:25,  1.67s/it]"
     ]
    },
    {
     "name": "stdout",
     "output_type": "stream",
     "text": [
      "Page id \"flora mcdonald\" does not match any pages. Try another id!\n"
     ]
    },
    {
     "name": "stderr",
     "output_type": "stream",
     "text": [
      " 22%|██▏       | 980/4449 [33:20<1:54:21,  1.98s/it]"
     ]
    },
    {
     "name": "stdout",
     "output_type": "stream",
     "text": [
      "Page id \"frances done\" does not match any pages. Try another id!\n"
     ]
    },
    {
     "name": "stderr",
     "output_type": "stream",
     "text": [
      " 23%|██▎       | 1012/4449 [34:24<1:47:04,  1.87s/it]"
     ]
    },
    {
     "name": "stdout",
     "output_type": "stream",
     "text": [
      "\"Gajendra Narayan Singh\" may refer to: \n",
      "Gajendra Narayan Singh (politician)\n",
      "Gajendra Narayan Singh (musicologist)\n",
      "Gajendra Narayan Singh Sagarmatha Zonal Hospital\n"
     ]
    },
    {
     "name": "stderr",
     "output_type": "stream",
     "text": [
      " 23%|██▎       | 1022/4449 [34:49<2:21:00,  2.47s/it]"
     ]
    },
    {
     "name": "stdout",
     "output_type": "stream",
     "text": [
      "Page id \"gangu bai hangal\" does not match any pages. Try another id!\n"
     ]
    },
    {
     "name": "stderr",
     "output_type": "stream",
     "text": [
      " 23%|██▎       | 1034/4449 [35:17<2:20:38,  2.47s/it]"
     ]
    },
    {
     "name": "stdout",
     "output_type": "stream",
     "text": [
      "Page id \"geeta kapoor\" does not match any pages. Try another id!\n"
     ]
    },
    {
     "name": "stderr",
     "output_type": "stream",
     "text": [
      " 23%|██▎       | 1041/4449 [35:31<1:51:46,  1.97s/it]"
     ]
    },
    {
     "name": "stdout",
     "output_type": "stream",
     "text": [
      "\"George Joseph\" may refer to: \n",
      "George W. Joseph\n",
      "George Joseph (activist)\n",
      "George Joseph (banker)\n",
      "George Joseph (insurer)\n",
      "George Joseph (scientist)\n",
      "George M. Joseph\n",
      "George Francis Joseph\n",
      "George Joseph (Australian politician)\n",
      "George Joseph (diplomat)\n",
      "George Joseph (composer)\n",
      "All pages with titles containing George Joseph\n"
     ]
    },
    {
     "name": "stderr",
     "output_type": "stream",
     "text": [
      " 25%|██▍       | 1099/4449 [37:23<1:50:06,  1.97s/it]"
     ]
    },
    {
     "name": "stdout",
     "output_type": "stream",
     "text": [
      "Page id \"gopalan narasimha\" does not match any pages. Try another id!\n"
     ]
    },
    {
     "name": "stderr",
     "output_type": "stream",
     "text": [
      " 25%|██▍       | 1100/4449 [37:26<1:59:47,  2.15s/it]"
     ]
    },
    {
     "name": "stdout",
     "output_type": "stream",
     "text": [
      "'extlinks'\n"
     ]
    },
    {
     "name": "stderr",
     "output_type": "stream",
     "text": [
      " 25%|██▌       | 1113/4449 [37:48<1:36:51,  1.74s/it]"
     ]
    },
    {
     "name": "stdout",
     "output_type": "stream",
     "text": [
      "Page id \"gora kojima\" does not match any pages. Try another id!\n"
     ]
    },
    {
     "name": "stderr",
     "output_type": "stream",
     "text": [
      " 25%|██▌       | 1120/4449 [38:00<1:36:25,  1.74s/it]"
     ]
    },
    {
     "name": "stdout",
     "output_type": "stream",
     "text": [
      "Page id \"govind bhim acharya josh\" does not match any pages. Try another id!\n"
     ]
    },
    {
     "name": "stderr",
     "output_type": "stream",
     "text": [
      " 26%|██▌       | 1145/4449 [38:54<2:12:24,  2.40s/it]"
     ]
    },
    {
     "name": "stdout",
     "output_type": "stream",
     "text": [
      "Page id \"gulab rai\" does not match any pages. Try another id!\n"
     ]
    },
    {
     "name": "stderr",
     "output_type": "stream",
     "text": [
      " 26%|██▌       | 1153/4449 [39:09<1:32:58,  1.69s/it]"
     ]
    },
    {
     "name": "stdout",
     "output_type": "stream",
     "text": [
      "Page id \"gulzar ahmed\" does not match any pages. Try another id!\n"
     ]
    },
    {
     "name": "stderr",
     "output_type": "stream",
     "text": [
      " 26%|██▌       | 1154/4449 [39:12<1:39:38,  1.81s/it]"
     ]
    },
    {
     "name": "stdout",
     "output_type": "stream",
     "text": [
      "'list' object has no attribute 'keys'\n"
     ]
    },
    {
     "name": "stderr",
     "output_type": "stream",
     "text": [
      " 26%|██▌       | 1163/4449 [39:33<2:02:19,  2.23s/it]"
     ]
    },
    {
     "name": "stdout",
     "output_type": "stream",
     "text": [
      "\"Günter Krüger\" may refer to: \n",
      "Günter Krüger (canoeist)\n",
      "Günter Krüger (judoka)\n"
     ]
    },
    {
     "name": "stderr",
     "output_type": "stream",
     "text": [
      " 29%|██▉       | 1290/4449 [43:31<1:42:18,  1.94s/it]"
     ]
    },
    {
     "name": "stdout",
     "output_type": "stream",
     "text": [
      "\"helena\" may refer to: \n",
      "Helena (given name)\n",
      "Katri Helena\n",
      "Helena, mother of Constantine I\n",
      "Helena (island)\n",
      "Helena, Guyana\n",
      "Helena, Montana\n",
      "Helena National Forest\n",
      "Helena, Montana micropolitan area\n",
      "Lake Helena\n",
      "Helena, Alabama\n",
      "Helena, Arkansas\n",
      "Battle of Helena\n",
      "Helena, California\n",
      "Helena, Georgia\n",
      "Helena, Louisiana\n",
      "Helena Township, Michigan\n",
      "Helena, Huron County, Michigan\n",
      "Helena, Marquette County, Michigan\n",
      "Helena Township, Minnesota\n",
      "Helena, Mississippi\n",
      "Helena, Missouri\n",
      "Helena, New York\n",
      "Helena, Ohio\n",
      "Helena, Oklahoma\n",
      "Helena, South Carolina\n",
      "Helena, Texas\n",
      "Helena, Wisconsin\n",
      "Helena Island (Nunavut)\n",
      "Helena Lake, Saskatchewan\n",
      "Helena (1924 film)\n",
      "2008 Colombian film\n",
      "2014 Argentine film\n",
      "Helena (Machado de Assis novel)\n",
      "Helena (Waugh novel)\n",
      "Helena (A Midsummer Night's Dream)\n",
      "\"Helena\" (Hugo Raspoet song)\n",
      "\"Helena\" (My Chemical Romance song)\n",
      "Helena Beat\n",
      "Famous Monsters\n",
      "Why Should the Fire Die?\n",
      "The Hierophant\n",
      "Jack de Nijs\n",
      "Leapy Lee\n",
      "Ladi Geisler\n",
      "HMS Helena\n",
      "Helena\n",
      "USS Helena\n",
      "USS Helena I (SP-24)\n",
      "Morpho helena\n",
      "Haplogroup H\n",
      "St. Elmo's fire\n",
      "101 Helena\n",
      "Helmholtz Graduate School Environmental Health\n",
      "Handley Page H.P.42\n",
      "Elena (disambiguation)\n",
      "Eleni (disambiguation)\n",
      "Helen (disambiguation)\n",
      "Helene (disambiguation)\n",
      "Hellen\n",
      "Saint Helena (disambiguation)\n"
     ]
    },
    {
     "name": "stderr",
     "output_type": "stream",
     "text": [
      " 29%|██▉       | 1293/4449 [43:41<2:15:01,  2.57s/it]"
     ]
    },
    {
     "name": "stdout",
     "output_type": "stream",
     "text": [
      "Page id \"he a maliki\" does not match any pages. Try another id!\n"
     ]
    },
    {
     "name": "stderr",
     "output_type": "stream",
     "text": [
      " 29%|██▉       | 1306/4449 [44:09<1:56:31,  2.22s/it]"
     ]
    },
    {
     "name": "stdout",
     "output_type": "stream",
     "text": [
      "Page id \"himmat ram bhambhu\" does not match any pages. Try another id!\n"
     ]
    },
    {
     "name": "stderr",
     "output_type": "stream",
     "text": [
      " 29%|██▉       | 1308/4449 [44:11<1:29:10,  1.70s/it]"
     ]
    },
    {
     "name": "stdout",
     "output_type": "stream",
     "text": [
      "'list' object has no attribute 'keys'\n"
     ]
    },
    {
     "name": "stderr",
     "output_type": "stream",
     "text": [
      " 30%|███       | 1339/4449 [45:12<1:30:38,  1.75s/it]"
     ]
    },
    {
     "name": "stdout",
     "output_type": "stream",
     "text": [
      "Page id \"i nyoman nudaria\" does not match any pages. Try another id!\n"
     ]
    },
    {
     "name": "stderr",
     "output_type": "stream",
     "text": [
      " 30%|███       | 1350/4449 [45:39<2:01:42,  2.36s/it]"
     ]
    },
    {
     "name": "stdout",
     "output_type": "stream",
     "text": [
      "\"Imran Shah\" may refer to: \n",
      "Imran Shah (writer)\n",
      "Imran Shah (cricketer)\n",
      "Imran Shah (field hockey)\n"
     ]
    },
    {
     "name": "stderr",
     "output_type": "stream",
     "text": [
      " 31%|███       | 1370/4449 [46:23<1:59:45,  2.33s/it]"
     ]
    },
    {
     "name": "stdout",
     "output_type": "stream",
     "text": [
      "Page id \"irfan khan\" does not match any pages. Try another id!\n"
     ]
    },
    {
     "name": "stderr",
     "output_type": "stream",
     "text": [
      " 31%|███       | 1371/4449 [46:27<2:21:12,  2.75s/it]"
     ]
    },
    {
     "name": "stdout",
     "output_type": "stream",
     "text": [
      "'list' object has no attribute 'keys'\n"
     ]
    },
    {
     "name": "stderr",
     "output_type": "stream",
     "text": [
      " 31%|███       | 1372/4449 [46:30<2:27:35,  2.88s/it]"
     ]
    },
    {
     "name": "stdout",
     "output_type": "stream",
     "text": [
      "'list' object has no attribute 'keys'\n"
     ]
    },
    {
     "name": "stderr",
     "output_type": "stream",
     "text": [
      " 31%|███▏      | 1399/4449 [47:30<2:27:09,  2.89s/it]"
     ]
    },
    {
     "name": "stdout",
     "output_type": "stream",
     "text": [
      "\"Jack Gibson\" may refer to: \n",
      "Jack Gibson (rugby league)\n",
      "Jack Stanley Gibson\n",
      "Jack Gibson (ice hockey, born 1880)\n",
      "Jack Gibson (ice hockey, born 1948)\n",
      "Exodus\n",
      "Jack Gibson (schoolmaster)\n",
      "Joseph Deighton Gibson Jr.\n",
      "John Gibson (disambiguation)\n"
     ]
    },
    {
     "name": "stderr",
     "output_type": "stream",
     "text": [
      " 32%|███▏      | 1423/4449 [48:11<1:09:14,  1.37s/it]"
     ]
    },
    {
     "name": "stdout",
     "output_type": "stream",
     "text": [
      "Page id \"jagdish mitra padua\" does not match any pages. Try another id!\n"
     ]
    },
    {
     "name": "stderr",
     "output_type": "stream",
     "text": [
      " 32%|███▏      | 1426/4449 [48:18<1:29:17,  1.77s/it]"
     ]
    },
    {
     "name": "stdout",
     "output_type": "stream",
     "text": [
      "Page id \"jagdish seth\" does not match any pages. Try another id!\n"
     ]
    },
    {
     "name": "stderr",
     "output_type": "stream",
     "text": [
      " 32%|███▏      | 1437/4449 [48:42<1:33:21,  1.86s/it]"
     ]
    },
    {
     "name": "stdout",
     "output_type": "stream",
     "text": [
      "HTTPConnectionPool(host='en.wikipedia.org', port=80): Max retries exceeded with url: /w/api.php?prop=info%7Cpageprops&inprop=url&ppprop=disambiguation&redirects=&titles=Jai+Bhagwan+Chaudhary&format=json&action=query (Caused by NewConnectionError('<urllib3.connection.HTTPConnection object at 0x0000028D221ACCD0>: Failed to establish a new connection: [WinError 10060] A connection attempt failed because the connected party did not properly respond after a period of time, or established connection failed because connected host has failed to respond'))\n"
     ]
    },
    {
     "name": "stderr",
     "output_type": "stream",
     "text": [
      " 32%|███▏      | 1443/4449 [49:13<2:53:21,  3.46s/it]"
     ]
    },
    {
     "name": "stdout",
     "output_type": "stream",
     "text": [
      "'list' object has no attribute 'keys'\n"
     ]
    },
    {
     "name": "stderr",
     "output_type": "stream",
     "text": [
      " 32%|███▏      | 1444/4449 [49:17<2:49:29,  3.38s/it]"
     ]
    },
    {
     "name": "stdout",
     "output_type": "stream",
     "text": [
      "'list' object has no attribute 'keys'\n",
      "Page id \"jaikishan dayabhai panchal\" does not match any pages. Try another id!\n"
     ]
    },
    {
     "name": "stderr",
     "output_type": "stream",
     "text": [
      " 33%|███▎      | 1456/4449 [49:39<1:49:04,  2.19s/it]"
     ]
    },
    {
     "name": "stdout",
     "output_type": "stream",
     "text": [
      "Page id \"gamini roy\" does not match any pages. Try another id!\n"
     ]
    },
    {
     "name": "stderr",
     "output_type": "stream",
     "text": [
      " 33%|███▎      | 1468/4449 [50:07<2:03:13,  2.48s/it]"
     ]
    },
    {
     "name": "stdout",
     "output_type": "stream",
     "text": [
      "\"Jasjit Singh\" may refer to: \n",
      "Jasjit Singh (IAF officer)\n",
      "Jasjit Singh (tennis)\n",
      "Jasjit Singh Kular\n",
      "Jasjit Singh (academic)\n"
     ]
    },
    {
     "name": "stderr",
     "output_type": "stream",
     "text": [
      " 33%|███▎      | 1481/4449 [50:32<1:15:04,  1.52s/it]"
     ]
    },
    {
     "name": "stdout",
     "output_type": "stream",
     "text": [
      "Page id \"javed ahmad tak\" does not match any pages. Try another id!\n"
     ]
    },
    {
     "name": "stderr",
     "output_type": "stream",
     "text": [
      " 33%|███▎      | 1482/4449 [50:34<1:25:39,  1.73s/it]"
     ]
    },
    {
     "name": "stdout",
     "output_type": "stream",
     "text": [
      "'list' object has no attribute 'keys'\n"
     ]
    },
    {
     "name": "stderr",
     "output_type": "stream",
     "text": [
      " 34%|███▎      | 1492/4449 [50:55<1:25:41,  1.74s/it]"
     ]
    },
    {
     "name": "stdout",
     "output_type": "stream",
     "text": [
      "Page id \"jayant kumar ghosh\" does not match any pages. Try another id!\n"
     ]
    },
    {
     "name": "stderr",
     "output_type": "stream",
     "text": [
      " 35%|███▌      | 1559/4449 [53:07<1:36:31,  2.00s/it]"
     ]
    },
    {
     "name": "stdout",
     "output_type": "stream",
     "text": [
      "\"José Pereira\" may refer to: \n",
      "José Pereira (baseball)\n",
      "José Pereira (footballer)\n",
      "José Pereira (pentathlete)\n",
      "José Pereira (scholar)\n",
      "José Pereira (swimmer)\n",
      "José Maria Pereira\n",
      "José Pacheco Pereira\n",
      "José Carlos Pereira\n",
      "José João Pereira\n",
      "José Luiz Pereira\n"
     ]
    },
    {
     "name": "stderr",
     "output_type": "stream",
     "text": [
      " 35%|███▌      | 1563/4449 [53:19<2:02:32,  2.55s/it]"
     ]
    },
    {
     "name": "stdout",
     "output_type": "stream",
     "text": [
      "\"Jugal Kishore\" may refer to: \n",
      "Jugal Kishore (physician)\n",
      "Jugal Kishore (UP politician)\n",
      "Jugal Kishore Birla\n",
      "Jugal Kishore Choudhury\n",
      "Jugal Kishore Sharma\n",
      "Thakur Jugal Kishore Sinha\n",
      "Amdanga Jugal Kishore Mahavidyalaya\n",
      "Kishore (name)\n"
     ]
    },
    {
     "name": "stderr",
     "output_type": "stream",
     "text": [
      " 36%|███▌      | 1583/4449 [54:00<1:38:37,  2.06s/it]"
     ]
    },
    {
     "name": "stdout",
     "output_type": "stream",
     "text": [
      "'list' object has no attribute 'keys'\n"
     ]
    },
    {
     "name": "stderr",
     "output_type": "stream",
     "text": [
      " 36%|███▌      | 1584/4449 [54:04<1:56:37,  2.44s/it]"
     ]
    },
    {
     "name": "stdout",
     "output_type": "stream",
     "text": [
      "'list' object has no attribute 'keys'\n"
     ]
    },
    {
     "name": "stderr",
     "output_type": "stream",
     "text": [
      " 36%|███▌      | 1603/4449 [54:38<1:37:39,  2.06s/it]"
     ]
    },
    {
     "name": "stdout",
     "output_type": "stream",
     "text": [
      "\"K. M. George\" may refer to: \n",
      "K. M. George (politician)\n",
      "K. M. George (writer)\n",
      "Kayalakakam M. George\n"
     ]
    },
    {
     "name": "stderr",
     "output_type": "stream",
     "text": [
      " 37%|███▋      | 1634/4449 [55:54<1:51:27,  2.38s/it]"
     ]
    },
    {
     "name": "stdout",
     "output_type": "stream",
     "text": [
      "Page id \"t v thomas\" does not match any pages. Try another id!\n"
     ]
    },
    {
     "name": "stderr",
     "output_type": "stream",
     "text": [
      " 37%|███▋      | 1646/4449 [56:19<1:45:53,  2.27s/it]"
     ]
    },
    {
     "name": "stdout",
     "output_type": "stream",
     "text": [
      "Page id \"amer khan\" does not match any pages. Try another id!\n"
     ]
    },
    {
     "name": "stderr",
     "output_type": "stream",
     "text": [
      " 37%|███▋      | 1661/4449 [56:44<1:22:04,  1.77s/it]"
     ]
    },
    {
     "name": "stdout",
     "output_type": "stream",
     "text": [
      "\"karol\" may refer to: \n",
      "Karol (name)\n",
      "Karol, Gujarat\n",
      "Karol State\n",
      "King Karol\n",
      "Karol: A Man Who Became Pope\n",
      "Karol: The Pope, The Man\n",
      "Karol: A Man Who Became Pope\n",
      "All pages with titles beginning with Karol\n",
      "All pages with titles containing Karol\n",
      "Kalol (disambiguation)\n",
      "Karoli (disambiguation)\n",
      "Karoo (disambiguation)\n",
      "Karow (disambiguation)\n"
     ]
    },
    {
     "name": "stderr",
     "output_type": "stream",
     "text": [
      " 38%|███▊      | 1684/4449 [57:32<1:14:13,  1.61s/it]"
     ]
    },
    {
     "name": "stdout",
     "output_type": "stream",
     "text": [
      "\"Kalyan Banerjee\" may refer to: \n",
      "Kalyan Banerjee (Rotary International)\n",
      "Kalyan Banerjee (politician)\n",
      "Kalyan Banerjee (homeopathic physician)\n"
     ]
    },
    {
     "name": "stderr",
     "output_type": "stream",
     "text": [
      " 38%|███▊      | 1691/4449 [57:47<1:29:16,  1.94s/it]"
     ]
    },
    {
     "name": "stdout",
     "output_type": "stream",
     "text": [
      "Page id \"kamal hassan\" does not match any pages. Try another id!\n"
     ]
    },
    {
     "name": "stderr",
     "output_type": "stream",
     "text": [
      " 39%|███▉      | 1739/4449 [59:28<1:20:13,  1.78s/it]"
     ]
    },
    {
     "name": "stdout",
     "output_type": "stream",
     "text": [
      "Page id \"kiran singh\" does not match any pages. Try another id!\n"
     ]
    },
    {
     "name": "stderr",
     "output_type": "stream",
     "text": [
      " 39%|███▉      | 1741/4449 [59:33<1:35:49,  2.12s/it]"
     ]
    },
    {
     "name": "stdout",
     "output_type": "stream",
     "text": [
      "Page id \"karim al hussayni aga khan\" does not match any pages. Try another id!\n"
     ]
    },
    {
     "name": "stderr",
     "output_type": "stream",
     "text": [
      " 40%|████      | 1799/4449 [1:01:31<1:43:45,  2.35s/it]"
     ]
    },
    {
     "name": "stdout",
     "output_type": "stream",
     "text": [
      "Page id \"kewal singh chaudhary\" does not match any pages. Try another id!\n"
     ]
    },
    {
     "name": "stderr",
     "output_type": "stream",
     "text": [
      " 41%|████      | 1820/4449 [1:02:18<1:47:50,  2.46s/it]"
     ]
    },
    {
     "name": "stdout",
     "output_type": "stream",
     "text": [
      "Page id \"kira martin\" does not match any pages. Try another id!\n"
     ]
    },
    {
     "name": "stderr",
     "output_type": "stream",
     "text": [
      " 41%|████      | 1823/4449 [1:02:27<1:59:35,  2.73s/it]"
     ]
    },
    {
     "name": "stdout",
     "output_type": "stream",
     "text": [
      "('Connection aborted.', RemoteDisconnected('Remote end closed connection without response'))\n"
     ]
    },
    {
     "name": "stderr",
     "output_type": "stream",
     "text": [
      " 42%|████▏     | 1848/4449 [1:03:23<1:31:55,  2.12s/it]"
     ]
    },
    {
     "name": "stdout",
     "output_type": "stream",
     "text": [
      "Page id \"kothi narasimha udhna\" does not match any pages. Try another id!\n"
     ]
    },
    {
     "name": "stderr",
     "output_type": "stream",
     "text": [
      " 42%|████▏     | 1873/4449 [1:04:08<1:11:19,  1.66s/it]"
     ]
    },
    {
     "name": "stdout",
     "output_type": "stream",
     "text": [
      "Page id \"krishna ramchandra kriplani\" does not match any pages. Try another id!\n"
     ]
    },
    {
     "name": "stderr",
     "output_type": "stream",
     "text": [
      " 43%|████▎     | 1904/4449 [1:05:00<1:14:12,  1.75s/it]"
     ]
    },
    {
     "name": "stdout",
     "output_type": "stream",
     "text": [
      "HTTPConnectionPool(host='en.wikipedia.org', port=80): Max retries exceeded with url: /w/api.php?prop=info%7Cpageprops&inprop=url&ppprop=disambiguation&redirects=&titles=Kumari+Kamala&format=json&action=query (Caused by NewConnectionError('<urllib3.connection.HTTPConnection object at 0x0000028D22219310>: Failed to establish a new connection: [WinError 10060] A connection attempt failed because the connected party did not properly respond after a period of time, or established connection failed because connected host has failed to respond'))\n"
     ]
    },
    {
     "name": "stderr",
     "output_type": "stream",
     "text": [
      " 43%|████▎     | 1930/4449 [1:06:32<1:59:32,  2.85s/it]"
     ]
    },
    {
     "name": "stdout",
     "output_type": "stream",
     "text": [
      "('Connection aborted.', RemoteDisconnected('Remote end closed connection without response'))\n"
     ]
    },
    {
     "name": "stderr",
     "output_type": "stream",
     "text": [
      " 44%|████▎     | 1946/4449 [1:07:17<1:16:38,  1.84s/it]"
     ]
    },
    {
     "name": "stdout",
     "output_type": "stream",
     "text": [
      "\"Lakshman Singh\" may refer to: \n",
      "Lakshman Singh (golfer)\n",
      "Lakshman Singh (politician)\n",
      "Lakshman Singh (Scouting)\n",
      "Laxman Singh\n"
     ]
    },
    {
     "name": "stderr",
     "output_type": "stream",
     "text": [
      " 45%|████▍     | 1990/4449 [1:08:58<1:28:17,  2.15s/it]"
     ]
    },
    {
     "name": "stdout",
     "output_type": "stream",
     "text": [
      "'extlinks'\n"
     ]
    },
    {
     "name": "stderr",
     "output_type": "stream",
     "text": [
      " 45%|████▍     | 1991/4449 [1:09:02<1:50:54,  2.71s/it]"
     ]
    },
    {
     "name": "stdout",
     "output_type": "stream",
     "text": [
      "'extlinks'\n"
     ]
    },
    {
     "name": "stderr",
     "output_type": "stream",
     "text": [
      " 45%|████▌     | 2011/4449 [1:09:44<1:27:15,  2.15s/it]"
     ]
    },
    {
     "name": "stdout",
     "output_type": "stream",
     "text": [
      "Page id \"limbs ram\" does not match any pages. Try another id!\n"
     ]
    },
    {
     "name": "stderr",
     "output_type": "stream",
     "text": [
      " 45%|████▌     | 2014/4449 [1:09:56<2:00:10,  2.96s/it]"
     ]
    },
    {
     "name": "stdout",
     "output_type": "stream",
     "text": [
      "Page id \"lokesh kumar singh\" does not match any pages. Try another id!\n"
     ]
    },
    {
     "name": "stderr",
     "output_type": "stream",
     "text": [
      " 46%|████▌     | 2041/4449 [1:11:04<1:16:50,  1.91s/it]"
     ]
    },
    {
     "name": "stdout",
     "output_type": "stream",
     "text": [
      "('Connection aborted.', RemoteDisconnected('Remote end closed connection without response'))\n"
     ]
    },
    {
     "name": "stderr",
     "output_type": "stream",
     "text": [
      " 46%|████▋     | 2067/4449 [1:12:18<1:50:04,  2.77s/it]"
     ]
    },
    {
     "name": "stdout",
     "output_type": "stream",
     "text": [
      "\"M. S. Krishnan\" may refer to: \n",
      "M. S. Krishnan (geologist)\n",
      "M. S. Krishnan (professor)\n",
      "M. S. Krishnan (trade unionist)\n"
     ]
    },
    {
     "name": "stderr",
     "output_type": "stream",
     "text": [
      " 47%|████▋     | 2085/4449 [1:13:10<1:47:25,  2.73s/it]"
     ]
    },
    {
     "name": "stdout",
     "output_type": "stream",
     "text": [
      "Page id \"m s dhoni\" does not match any pages. Try another id!\n"
     ]
    },
    {
     "name": "stderr",
     "output_type": "stream",
     "text": [
      " 47%|████▋     | 2096/4449 [1:13:30<1:14:46,  1.91s/it]"
     ]
    },
    {
     "name": "stdout",
     "output_type": "stream",
     "text": [
      "Page id \"mazeppa mahadevappa\" does not match any pages. Try another id!\n"
     ]
    },
    {
     "name": "stderr",
     "output_type": "stream",
     "text": [
      " 47%|████▋     | 2104/4449 [1:13:46<1:06:46,  1.71s/it]"
     ]
    },
    {
     "name": "stdout",
     "output_type": "stream",
     "text": [
      "('Connection aborted.', RemoteDisconnected('Remote end closed connection without response'))\n"
     ]
    },
    {
     "name": "stderr",
     "output_type": "stream",
     "text": [
      " 48%|████▊     | 2145/4449 [1:15:22<1:27:55,  2.29s/it]"
     ]
    },
    {
     "name": "stdout",
     "output_type": "stream",
     "text": [
      "('Connection aborted.', RemoteDisconnected('Remote end closed connection without response'))\n"
     ]
    },
    {
     "name": "stderr",
     "output_type": "stream",
     "text": [
      " 48%|████▊     | 2147/4449 [1:15:35<2:30:40,  3.93s/it]"
     ]
    },
    {
     "name": "stdout",
     "output_type": "stream",
     "text": [
      "Page id \"mehdi hasan\" does not match any pages. Try another id!\n"
     ]
    },
    {
     "name": "stderr",
     "output_type": "stream",
     "text": [
      " 49%|████▉     | 2202/4449 [1:17:26<1:08:36,  1.83s/it]"
     ]
    },
    {
     "name": "stdout",
     "output_type": "stream",
     "text": [
      "Page id \"madan mishra\" does not match any pages. Try another id!\n"
     ]
    },
    {
     "name": "stderr",
     "output_type": "stream",
     "text": [
      " 50%|█████     | 2225/4449 [1:18:14<1:31:58,  2.48s/it]"
     ]
    },
    {
     "name": "stdout",
     "output_type": "stream",
     "text": [
      "\"Manju Sharma\" may refer to: \n",
      "Manju Sharma (biologist)\n",
      "Manju Sharma (actor)\n"
     ]
    },
    {
     "name": "stderr",
     "output_type": "stream",
     "text": [
      " 51%|█████     | 2252/4449 [1:19:28<1:25:41,  2.34s/it]"
     ]
    },
    {
     "name": "stdout",
     "output_type": "stream",
     "text": [
      "Page id \"maqbool ahmed lehri\" does not match any pages. Try another id!\n"
     ]
    },
    {
     "name": "stderr",
     "output_type": "stream",
     "text": [
      " 51%|█████     | 2265/4449 [1:20:00<1:11:15,  1.96s/it]"
     ]
    },
    {
     "name": "stdout",
     "output_type": "stream",
     "text": [
      "Page id \"mary kim\" does not match any pages. Try another id!\n"
     ]
    },
    {
     "name": "stderr",
     "output_type": "stream",
     "text": [
      " 51%|█████     | 2274/4449 [1:20:13<52:02,  1.44s/it]  "
     ]
    },
    {
     "name": "stdout",
     "output_type": "stream",
     "text": [
      "Page id \"martha b manjamma jogati\" does not match any pages. Try another id!\n"
     ]
    },
    {
     "name": "stderr",
     "output_type": "stream",
     "text": [
      " 52%|█████▏    | 2305/4449 [1:21:20<1:20:10,  2.24s/it]"
     ]
    },
    {
     "name": "stdout",
     "output_type": "stream",
     "text": [
      "Page id \"melissa gates\" does not match any pages. Try another id!\n"
     ]
    },
    {
     "name": "stderr",
     "output_type": "stream",
     "text": [
      " 52%|█████▏    | 2315/4449 [1:21:44<1:26:46,  2.44s/it]"
     ]
    },
    {
     "name": "stdout",
     "output_type": "stream",
     "text": [
      "Page id \"mika singh\" does not match any pages. Try another id!\n"
     ]
    },
    {
     "name": "stderr",
     "output_type": "stream",
     "text": [
      " 52%|█████▏    | 2325/4449 [1:22:08<1:05:24,  1.85s/it]"
     ]
    },
    {
     "name": "stdout",
     "output_type": "stream",
     "text": [
      "Page id \"mittal raj\" does not match any pages. Try another id!\n"
     ]
    },
    {
     "name": "stderr",
     "output_type": "stream",
     "text": [
      " 52%|█████▏    | 2335/4449 [1:22:36<1:49:38,  3.11s/it]"
     ]
    },
    {
     "name": "stdout",
     "output_type": "stream",
     "text": [
      "Page id \"mohammad amir\" does not match any pages. Try another id!\n"
     ]
    },
    {
     "name": "stderr",
     "output_type": "stream",
     "text": [
      " 53%|█████▎    | 2346/4449 [1:22:58<56:00,  1.60s/it]  "
     ]
    },
    {
     "name": "stdout",
     "output_type": "stream",
     "text": [
      "Page id \"muhammad yunus\" does not match any pages. Try another id!\n"
     ]
    },
    {
     "name": "stderr",
     "output_type": "stream",
     "text": [
      " 53%|█████▎    | 2350/4449 [1:23:05<52:17,  1.49s/it]  "
     ]
    },
    {
     "name": "stdout",
     "output_type": "stream",
     "text": [
      "Page id \"mohammed ravi\" does not match any pages. Try another id!\n"
     ]
    },
    {
     "name": "stderr",
     "output_type": "stream",
     "text": [
      " 53%|█████▎    | 2368/4449 [1:23:41<1:03:59,  1.85s/it]"
     ]
    },
    {
     "name": "stdout",
     "output_type": "stream",
     "text": [
      "Page id \"mohan lal\" does not match any pages. Try another id!\n"
     ]
    },
    {
     "name": "stderr",
     "output_type": "stream",
     "text": [
      " 53%|█████▎    | 2380/4449 [1:24:02<55:34,  1.61s/it]  "
     ]
    },
    {
     "name": "stdout",
     "output_type": "stream",
     "text": [
      "\"Moinuddin Khan\" may refer to: \n",
      "Moinuddin Khan (musician)\n",
      "Moinuddin Khan (footballer)\n"
     ]
    },
    {
     "name": "stderr",
     "output_type": "stream",
     "text": [
      " 54%|█████▎    | 2390/4449 [1:24:20<58:41,  1.71s/it]  "
     ]
    },
    {
     "name": "stdout",
     "output_type": "stream",
     "text": [
      "Page id \"other teresa\" does not match any pages. Try another id!\n"
     ]
    },
    {
     "name": "stderr",
     "output_type": "stream",
     "text": [
      " 54%|█████▍    | 2394/4449 [1:24:29<1:05:30,  1.91s/it]"
     ]
    },
    {
     "name": "stdout",
     "output_type": "stream",
     "text": [
      "Page id \"moti lal sami\" does not match any pages. Try another id!\n"
     ]
    },
    {
     "name": "stderr",
     "output_type": "stream",
     "text": [
      " 54%|█████▍    | 2395/4449 [1:24:33<1:21:21,  2.38s/it]"
     ]
    },
    {
     "name": "stdout",
     "output_type": "stream",
     "text": [
      "'list' object has no attribute 'keys'\n"
     ]
    },
    {
     "name": "stderr",
     "output_type": "stream",
     "text": [
      " 54%|█████▍    | 2408/4449 [1:24:56<44:56,  1.32s/it]  "
     ]
    },
    {
     "name": "stdout",
     "output_type": "stream",
     "text": [
      "Page id \"Ms. Jaswantiben Jamnadas Popat\" does not match any pages. Try another id!\n"
     ]
    },
    {
     "name": "stderr",
     "output_type": "stream",
     "text": [
      " 55%|█████▍    | 2425/4449 [1:25:13<37:13,  1.10s/it]"
     ]
    },
    {
     "name": "stdout",
     "output_type": "stream",
     "text": [
      "Page id \"rakesh kumar\" does not match any pages. Try another id!\n"
     ]
    },
    {
     "name": "stderr",
     "output_type": "stream",
     "text": [
      " 55%|█████▌    | 2451/4449 [1:26:04<1:14:05,  2.22s/it]"
     ]
    },
    {
     "name": "stdout",
     "output_type": "stream",
     "text": [
      "Page id \"muthi muthiah sthapati\" does not match any pages. Try another id!\n"
     ]
    },
    {
     "name": "stderr",
     "output_type": "stream",
     "text": [
      " 56%|█████▌    | 2499/4449 [1:27:57<1:19:35,  2.45s/it]"
     ]
    },
    {
     "name": "stdout",
     "output_type": "stream",
     "text": [
      "Page id \"nanda devi\" does not match any pages. Try another id!\n"
     ]
    },
    {
     "name": "stderr",
     "output_type": "stream",
     "text": [
      " 57%|█████▋    | 2526/4449 [1:28:50<52:46,  1.65s/it]  "
     ]
    },
    {
     "name": "stdout",
     "output_type": "stream",
     "text": [
      "Page id \"naroji pirojaha godrej\" does not match any pages. Try another id!\n"
     ]
    },
    {
     "name": "stderr",
     "output_type": "stream",
     "text": [
      " 57%|█████▋    | 2547/4449 [1:29:28<59:19,  1.87s/it]  "
     ]
    },
    {
     "name": "stdout",
     "output_type": "stream",
     "text": [
      "Page id \"naryana raghvan pillai\" does not match any pages. Try another id!\n"
     ]
    },
    {
     "name": "stderr",
     "output_type": "stream",
     "text": [
      " 58%|█████▊    | 2580/4449 [1:30:33<59:46,  1.92s/it]  "
     ]
    },
    {
     "name": "stdout",
     "output_type": "stream",
     "text": [
      "Page id \"narthaki nataraj\" does not match any pages. Try another id!\n"
     ]
    },
    {
     "name": "stderr",
     "output_type": "stream",
     "text": [
      " 58%|█████▊    | 2585/4449 [1:30:42<55:04,  1.77s/it]  "
     ]
    },
    {
     "name": "stdout",
     "output_type": "stream",
     "text": [
      "Page id \"nadesan ramani\" does not match any pages. Try another id!\n"
     ]
    },
    {
     "name": "stderr",
     "output_type": "stream",
     "text": [
      " 59%|█████▊    | 2610/4449 [1:31:41<1:17:42,  2.54s/it]"
     ]
    },
    {
     "name": "stdout",
     "output_type": "stream",
     "text": [
      "\"Nemai Ghosh\" may refer to: \n",
      "Nemai Ghosh (cricketer)\n",
      "Nemai Ghosh (director)\n",
      "Nemai Ghosh (photographer)\n",
      "Nemai Ghosh (actor)\n"
     ]
    },
    {
     "name": "stderr",
     "output_type": "stream",
     "text": [
      " 59%|█████▉    | 2635/4449 [1:32:38<1:03:01,  2.08s/it]"
     ]
    },
    {
     "name": "stdout",
     "output_type": "stream",
     "text": [
      "Page id \"nina namgyal lamar\" does not match any pages. Try another id!\n"
     ]
    },
    {
     "name": "stderr",
     "output_type": "stream",
     "text": [
      " 59%|█████▉    | 2636/4449 [1:32:41<1:05:39,  2.17s/it]"
     ]
    },
    {
     "name": "stdout",
     "output_type": "stream",
     "text": [
      "'list' object has no attribute 'keys'\n"
     ]
    },
    {
     "name": "stderr",
     "output_type": "stream",
     "text": [
      " 60%|█████▉    | 2652/4449 [1:33:15<1:10:06,  2.34s/it]"
     ]
    },
    {
     "name": "stdout",
     "output_type": "stream",
     "text": [
      "Page id \"nisar hussain khan\" does not match any pages. Try another id!\n"
     ]
    },
    {
     "name": "stderr",
     "output_type": "stream",
     "text": [
      " 60%|██████    | 2685/4449 [1:34:24<51:18,  1.75s/it]  "
     ]
    },
    {
     "name": "stdout",
     "output_type": "stream",
     "text": [
      "Page id \"on puri\" does not match any pages. Try another id!\n"
     ]
    },
    {
     "name": "stderr",
     "output_type": "stream",
     "text": [
      " 61%|██████    | 2696/4449 [1:34:48<1:02:18,  2.13s/it]"
     ]
    },
    {
     "name": "stdout",
     "output_type": "stream",
     "text": [
      "Page id \"p anita\" does not match any pages. Try another id!\n"
     ]
    },
    {
     "name": "stderr",
     "output_type": "stream",
     "text": [
      " 61%|██████    | 2697/4449 [1:34:52<1:09:15,  2.37s/it]"
     ]
    },
    {
     "name": "stdout",
     "output_type": "stream",
     "text": [
      "'extlinks'\n"
     ]
    },
    {
     "name": "stderr",
     "output_type": "stream",
     "text": [
      " 61%|██████    | 2701/4449 [1:34:56<50:19,  1.73s/it]  "
     ]
    },
    {
     "name": "stdout",
     "output_type": "stream",
     "text": [
      "Page id \"p c sarkar\" does not match any pages. Try another id!\n"
     ]
    },
    {
     "name": "stderr",
     "output_type": "stream",
     "text": [
      " 61%|██████    | 2705/4449 [1:35:07<1:06:37,  2.29s/it]"
     ]
    },
    {
     "name": "stdout",
     "output_type": "stream",
     "text": [
      "Page id \"p banerjee\" does not match any pages. Try another id!\n"
     ]
    },
    {
     "name": "stderr",
     "output_type": "stream",
     "text": [
      " 63%|██████▎   | 2783/4449 [1:37:42<1:01:59,  2.23s/it]"
     ]
    },
    {
     "name": "stdout",
     "output_type": "stream",
     "text": [
      "Page id \"parapara kerala iyengar\" does not match any pages. Try another id!\n"
     ]
    },
    {
     "name": "stderr",
     "output_type": "stream",
     "text": [
      " 64%|██████▍   | 2846/4449 [1:39:44<35:23,  1.32s/it]  "
     ]
    },
    {
     "name": "stdout",
     "output_type": "stream",
     "text": [
      "Page id \"prabhu devi\" does not match any pages. Try another id!\n"
     ]
    },
    {
     "name": "stderr",
     "output_type": "stream",
     "text": [
      " 65%|██████▍   | 2876/4449 [1:40:42<57:46,  2.20s/it]  "
     ]
    },
    {
     "name": "stdout",
     "output_type": "stream",
     "text": [
      "Page id \"p ran\" does not match any pages. Try another id!\n"
     ]
    },
    {
     "name": "stderr",
     "output_type": "stream",
     "text": [
      " 67%|██████▋   | 2965/4449 [1:43:40<53:21,  2.16s/it]  "
     ]
    },
    {
     "name": "stdout",
     "output_type": "stream",
     "text": [
      "Page id \"purusthottam kashinath kelkar\" does not match any pages. Try another id!\n"
     ]
    },
    {
     "name": "stderr",
     "output_type": "stream",
     "text": [
      " 67%|██████▋   | 2967/4449 [1:43:45<57:30,  2.33s/it]"
     ]
    },
    {
     "name": "stdout",
     "output_type": "stream",
     "text": [
      "Page id \"purushottam lal\" does not match any pages. Try another id!\n"
     ]
    },
    {
     "name": "stderr",
     "output_type": "stream",
     "text": [
      " 67%|██████▋   | 2997/4449 [1:44:43<50:40,  2.09s/it]"
     ]
    },
    {
     "name": "stdout",
     "output_type": "stream",
     "text": [
      "Page id \"r n tharanathan and r n thiagarajan\" does not match any pages. Try another id!\n"
     ]
    },
    {
     "name": "stderr",
     "output_type": "stream",
     "text": [
      " 68%|██████▊   | 3015/4449 [1:45:11<37:41,  1.58s/it]  "
     ]
    },
    {
     "name": "stdout",
     "output_type": "stream",
     "text": [
      "\"Rachel Thomas\" may refer to: \n",
      "Rachel Thomas (actress)\n",
      "Rachel Thomas (skydiver)\n",
      "Rachel Thomas (academic)\n"
     ]
    },
    {
     "name": "stderr",
     "output_type": "stream",
     "text": [
      " 69%|██████▊   | 3050/4449 [1:46:24<54:30,  2.34s/it]"
     ]
    },
    {
     "name": "stdout",
     "output_type": "stream",
     "text": [
      "'list' object has no attribute 'keys'\n"
     ]
    },
    {
     "name": "stderr",
     "output_type": "stream",
     "text": [
      " 69%|██████▊   | 3051/4449 [1:46:28<1:00:05,  2.58s/it]"
     ]
    },
    {
     "name": "stdout",
     "output_type": "stream",
     "text": [
      "'list' object has no attribute 'keys'\n",
      "Page id \"rai krishnaraja\" does not match any pages. Try another id!\n"
     ]
    },
    {
     "name": "stderr",
     "output_type": "stream",
     "text": [
      " 69%|██████▊   | 3052/4449 [1:46:30<1:00:56,  2.62s/it]"
     ]
    },
    {
     "name": "stdout",
     "output_type": "stream",
     "text": [
      "'list' object has no attribute 'keys'\n"
     ]
    },
    {
     "name": "stderr",
     "output_type": "stream",
     "text": [
      " 69%|██████▉   | 3064/4449 [1:46:52<44:40,  1.94s/it]  "
     ]
    },
    {
     "name": "stdout",
     "output_type": "stream",
     "text": [
      "Page id \"raja raman's\" does not match any pages. Try another id!\n"
     ]
    },
    {
     "name": "stderr",
     "output_type": "stream",
     "text": [
      " 69%|██████▉   | 3074/4449 [1:47:14<45:24,  1.98s/it]"
     ]
    },
    {
     "name": "stdout",
     "output_type": "stream",
     "text": [
      "Page id \"rajan mishra\" does not match any pages. Try another id!\n"
     ]
    },
    {
     "name": "stderr",
     "output_type": "stream",
     "text": [
      " 70%|██████▉   | 3093/4449 [1:47:51<35:14,  1.56s/it]"
     ]
    },
    {
     "name": "stdout",
     "output_type": "stream",
     "text": [
      "Page id \"rajes khanna\" does not match any pages. Try another id!\n"
     ]
    },
    {
     "name": "stderr",
     "output_type": "stream",
     "text": [
      " 70%|██████▉   | 3103/4449 [1:48:13<46:46,  2.09s/it]"
     ]
    },
    {
     "name": "stdout",
     "output_type": "stream",
     "text": [
      "\"Rajinder Kumar\" may refer to: \n",
      "Rajinder Kumar (footballer)\n",
      "Rajinder Kumar (chemical engineer)\n",
      "Rajinder Kumar Dhanger\n"
     ]
    },
    {
     "name": "stderr",
     "output_type": "stream",
     "text": [
      " 70%|██████▉   | 3107/4449 [1:48:24<58:18,  2.61s/it]"
     ]
    },
    {
     "name": "stdout",
     "output_type": "stream",
     "text": [
      "Page id \"raj kumar\" does not match any pages. Try another id!\n"
     ]
    },
    {
     "name": "stderr",
     "output_type": "stream",
     "text": [
      " 71%|███████   | 3141/4449 [1:49:27<28:26,  1.30s/it]"
     ]
    },
    {
     "name": "stdout",
     "output_type": "stream",
     "text": [
      "Page id \"raj kumar artist\" does not match any pages. Try another id!\n"
     ]
    },
    {
     "name": "stderr",
     "output_type": "stream",
     "text": [
      " 71%|███████   | 3159/4449 [1:49:58<44:10,  2.05s/it]"
     ]
    },
    {
     "name": "stdout",
     "output_type": "stream",
     "text": [
      "Page id \"ram v  sutar\" does not match any pages. Try another id!\n"
     ]
    },
    {
     "name": "stderr",
     "output_type": "stream",
     "text": [
      " 71%|███████   | 3165/4449 [1:50:09<41:33,  1.94s/it]"
     ]
    },
    {
     "name": "stdout",
     "output_type": "stream",
     "text": [
      "Page id \"ram chandra guha\" does not match any pages. Try another id!\n"
     ]
    },
    {
     "name": "stderr",
     "output_type": "stream",
     "text": [
      " 71%|███████▏  | 3177/4449 [1:50:34<34:51,  1.64s/it]"
     ]
    },
    {
     "name": "stdout",
     "output_type": "stream",
     "text": [
      "Page id \"ramamoorthy belagavi\" does not match any pages. Try another id!\n"
     ]
    },
    {
     "name": "stderr",
     "output_type": "stream",
     "text": [
      " 71%|███████▏  | 3178/4449 [1:50:36<36:53,  1.74s/it]"
     ]
    },
    {
     "name": "stdout",
     "output_type": "stream",
     "text": [
      "\"R. Thyagarajan\" may refer to: \n",
      "R. Thyagarajan (director)\n",
      "R. Thyagarajan (industrialist)\n",
      "R. Thiyagarajan\n"
     ]
    },
    {
     "name": "stderr",
     "output_type": "stream",
     "text": [
      " 72%|███████▏  | 3221/4449 [1:51:47<36:06,  1.76s/it]"
     ]
    },
    {
     "name": "stdout",
     "output_type": "stream",
     "text": [
      "Page id \"ramji vasanti khadilkar\" does not match any pages. Try another id!\n"
     ]
    },
    {
     "name": "stderr",
     "output_type": "stream",
     "text": [
      " 72%|███████▏  | 3224/4449 [1:51:55<46:52,  2.30s/it]"
     ]
    },
    {
     "name": "stdout",
     "output_type": "stream",
     "text": [
      "Page id \"ramzi bin ibrahim\" does not match any pages. Try another id!\n"
     ]
    },
    {
     "name": "stderr",
     "output_type": "stream",
     "text": [
      " 73%|███████▎  | 3264/4449 [1:53:20<49:46,  2.52s/it]"
     ]
    },
    {
     "name": "stdout",
     "output_type": "stream",
     "text": [
      "\"Ravi Kant\" may refer to: \n",
      "Ravi Kant (Indian executive)\n",
      "Ravi Kant (professor)\n",
      "Ravikant\n"
     ]
    },
    {
     "name": "stderr",
     "output_type": "stream",
     "text": [
      " 74%|███████▎  | 3274/4449 [1:53:41<35:38,  1.82s/it]"
     ]
    },
    {
     "name": "stdout",
     "output_type": "stream",
     "text": [
      "\"Ravindra Kumar\" may refer to: \n",
      "Ravindra Kumar (editor)\n",
      "Ravindra Kumar (political scientist)\n",
      "G. Ravindra Kumar\n"
     ]
    },
    {
     "name": "stderr",
     "output_type": "stream",
     "text": [
      " 74%|███████▎  | 3275/4449 [1:53:45<44:34,  2.28s/it]"
     ]
    },
    {
     "name": "stdout",
     "output_type": "stream",
     "text": [
      "\"Ravindra Kumar Sinha\" may refer to: \n",
      "Ravindra Kumar Sinha (biologist)\n",
      "Ravindra Kumar Sinha (physicist)\n"
     ]
    },
    {
     "name": "stderr",
     "output_type": "stream",
     "text": [
      " 74%|███████▍  | 3293/4449 [1:54:20<45:25,  2.36s/it]"
     ]
    },
    {
     "name": "stdout",
     "output_type": "stream",
     "text": [
      "Page id \"renuka roy\" does not match any pages. Try another id!\n"
     ]
    },
    {
     "name": "stderr",
     "output_type": "stream",
     "text": [
      " 75%|███████▍  | 3330/4449 [1:55:33<31:22,  1.68s/it]"
     ]
    },
    {
     "name": "stdout",
     "output_type": "stream",
     "text": [
      "Page id \"s k majumdar\" does not match any pages. Try another id!\n"
     ]
    },
    {
     "name": "stderr",
     "output_type": "stream",
     "text": [
      " 75%|███████▌  | 3355/4449 [1:56:24<38:12,  2.10s/it]"
     ]
    },
    {
     "name": "stdout",
     "output_type": "stream",
     "text": [
      "Page id \"s s kothari\" does not match any pages. Try another id!\n"
     ]
    },
    {
     "name": "stderr",
     "output_type": "stream",
     "text": [
      " 76%|███████▌  | 3364/4449 [1:56:45<43:36,  2.41s/it]"
     ]
    },
    {
     "name": "stdout",
     "output_type": "stream",
     "text": [
      "Page id \"s ramakrishna\" does not match any pages. Try another id!\n"
     ]
    },
    {
     "name": "stderr",
     "output_type": "stream",
     "text": [
      " 76%|███████▋  | 3398/4449 [1:57:55<40:12,  2.29s/it]"
     ]
    },
    {
     "name": "stdout",
     "output_type": "stream",
     "text": [
      "Page id \"said ali khan\" does not match any pages. Try another id!\n"
     ]
    },
    {
     "name": "stderr",
     "output_type": "stream",
     "text": [
      " 77%|███████▋  | 3405/4449 [1:58:11<40:20,  2.32s/it]"
     ]
    },
    {
     "name": "stdout",
     "output_type": "stream",
     "text": [
      "Page id \"sayyid amin hasan abidi\" does not match any pages. Try another id!\n"
     ]
    },
    {
     "name": "stderr",
     "output_type": "stream",
     "text": [
      " 77%|███████▋  | 3406/4449 [1:58:14<41:44,  2.40s/it]"
     ]
    },
    {
     "name": "stdout",
     "output_type": "stream",
     "text": [
      "'list' object has no attribute 'keys'\n"
     ]
    },
    {
     "name": "stderr",
     "output_type": "stream",
     "text": [
      " 78%|███████▊  | 3472/4449 [2:00:20<37:28,  2.30s/it]"
     ]
    },
    {
     "name": "stdout",
     "output_type": "stream",
     "text": [
      "\"Sartaj Singh\" may refer to: \n",
      "Sartaj Singh (politician)\n",
      "Sartaj Singh (general)\n",
      "Sacred Games\n"
     ]
    },
    {
     "name": "stderr",
     "output_type": "stream",
     "text": [
      " 79%|███████▉  | 3512/4449 [2:01:40<37:03,  2.37s/it]"
     ]
    },
    {
     "name": "stdout",
     "output_type": "stream",
     "text": [
      "\"Saurabh Srivastava\" may refer to: \n",
      "Saurabh Srivastava (entrepreneur)\n",
      "Saurabh Srivastava (politician)\n"
     ]
    },
    {
     "name": "stderr",
     "output_type": "stream",
     "text": [
      " 80%|████████  | 3560/4449 [2:03:03<25:59,  1.75s/it]"
     ]
    },
    {
     "name": "stdout",
     "output_type": "stream",
     "text": [
      "Page id \"shankar singh ram raghuvanshi\" does not match any pages. Try another id!\n"
     ]
    },
    {
     "name": "stderr",
     "output_type": "stream",
     "text": [
      " 81%|████████▏ | 3616/4449 [2:04:54<20:47,  1.50s/it]"
     ]
    },
    {
     "name": "stdout",
     "output_type": "stream",
     "text": [
      "Page id \"shekhar kapoor\" does not match any pages. Try another id!\n"
     ]
    },
    {
     "name": "stderr",
     "output_type": "stream",
     "text": [
      " 83%|████████▎ | 3672/4449 [2:06:38<18:35,  1.44s/it]"
     ]
    },
    {
     "name": "stdout",
     "output_type": "stream",
     "text": [
      "Page id \"shyam narayan area\" does not match any pages. Try another id!\n"
     ]
    },
    {
     "name": "stderr",
     "output_type": "stream",
     "text": [
      " 83%|████████▎ | 3696/4449 [2:07:19<25:46,  2.05s/it]"
     ]
    },
    {
     "name": "stdout",
     "output_type": "stream",
     "text": [
      "Page id \"sikkim nathan neela\" does not match any pages. Try another id!\n"
     ]
    },
    {
     "name": "stderr",
     "output_type": "stream",
     "text": [
      " 83%|████████▎ | 3697/4449 [2:07:23<31:16,  2.50s/it]"
     ]
    },
    {
     "name": "stdout",
     "output_type": "stream",
     "text": [
      "Page id \"sikkim venkatraman kunjunni\" does not match any pages. Try another id!\n"
     ]
    },
    {
     "name": "stderr",
     "output_type": "stream",
     "text": [
      " 84%|████████▍ | 3728/4449 [2:08:26<25:35,  2.13s/it]"
     ]
    },
    {
     "name": "stdout",
     "output_type": "stream",
     "text": [
      "Page id \"sivaraj ramaseshan\" does not match any pages. Try another id!\n"
     ]
    },
    {
     "name": "stderr",
     "output_type": "stream",
     "text": [
      " 84%|████████▍ | 3732/4449 [2:08:37<28:43,  2.40s/it]"
     ]
    },
    {
     "name": "stdout",
     "output_type": "stream",
     "text": [
      "Page id \"smita patel\" does not match any pages. Try another id!\n"
     ]
    },
    {
     "name": "stderr",
     "output_type": "stream",
     "text": [
      " 84%|████████▍ | 3734/4449 [2:08:42<30:08,  2.53s/it]"
     ]
    },
    {
     "name": "stdout",
     "output_type": "stream",
     "text": [
      "Page id \"shobha singh\" does not match any pages. Try another id!\n"
     ]
    },
    {
     "name": "stderr",
     "output_type": "stream",
     "text": [
      " 84%|████████▍ | 3746/4449 [2:09:03<16:14,  1.39s/it]"
     ]
    },
    {
     "name": "stdout",
     "output_type": "stream",
     "text": [
      "Page id \"somdet phra maha munjong\" does not match any pages. Try another id!\n"
     ]
    },
    {
     "name": "stderr",
     "output_type": "stream",
     "text": [
      " 85%|████████▍ | 3768/4449 [2:09:44<19:26,  1.71s/it]"
     ]
    },
    {
     "name": "stdout",
     "output_type": "stream",
     "text": [
      "Page id \"sri devi\" does not match any pages. Try another id!\n"
     ]
    },
    {
     "name": "stderr",
     "output_type": "stream",
     "text": [
      " 85%|████████▌ | 3791/4449 [2:10:23<18:53,  1.72s/it]"
     ]
    },
    {
     "name": "stdout",
     "output_type": "stream",
     "text": [
      "Page id \"subhash kashyap\" does not match any pages. Try another id!\n"
     ]
    },
    {
     "name": "stderr",
     "output_type": "stream",
     "text": [
      " 85%|████████▌ | 3793/4449 [2:10:28<23:06,  2.11s/it]"
     ]
    },
    {
     "name": "stdout",
     "output_type": "stream",
     "text": [
      "\"Subhash Mukhopadhyay\" may refer to: \n",
      "Subhash Mukhopadhyay (poet)\n",
      "Subhash Mukhopadhyay (physician)\n"
     ]
    },
    {
     "name": "stderr",
     "output_type": "stream",
     "text": [
      " 86%|████████▌ | 3815/4449 [2:11:10<23:12,  2.20s/it]"
     ]
    },
    {
     "name": "stdout",
     "output_type": "stream",
     "text": [
      "Page id \"sudha murthy\" does not match any pages. Try another id!\n"
     ]
    },
    {
     "name": "stderr",
     "output_type": "stream",
     "text": [
      " 86%|████████▋ | 3840/4449 [2:11:48<17:45,  1.75s/it]"
     ]
    },
    {
     "name": "stdout",
     "output_type": "stream",
     "text": [
      "Page id \"such dev\" does not match any pages. Try another id!\n"
     ]
    },
    {
     "name": "stderr",
     "output_type": "stream",
     "text": [
      " 88%|████████▊ | 3906/4449 [2:14:01<13:12,  1.46s/it]"
     ]
    },
    {
     "name": "stdout",
     "output_type": "stream",
     "text": [
      "Page id \"surendra kumar dey\" does not match any pages. Try another id!\n"
     ]
    },
    {
     "name": "stderr",
     "output_type": "stream",
     "text": [
      " 88%|████████▊ | 3911/4449 [2:14:08<12:42,  1.42s/it]"
     ]
    },
    {
     "name": "stdout",
     "output_type": "stream",
     "text": [
      "\"Surendra Singh\" may refer to: \n",
      "Surendra Singh (ambassador)\n",
      "Surendra Singh (athlete)\n",
      "Surendra Singh (Baghal State)\n",
      "Surendra Singh (cabinet secretary)\n",
      "Surendra Kumar Singh (politician)\n",
      "Surendra Narayan Singh\n",
      "Surendra Nath Singh\n",
      "Surendra Pratap Singh\n",
      "Chandrakanta (TV series)\n",
      "Surendra Singh Baghel\n",
      "Surendra Singh Bhoi\n",
      "Surendra Singh Chauhan\n",
      "Surendra Singh Nagar\n",
      "Surendra Singh Panwar\n",
      "Surendra Singh Patel\n"
     ]
    },
    {
     "name": "stderr",
     "output_type": "stream",
     "text": [
      " 88%|████████▊ | 3912/4449 [2:14:12<18:07,  2.03s/it]"
     ]
    },
    {
     "name": "stdout",
     "output_type": "stream",
     "text": [
      "Page id \"surendra y morante\" does not match any pages. Try another id!\n"
     ]
    },
    {
     "name": "stderr",
     "output_type": "stream",
     "text": [
      " 89%|████████▉ | 3960/4449 [2:15:41<15:47,  1.94s/it]"
     ]
    },
    {
     "name": "stdout",
     "output_type": "stream",
     "text": [
      "\"Swapna Sundari\" may refer to: \n",
      "Swapna Sundari (dancer)\n",
      "Swapna Sundari (film)\n",
      "Swapnasundari\n"
     ]
    },
    {
     "name": "stderr",
     "output_type": "stream",
     "text": [
      " 89%|████████▉ | 3961/4449 [2:15:45<20:48,  2.56s/it]"
     ]
    },
    {
     "name": "stdout",
     "output_type": "stream",
     "text": [
      "Page id \"sharan singh\" does not match any pages. Try another id!\n"
     ]
    },
    {
     "name": "stderr",
     "output_type": "stream",
     "text": [
      " 90%|████████▉ | 3982/4449 [2:16:24<16:10,  2.08s/it]"
     ]
    },
    {
     "name": "stdout",
     "output_type": "stream",
     "text": [
      "Page id \"syed mohd moin ul haq\" does not match any pages. Try another id!\n"
     ]
    },
    {
     "name": "stderr",
     "output_type": "stream",
     "text": [
      " 90%|█████████ | 4017/4449 [2:17:41<13:30,  1.88s/it]"
     ]
    },
    {
     "name": "stdout",
     "output_type": "stream",
     "text": [
      "Page id \"t. saito\" does not match any pages. Try another id!\n"
     ]
    },
    {
     "name": "stderr",
     "output_type": "stream",
     "text": [
      " 91%|█████████ | 4039/4449 [2:18:27<15:21,  2.25s/it]"
     ]
    },
    {
     "name": "stdout",
     "output_type": "stream",
     "text": [
      "\"Tara Chand\" may refer to: \n",
      "Tara Chand (Pakistani politician)\n",
      "Tara Chand (archaeologist)\n",
      "Tara Chand (Himachal Pradesh politician)\n",
      "Tara Chand (Jammu-Kashmir politician)\n"
     ]
    },
    {
     "name": "stderr",
     "output_type": "stream",
     "text": [
      " 92%|█████████▏| 4075/4449 [2:19:44<13:34,  2.18s/it]"
     ]
    },
    {
     "name": "stdout",
     "output_type": "stream",
     "text": [
      "Page id \"than myint u\" does not match any pages. Try another id!\n"
     ]
    },
    {
     "name": "stderr",
     "output_type": "stream",
     "text": [
      " 92%|█████████▏| 4100/4449 [2:20:27<08:17,  1.43s/it]"
     ]
    },
    {
     "name": "stdout",
     "output_type": "stream",
     "text": [
      "Page id \"tom walter\" does not match any pages. Try another id!\n"
     ]
    },
    {
     "name": "stderr",
     "output_type": "stream",
     "text": [
      " 94%|█████████▍| 4201/4449 [2:23:51<09:22,  2.27s/it]"
     ]
    },
    {
     "name": "stdout",
     "output_type": "stream",
     "text": [
      "Page id \"v shanta ram\" does not match any pages. Try another id!\n"
     ]
    },
    {
     "name": "stderr",
     "output_type": "stream",
     "text": [
      " 95%|█████████▌| 4236/4449 [2:24:49<08:24,  2.37s/it]"
     ]
    },
    {
     "name": "stdout",
     "output_type": "stream",
     "text": [
      "Page id \"vasantrao bandari patel\" does not match any pages. Try another id!\n"
     ]
    },
    {
     "name": "stderr",
     "output_type": "stream",
     "text": [
      " 96%|█████████▋| 4285/4449 [2:26:24<06:21,  2.32s/it]"
     ]
    },
    {
     "name": "stdout",
     "output_type": "stream",
     "text": [
      "Page id \"vijay bhaskar\" does not match any pages. Try another id!\n"
     ]
    },
    {
     "name": "stderr",
     "output_type": "stream",
     "text": [
      " 97%|█████████▋| 4303/4449 [2:27:04<04:11,  1.73s/it]"
     ]
    },
    {
     "name": "stdout",
     "output_type": "stream",
     "text": [
      "\"Vijay Anand\" may refer to: \n",
      "Vijay Anand (filmmaker)\n",
      "Vijay Anand (politician)\n",
      "Anand (name)\n"
     ]
    },
    {
     "name": "stderr",
     "output_type": "stream",
     "text": [
      " 97%|█████████▋| 4304/4449 [2:27:08<05:27,  2.26s/it]"
     ]
    },
    {
     "name": "stdout",
     "output_type": "stream",
     "text": [
      "Page id \"vijay lakshmi pandit\" does not match any pages. Try another id!\n"
     ]
    },
    {
     "name": "stderr",
     "output_type": "stream",
     "text": [
      " 97%|█████████▋| 4305/4449 [2:27:11<05:39,  2.36s/it]"
     ]
    },
    {
     "name": "stdout",
     "output_type": "stream",
     "text": [
      "Page id \"vijay's mehta\" does not match any pages. Try another id!\n"
     ]
    },
    {
     "name": "stderr",
     "output_type": "stream",
     "text": [
      " 97%|█████████▋| 4331/4449 [2:28:09<04:06,  2.09s/it]"
     ]
    },
    {
     "name": "stdout",
     "output_type": "stream",
     "text": [
      "'extlinks'\n"
     ]
    },
    {
     "name": "stderr",
     "output_type": "stream",
     "text": [
      " 97%|█████████▋| 4332/4449 [2:28:13<04:57,  2.54s/it]"
     ]
    },
    {
     "name": "stdout",
     "output_type": "stream",
     "text": [
      "'extlinks'\n"
     ]
    },
    {
     "name": "stderr",
     "output_type": "stream",
     "text": [
      " 97%|█████████▋| 4333/4449 [2:28:15<04:47,  2.48s/it]"
     ]
    },
    {
     "name": "stdout",
     "output_type": "stream",
     "text": [
      "Page id \"vinod singh\" does not match any pages. Try another id!\n"
     ]
    },
    {
     "name": "stderr",
     "output_type": "stream",
     "text": [
      " 97%|█████████▋| 4335/4449 [2:28:21<05:04,  2.67s/it]"
     ]
    },
    {
     "name": "stdout",
     "output_type": "stream",
     "text": [
      "Page id \"vinod raj\" does not match any pages. Try another id!\n"
     ]
    },
    {
     "name": "stderr",
     "output_type": "stream",
     "text": [
      " 98%|█████████▊| 4344/4449 [2:28:42<04:09,  2.37s/it]"
     ]
    },
    {
     "name": "stdout",
     "output_type": "stream",
     "text": [
      "\"Virender Singh\" may refer to: \n",
      "Virender Singh (judge)\n",
      "Virender Singh (wrestler, born 1970)\n",
      "Virender Singh (wrestler, born 1986)\n",
      "Virender Singh\n"
     ]
    },
    {
     "name": "stderr",
     "output_type": "stream",
     "text": [
      " 99%|█████████▉| 4396/4449 [2:30:23<01:47,  2.02s/it]"
     ]
    },
    {
     "name": "stdout",
     "output_type": "stream",
     "text": [
      "\"Wilson Jones\" may refer to: \n",
      "Wilson Jones (footballer, born 1914)\n",
      "Wilson Jones (footballer, born 1934)\n",
      "Wilson Jones (billiards player)\n",
      "Wilson W. Jones\n",
      "Wilson Jones (MP)\n",
      "Anna Wilson-Jones\n"
     ]
    },
    {
     "name": "stderr",
     "output_type": "stream",
     "text": [
      " 99%|█████████▉| 4420/4449 [2:31:11<01:06,  2.30s/it]"
     ]
    },
    {
     "name": "stdout",
     "output_type": "stream",
     "text": [
      "Page id \"ye do hindi malegam\" does not match any pages. Try another id!\n"
     ]
    },
    {
     "name": "stderr",
     "output_type": "stream",
     "text": [
      "100%|█████████▉| 4440/4449 [2:31:59<00:23,  2.60s/it]"
     ]
    },
    {
     "name": "stdout",
     "output_type": "stream",
     "text": [
      "Page id \"zainulabedin gulam hussain rangoonwala\" does not match any pages. Try another id!\n"
     ]
    },
    {
     "name": "stderr",
     "output_type": "stream",
     "text": [
      "100%|██████████| 4449/4449 [2:32:17<00:00,  2.05s/it]\n"
     ]
    }
   ],
   "source": [
    "awards['Ref'] = np.nan\n",
    "# awards.reset_index(inplace=True)\n",
    "for i in tqdm(range(awards.shape[0])):\n",
    "# for i in tqdm(range(10)):\n",
    "    per_name = awards['Recipients'][i]\n",
    "    if not pd.isna(awards['WikiLink'][i]):\n",
    "        try:\n",
    "            person = wikipedia.page(per_name)\n",
    "            if awards['WikiLink'][i] == person.url:\n",
    "                awards['Ref'][i] = ';'.join(person.references)\n",
    "            else:\n",
    "                person = wikipedia.page(pageid= str(int(awards['Page Id'][i])))\n",
    "                if awards['WikiLink'][i] == person.url:\n",
    "                    awards['Ref'][i] = ';'.join(person.references)\n",
    "        except Exception as e:\n",
    "            print(e)\n",
    "            try:\n",
    "                person = wikipedia.page(pageid= str(int(awards['Page Id'][i])))\n",
    "                if awards['WikiLink'][i] == person.url:\n",
    "                    awards['Ref'][i] = ';'.join(person.references)\n",
    "            except Exception as e:\n",
    "                print(e)\n",
    "                awards['Ref'][i] = np.nan \n"
   ]
  },
  {
   "cell_type": "code",
   "execution_count": 32,
   "metadata": {},
   "outputs": [
    {
     "data": {
      "text/html": [
       "<div>\n",
       "<style scoped>\n",
       "    .dataframe tbody tr th:only-of-type {\n",
       "        vertical-align: middle;\n",
       "    }\n",
       "\n",
       "    .dataframe tbody tr th {\n",
       "        vertical-align: top;\n",
       "    }\n",
       "\n",
       "    .dataframe thead th {\n",
       "        text-align: right;\n",
       "    }\n",
       "</style>\n",
       "<table border=\"1\" class=\"dataframe\">\n",
       "  <thead>\n",
       "    <tr style=\"text-align: right;\">\n",
       "      <th></th>\n",
       "      <th>level_0</th>\n",
       "      <th>index</th>\n",
       "      <th>Unnamed: 0</th>\n",
       "      <th>Unnamed: 0.1</th>\n",
       "      <th>Recipients</th>\n",
       "      <th>WikiLink</th>\n",
       "      <th>Padma Shri Year</th>\n",
       "      <th>Padma Shri State</th>\n",
       "      <th>Padma Shri Field</th>\n",
       "      <th>Padma Shri Awarded By</th>\n",
       "      <th>Padma Bhushan Year</th>\n",
       "      <th>Padma Bhushan State</th>\n",
       "      <th>Padma Bhushan Field</th>\n",
       "      <th>Padma Bhushan Awarded By</th>\n",
       "      <th>Padma Vibhushan Year</th>\n",
       "      <th>Padma Vibhushan State</th>\n",
       "      <th>Padma Vibhushan Field</th>\n",
       "      <th>Padma Vibhushan Awarded By</th>\n",
       "      <th>Born</th>\n",
       "      <th>Birth Date</th>\n",
       "      <th>Place of Birth</th>\n",
       "      <th>Died</th>\n",
       "      <th>Death Date</th>\n",
       "      <th>Place of Death</th>\n",
       "      <th>Nationality</th>\n",
       "      <th>Spouse</th>\n",
       "      <th>Alma mater</th>\n",
       "      <th>Institutions</th>\n",
       "      <th>Other Awards including Padma</th>\n",
       "      <th>Occupation</th>\n",
       "      <th>Election Year</th>\n",
       "      <th>Posthumus</th>\n",
       "      <th>Page Id</th>\n",
       "      <th>image</th>\n",
       "      <th>Ref</th>\n",
       "    </tr>\n",
       "  </thead>\n",
       "  <tbody>\n",
       "    <tr>\n",
       "      <th>4439</th>\n",
       "      <td>4439</td>\n",
       "      <td>4439</td>\n",
       "      <td>4439</td>\n",
       "      <td>4439</td>\n",
       "      <td>Zaheer Khan</td>\n",
       "      <td>https://en.wikipedia.org/wiki/Zaheer_Khan</td>\n",
       "      <td>2020.0</td>\n",
       "      <td>Maharashtra, India</td>\n",
       "      <td>Sports</td>\n",
       "      <td>Ram Nath Kovind</td>\n",
       "      <td>NaN</td>\n",
       "      <td>NaN</td>\n",
       "      <td>NaN</td>\n",
       "      <td>NaN</td>\n",
       "      <td>NaN</td>\n",
       "      <td>NaN</td>\n",
       "      <td>NaN</td>\n",
       "      <td>NaN</td>\n",
       "      <td>(1978-10-08)8 October 1978(age 43)\\nShrirampur...</td>\n",
       "      <td>(1978-10-08)8 October 1978(age 43)</td>\n",
       "      <td>Shrirampur,Maharashtra, India</td>\n",
       "      <td>NaN</td>\n",
       "      <td>NaN</td>\n",
       "      <td>NaN</td>\n",
       "      <td>NaN</td>\n",
       "      <td>NaN</td>\n",
       "      <td>NaN</td>\n",
       "      <td>NaN</td>\n",
       "      <td>NaN</td>\n",
       "      <td>NaN</td>\n",
       "      <td>No</td>\n",
       "      <td>No</td>\n",
       "      <td>679977.0</td>\n",
       "      <td>Zaheer_Khan.jpg</td>\n",
       "      <td>http://content-aus.cricinfo.com/ci/content/pla...</td>\n",
       "    </tr>\n",
       "    <tr>\n",
       "      <th>4440</th>\n",
       "      <td>4440</td>\n",
       "      <td>4440</td>\n",
       "      <td>4440</td>\n",
       "      <td>4440</td>\n",
       "      <td>Zainulabedin Gulam Husain Rangoonwala</td>\n",
       "      <td>https://en.wikipedia.org/wiki/Zainulabedin_Gul...</td>\n",
       "      <td>1984.0</td>\n",
       "      <td>Maharashtra, India</td>\n",
       "      <td>Social Work</td>\n",
       "      <td>Zail Singh</td>\n",
       "      <td>NaN</td>\n",
       "      <td>NaN</td>\n",
       "      <td>NaN</td>\n",
       "      <td>NaN</td>\n",
       "      <td>NaN</td>\n",
       "      <td>NaN</td>\n",
       "      <td>NaN</td>\n",
       "      <td>NaN</td>\n",
       "      <td>(1913-07-01)July 1, 1913\\nRangoon,Burma</td>\n",
       "      <td>(1913-07-01)July 1, 1913</td>\n",
       "      <td>Rangoon,Burma</td>\n",
       "      <td>(1994-05-28)May 28, 1994 (age 80)\\nPeterboroug...</td>\n",
       "      <td>(1994-05-28)May 28, 1994 (age 80)</td>\n",
       "      <td>Peterborough,United Kingdom</td>\n",
       "      <td>Indian</td>\n",
       "      <td>NaN</td>\n",
       "      <td>NaN</td>\n",
       "      <td>NaN</td>\n",
       "      <td>Padmashri 1984, \\nRajiv Gandhi Medal of Merit ...</td>\n",
       "      <td>NaN</td>\n",
       "      <td>Yes</td>\n",
       "      <td>No</td>\n",
       "      <td>50998235.0</td>\n",
       "      <td>Zain_Rangoonwala.jpg</td>\n",
       "      <td>http://www.bmcbankltd.com;http://www.bmcbanklt...</td>\n",
       "    </tr>\n",
       "    <tr>\n",
       "      <th>4441</th>\n",
       "      <td>4441</td>\n",
       "      <td>4441</td>\n",
       "      <td>4441</td>\n",
       "      <td>4441</td>\n",
       "      <td>Zakir Husain</td>\n",
       "      <td>https://en.wikipedia.org/wiki/Zakir_Husain_(po...</td>\n",
       "      <td>NaN</td>\n",
       "      <td>NaN</td>\n",
       "      <td>NaN</td>\n",
       "      <td>NaN</td>\n",
       "      <td>NaN</td>\n",
       "      <td>NaN</td>\n",
       "      <td>NaN</td>\n",
       "      <td>NaN</td>\n",
       "      <td>1954.0</td>\n",
       "      <td>Andhra Pradesh, India</td>\n",
       "      <td>Public Affairs</td>\n",
       "      <td>Rajendra Prasad</td>\n",
       "      <td>(1897-02-08)8 February 1897\\nHyderabad,British...</td>\n",
       "      <td>(1897-02-08)8 February 1897</td>\n",
       "      <td>Hyderabad,British India[1]</td>\n",
       "      <td>3 May 1969(1969-05-03)(aged 72)\\nNew Delhi, India</td>\n",
       "      <td>3 May 1969(1969-05-03)(aged 72)</td>\n",
       "      <td>New Delhi, India</td>\n",
       "      <td>NaN</td>\n",
       "      <td>Shah Jahan Begum</td>\n",
       "      <td>University of Lucknow\\nMohammedan Anglo-Orient...</td>\n",
       "      <td>NaN</td>\n",
       "      <td>Bharat Ratna(1963)\\nPadma Vibhushan</td>\n",
       "      <td>NaN</td>\n",
       "      <td>No</td>\n",
       "      <td>No</td>\n",
       "      <td>449399.0</td>\n",
       "      <td>President_Zakir_Husain_1998_stamp_of_India_%28...</td>\n",
       "      <td>http://www.britannica.com/EBchecked/topic/2774...</td>\n",
       "    </tr>\n",
       "    <tr>\n",
       "      <th>4442</th>\n",
       "      <td>4442</td>\n",
       "      <td>4442</td>\n",
       "      <td>4442</td>\n",
       "      <td>4442</td>\n",
       "      <td>Zakir Hussain (musician)</td>\n",
       "      <td>https://en.wikipedia.org/wiki/Zakir_Hussain_(m...</td>\n",
       "      <td>1988.0</td>\n",
       "      <td>United States</td>\n",
       "      <td>Arts</td>\n",
       "      <td>R. Venkataraman</td>\n",
       "      <td>2002.0</td>\n",
       "      <td>Maharashtra</td>\n",
       "      <td>Arts</td>\n",
       "      <td>K. R. Narayanan</td>\n",
       "      <td>NaN</td>\n",
       "      <td>NaN</td>\n",
       "      <td>NaN</td>\n",
       "      <td>NaN</td>\n",
       "      <td>(1951-03-09)9 March 1951(age 70)\\nBombay,Mahar...</td>\n",
       "      <td>(1951-03-09)9 March 1951(age 70)</td>\n",
       "      <td>Bombay,Maharashtra, India</td>\n",
       "      <td>NaN</td>\n",
       "      <td>NaN</td>\n",
       "      <td>NaN</td>\n",
       "      <td>NaN</td>\n",
       "      <td>NaN</td>\n",
       "      <td>NaN</td>\n",
       "      <td>NaN</td>\n",
       "      <td>NaN</td>\n",
       "      <td>NaN</td>\n",
       "      <td>No</td>\n",
       "      <td>No</td>\n",
       "      <td>290259.0</td>\n",
       "      <td>Ustad_Zakir_Hussain_1.jpg</td>\n",
       "      <td>http://www.grammy.com/nominees/search?artist=Z...</td>\n",
       "    </tr>\n",
       "    <tr>\n",
       "      <th>4443</th>\n",
       "      <td>4443</td>\n",
       "      <td>4443</td>\n",
       "      <td>4443</td>\n",
       "      <td>4443</td>\n",
       "      <td>Zal Sohrab Tarapore</td>\n",
       "      <td>NaN</td>\n",
       "      <td>1992.0</td>\n",
       "      <td>Maharashtra, India</td>\n",
       "      <td>Science and Engineering</td>\n",
       "      <td>R. Venkataraman</td>\n",
       "      <td>NaN</td>\n",
       "      <td>NaN</td>\n",
       "      <td>NaN</td>\n",
       "      <td>NaN</td>\n",
       "      <td>NaN</td>\n",
       "      <td>NaN</td>\n",
       "      <td>NaN</td>\n",
       "      <td>NaN</td>\n",
       "      <td>NaN</td>\n",
       "      <td>NaN</td>\n",
       "      <td>NaN</td>\n",
       "      <td>NaN</td>\n",
       "      <td>NaN</td>\n",
       "      <td>NaN</td>\n",
       "      <td>NaN</td>\n",
       "      <td>NaN</td>\n",
       "      <td>NaN</td>\n",
       "      <td>NaN</td>\n",
       "      <td>NaN</td>\n",
       "      <td>NaN</td>\n",
       "      <td>No</td>\n",
       "      <td>No</td>\n",
       "      <td>NaN</td>\n",
       "      <td>NaN</td>\n",
       "      <td>NaN</td>\n",
       "    </tr>\n",
       "    <tr>\n",
       "      <th>4444</th>\n",
       "      <td>4444</td>\n",
       "      <td>4444</td>\n",
       "      <td>4444</td>\n",
       "      <td>4444</td>\n",
       "      <td>Zarina Currimbhoy</td>\n",
       "      <td>NaN</td>\n",
       "      <td>1955.0</td>\n",
       "      <td>Maharashtra, India</td>\n",
       "      <td>Social Work</td>\n",
       "      <td>Rajendra Prasad</td>\n",
       "      <td>NaN</td>\n",
       "      <td>NaN</td>\n",
       "      <td>NaN</td>\n",
       "      <td>NaN</td>\n",
       "      <td>NaN</td>\n",
       "      <td>NaN</td>\n",
       "      <td>NaN</td>\n",
       "      <td>NaN</td>\n",
       "      <td>NaN</td>\n",
       "      <td>NaN</td>\n",
       "      <td>NaN</td>\n",
       "      <td>NaN</td>\n",
       "      <td>NaN</td>\n",
       "      <td>NaN</td>\n",
       "      <td>NaN</td>\n",
       "      <td>NaN</td>\n",
       "      <td>NaN</td>\n",
       "      <td>NaN</td>\n",
       "      <td>NaN</td>\n",
       "      <td>NaN</td>\n",
       "      <td>No</td>\n",
       "      <td>No</td>\n",
       "      <td>NaN</td>\n",
       "      <td>NaN</td>\n",
       "      <td>NaN</td>\n",
       "    </tr>\n",
       "    <tr>\n",
       "      <th>4445</th>\n",
       "      <td>4445</td>\n",
       "      <td>4445</td>\n",
       "      <td>4445</td>\n",
       "      <td>4445</td>\n",
       "      <td>Zaverilal Mehta</td>\n",
       "      <td>https://en.wikipedia.org/wiki/Zaverilal_Mehta</td>\n",
       "      <td>2018.0</td>\n",
       "      <td>Gujarat, India</td>\n",
       "      <td>Literature and Education</td>\n",
       "      <td>Ram Nath Kovind</td>\n",
       "      <td>NaN</td>\n",
       "      <td>NaN</td>\n",
       "      <td>NaN</td>\n",
       "      <td>NaN</td>\n",
       "      <td>NaN</td>\n",
       "      <td>NaN</td>\n",
       "      <td>NaN</td>\n",
       "      <td>NaN</td>\n",
       "      <td>Gujarat</td>\n",
       "      <td>NaN</td>\n",
       "      <td>NaN</td>\n",
       "      <td>NaN</td>\n",
       "      <td>NaN</td>\n",
       "      <td>NaN</td>\n",
       "      <td>Indian</td>\n",
       "      <td>NaN</td>\n",
       "      <td>NaN</td>\n",
       "      <td>NaN</td>\n",
       "      <td>Padma Sri(2018)</td>\n",
       "      <td>Photographer</td>\n",
       "      <td>No</td>\n",
       "      <td>No</td>\n",
       "      <td>59179521.0</td>\n",
       "      <td>NaN</td>\n",
       "      <td>http://deshgujarat.com/2018/01/25/zaverilal-me...</td>\n",
       "    </tr>\n",
       "    <tr>\n",
       "      <th>4446</th>\n",
       "      <td>4446</td>\n",
       "      <td>4446</td>\n",
       "      <td>4446</td>\n",
       "      <td>4446</td>\n",
       "      <td>Zehra Ali Yavar Jung</td>\n",
       "      <td>https://en.wikipedia.org/wiki/Zehra_Ali_Yavar_...</td>\n",
       "      <td>NaN</td>\n",
       "      <td>NaN</td>\n",
       "      <td>NaN</td>\n",
       "      <td>NaN</td>\n",
       "      <td>1976.0</td>\n",
       "      <td>Andhra Pradesh, India</td>\n",
       "      <td>Social Work</td>\n",
       "      <td>Fakhruddin Ali Ahmed</td>\n",
       "      <td>NaN</td>\n",
       "      <td>NaN</td>\n",
       "      <td>NaN</td>\n",
       "      <td>NaN</td>\n",
       "      <td>India</td>\n",
       "      <td>NaN</td>\n",
       "      <td>NaN</td>\n",
       "      <td>NaN</td>\n",
       "      <td>NaN</td>\n",
       "      <td>NaN</td>\n",
       "      <td>Indian</td>\n",
       "      <td>Ali Yavar Jung</td>\n",
       "      <td>NaN</td>\n",
       "      <td>NaN</td>\n",
       "      <td>Padma Bhushan</td>\n",
       "      <td>Social worker</td>\n",
       "      <td>No</td>\n",
       "      <td>No</td>\n",
       "      <td>51105593.0</td>\n",
       "      <td>Abdel_Nasser_holds_a_dinner_for_Ali_Yavar_Jung...</td>\n",
       "      <td>http://www.busybeeforever.com/viewart.asp?sect...</td>\n",
       "    </tr>\n",
       "    <tr>\n",
       "      <th>4447</th>\n",
       "      <td>4447</td>\n",
       "      <td>4447</td>\n",
       "      <td>4447</td>\n",
       "      <td>4447</td>\n",
       "      <td>Zohra Sehgal</td>\n",
       "      <td>https://en.wikipedia.org/wiki/Zohra_Sehgal</td>\n",
       "      <td>1998.0</td>\n",
       "      <td>Delhi</td>\n",
       "      <td>Arts</td>\n",
       "      <td>K. R. Narayanan</td>\n",
       "      <td>NaN</td>\n",
       "      <td>NaN</td>\n",
       "      <td>NaN</td>\n",
       "      <td>NaN</td>\n",
       "      <td>2010.0</td>\n",
       "      <td>Delhi</td>\n",
       "      <td>Arts</td>\n",
       "      <td>Pratibha Patil</td>\n",
       "      <td>Sahibzadi Zohra Mumtazullah Khan Begum\\n(1912-...</td>\n",
       "      <td>(1912-04-27)27 April 1912</td>\n",
       "      <td>NaN</td>\n",
       "      <td>10 July 2014(2014-07-10)(aged 102)\\nDelhi, India</td>\n",
       "      <td>10 July 2014(2014-07-10)(aged 102)</td>\n",
       "      <td>Delhi, India</td>\n",
       "      <td>NaN</td>\n",
       "      <td>Kameshwar Nath Segal</td>\n",
       "      <td>NaN</td>\n",
       "      <td>NaN</td>\n",
       "      <td>NaN</td>\n",
       "      <td>Actress, dancer, choreographer</td>\n",
       "      <td>Yes</td>\n",
       "      <td>No</td>\n",
       "      <td>11975908.0</td>\n",
       "      <td>Zohra_Segal_on_April_07%2C_2010_%28cropped%29.jpg</td>\n",
       "      <td>http://news.biharprabha.com/2014/07/actress-zo...</td>\n",
       "    </tr>\n",
       "    <tr>\n",
       "      <th>4448</th>\n",
       "      <td>4448</td>\n",
       "      <td>4448</td>\n",
       "      <td>4448</td>\n",
       "      <td>4448</td>\n",
       "      <td>Zubin Mehta</td>\n",
       "      <td>https://en.wikipedia.org/wiki/Zubin_Mehta</td>\n",
       "      <td>NaN</td>\n",
       "      <td>NaN</td>\n",
       "      <td>NaN</td>\n",
       "      <td>NaN</td>\n",
       "      <td>1966.0</td>\n",
       "      <td>—[D]</td>\n",
       "      <td>Arts</td>\n",
       "      <td>Sarvepalli Radhakrishnan</td>\n",
       "      <td>2001.0</td>\n",
       "      <td>United Arab Emirates(Country)</td>\n",
       "      <td>Arts</td>\n",
       "      <td>K. R. Narayanan</td>\n",
       "      <td>(1936-04-29)29 April 1936(age 85)\\nBombay,Bomb...</td>\n",
       "      <td>(1936-04-29)29 April 1936(age 85)</td>\n",
       "      <td>Bombay,Bombay Presidency,British India\\n(nowMu...</td>\n",
       "      <td>NaN</td>\n",
       "      <td>NaN</td>\n",
       "      <td>NaN</td>\n",
       "      <td>NaN</td>\n",
       "      <td>Carmen Lasky​​(m.1958;div.1964)​\\nNancy Kovack...</td>\n",
       "      <td>NaN</td>\n",
       "      <td>NaN</td>\n",
       "      <td>NaN</td>\n",
       "      <td>Conductor</td>\n",
       "      <td>No</td>\n",
       "      <td>No</td>\n",
       "      <td>318375.0</td>\n",
       "      <td>Zubin_Mehta_1.jpg</td>\n",
       "      <td>http://archives.concordia.ca/mehta;http://data...</td>\n",
       "    </tr>\n",
       "  </tbody>\n",
       "</table>\n",
       "</div>"
      ],
      "text/plain": [
       "      level_0  index  Unnamed: 0  Unnamed: 0.1                             Recipients                                           WikiLink  Padma Shri Year    Padma Shri State          Padma Shri Field Padma Shri Awarded By  Padma Bhushan Year    Padma Bhushan State Padma Bhushan Field  Padma Bhushan Awarded By  Padma Vibhushan Year          Padma Vibhushan State Padma Vibhushan Field Padma Vibhushan Awarded By                                               Born                          Birth Date                                     Place of Birth                                               Died                          Death Date               Place of Death Nationality                                             Spouse                                         Alma mater Institutions                       Other Awards including Padma                      Occupation Election Year Posthumus     Page Id                                              image  \\\n",
       "4439     4439   4439        4439          4439                            Zaheer Khan          https://en.wikipedia.org/wiki/Zaheer_Khan           2020.0  Maharashtra, India                    Sports       Ram Nath Kovind                 NaN                    NaN                 NaN                       NaN                   NaN                            NaN                   NaN                        NaN  (1978-10-08)8 October 1978(age 43)\\nShrirampur...  (1978-10-08)8 October 1978(age 43)                      Shrirampur,Maharashtra, India                                                NaN                                 NaN                          NaN         NaN                                                NaN                                                NaN          NaN                                                NaN                             NaN            No        No    679977.0                                    Zaheer_Khan.jpg   \n",
       "4440     4440   4440        4440          4440  Zainulabedin Gulam Husain Rangoonwala  https://en.wikipedia.org/wiki/Zainulabedin_Gul...           1984.0  Maharashtra, India               Social Work            Zail Singh                 NaN                    NaN                 NaN                       NaN                   NaN                            NaN                   NaN                        NaN            (1913-07-01)July 1, 1913\\nRangoon,Burma            (1913-07-01)July 1, 1913                                      Rangoon,Burma  (1994-05-28)May 28, 1994 (age 80)\\nPeterboroug...   (1994-05-28)May 28, 1994 (age 80)  Peterborough,United Kingdom      Indian                                                NaN                                                NaN          NaN  Padmashri 1984, \\nRajiv Gandhi Medal of Merit ...                             NaN           Yes        No  50998235.0                               Zain_Rangoonwala.jpg   \n",
       "4441     4441   4441        4441          4441                           Zakir Husain  https://en.wikipedia.org/wiki/Zakir_Husain_(po...              NaN                 NaN                       NaN                   NaN                 NaN                    NaN                 NaN                       NaN                1954.0          Andhra Pradesh, India        Public Affairs            Rajendra Prasad  (1897-02-08)8 February 1897\\nHyderabad,British...         (1897-02-08)8 February 1897                         Hyderabad,British India[1]  3 May 1969(1969-05-03)(aged 72)\\nNew Delhi, India     3 May 1969(1969-05-03)(aged 72)             New Delhi, India         NaN                                   Shah Jahan Begum  University of Lucknow\\nMohammedan Anglo-Orient...          NaN                Bharat Ratna(1963)\\nPadma Vibhushan                             NaN            No        No    449399.0  President_Zakir_Husain_1998_stamp_of_India_%28...   \n",
       "4442     4442   4442        4442          4442               Zakir Hussain (musician)  https://en.wikipedia.org/wiki/Zakir_Hussain_(m...           1988.0       United States                      Arts       R. Venkataraman              2002.0            Maharashtra                Arts           K. R. Narayanan                   NaN                            NaN                   NaN                        NaN  (1951-03-09)9 March 1951(age 70)\\nBombay,Mahar...    (1951-03-09)9 March 1951(age 70)                          Bombay,Maharashtra, India                                                NaN                                 NaN                          NaN         NaN                                                NaN                                                NaN          NaN                                                NaN                             NaN            No        No    290259.0                          Ustad_Zakir_Hussain_1.jpg   \n",
       "4443     4443   4443        4443          4443                    Zal Sohrab Tarapore                                                NaN           1992.0  Maharashtra, India   Science and Engineering       R. Venkataraman                 NaN                    NaN                 NaN                       NaN                   NaN                            NaN                   NaN                        NaN                                                NaN                                 NaN                                                NaN                                                NaN                                 NaN                          NaN         NaN                                                NaN                                                NaN          NaN                                                NaN                             NaN            No        No         NaN                                                NaN   \n",
       "4444     4444   4444        4444          4444                      Zarina Currimbhoy                                                NaN           1955.0  Maharashtra, India               Social Work       Rajendra Prasad                 NaN                    NaN                 NaN                       NaN                   NaN                            NaN                   NaN                        NaN                                                NaN                                 NaN                                                NaN                                                NaN                                 NaN                          NaN         NaN                                                NaN                                                NaN          NaN                                                NaN                             NaN            No        No         NaN                                                NaN   \n",
       "4445     4445   4445        4445          4445                        Zaverilal Mehta      https://en.wikipedia.org/wiki/Zaverilal_Mehta           2018.0      Gujarat, India  Literature and Education       Ram Nath Kovind                 NaN                    NaN                 NaN                       NaN                   NaN                            NaN                   NaN                        NaN                                            Gujarat                                 NaN                                                NaN                                                NaN                                 NaN                          NaN      Indian                                                NaN                                                NaN          NaN                                    Padma Sri(2018)                    Photographer            No        No  59179521.0                                                NaN   \n",
       "4446     4446   4446        4446          4446                   Zehra Ali Yavar Jung  https://en.wikipedia.org/wiki/Zehra_Ali_Yavar_...              NaN                 NaN                       NaN                   NaN              1976.0  Andhra Pradesh, India         Social Work      Fakhruddin Ali Ahmed                   NaN                            NaN                   NaN                        NaN                                              India                                 NaN                                                NaN                                                NaN                                 NaN                          NaN      Indian                                     Ali Yavar Jung                                                NaN          NaN                                      Padma Bhushan                   Social worker            No        No  51105593.0  Abdel_Nasser_holds_a_dinner_for_Ali_Yavar_Jung...   \n",
       "4447     4447   4447        4447          4447                           Zohra Sehgal         https://en.wikipedia.org/wiki/Zohra_Sehgal           1998.0               Delhi                      Arts       K. R. Narayanan                 NaN                    NaN                 NaN                       NaN                2010.0                          Delhi                  Arts             Pratibha Patil  Sahibzadi Zohra Mumtazullah Khan Begum\\n(1912-...           (1912-04-27)27 April 1912                                                NaN   10 July 2014(2014-07-10)(aged 102)\\nDelhi, India  10 July 2014(2014-07-10)(aged 102)                 Delhi, India         NaN                               Kameshwar Nath Segal                                                NaN          NaN                                                NaN  Actress, dancer, choreographer           Yes        No  11975908.0  Zohra_Segal_on_April_07%2C_2010_%28cropped%29.jpg   \n",
       "4448     4448   4448        4448          4448                            Zubin Mehta          https://en.wikipedia.org/wiki/Zubin_Mehta              NaN                 NaN                       NaN                   NaN              1966.0                   —[D]                Arts  Sarvepalli Radhakrishnan                2001.0  United Arab Emirates(Country)                  Arts            K. R. Narayanan  (1936-04-29)29 April 1936(age 85)\\nBombay,Bomb...   (1936-04-29)29 April 1936(age 85)  Bombay,Bombay Presidency,British India\\n(nowMu...                                                NaN                                 NaN                          NaN         NaN  Carmen Lasky​​(m.1958;div.1964)​\\nNancy Kovack...                                                NaN          NaN                                                NaN                       Conductor            No        No    318375.0                                  Zubin_Mehta_1.jpg   \n",
       "\n",
       "                                                    Ref  \n",
       "4439  http://content-aus.cricinfo.com/ci/content/pla...  \n",
       "4440  http://www.bmcbankltd.com;http://www.bmcbanklt...  \n",
       "4441  http://www.britannica.com/EBchecked/topic/2774...  \n",
       "4442  http://www.grammy.com/nominees/search?artist=Z...  \n",
       "4443                                                NaN  \n",
       "4444                                                NaN  \n",
       "4445  http://deshgujarat.com/2018/01/25/zaverilal-me...  \n",
       "4446  http://www.busybeeforever.com/viewart.asp?sect...  \n",
       "4447  http://news.biharprabha.com/2014/07/actress-zo...  \n",
       "4448  http://archives.concordia.ca/mehta;http://data...  "
      ]
     },
     "execution_count": 32,
     "metadata": {},
     "output_type": "execute_result"
    }
   ],
   "source": [
    "awards.tail(10)"
   ]
  },
  {
   "cell_type": "code",
   "execution_count": 31,
   "metadata": {},
   "outputs": [],
   "source": [
    "out('4_02_Ref',awards)"
   ]
  },
  {
   "cell_type": "code",
   "execution_count": null,
   "metadata": {},
   "outputs": [],
   "source": []
  }
 ],
 "metadata": {
  "kernelspec": {
   "display_name": "AkWiki",
   "language": "python",
   "name": "indicwiki"
  },
  "language_info": {
   "codemirror_mode": {
    "name": "ipython",
    "version": 3
   },
   "file_extension": ".py",
   "mimetype": "text/x-python",
   "name": "python",
   "nbconvert_exporter": "python",
   "pygments_lexer": "ipython3",
   "version": "3.9.12"
  },
  "orig_nbformat": 4
 },
 "nbformat": 4,
 "nbformat_minor": 2
}
